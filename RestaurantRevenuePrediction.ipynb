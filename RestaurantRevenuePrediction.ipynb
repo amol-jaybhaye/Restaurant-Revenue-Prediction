{
 "cells": [
  {
   "cell_type": "code",
   "execution_count": 1,
   "id": "ca083175",
   "metadata": {
    "_cell_guid": "b1076dfc-b9ad-4769-8c92-a6c4dae69d19",
    "_uuid": "8f2839f25d086af736a60e9eeb907d3b93b6e0e5",
    "execution": {
     "iopub.execute_input": "2024-08-26T16:52:26.507076Z",
     "iopub.status.busy": "2024-08-26T16:52:26.506684Z",
     "iopub.status.idle": "2024-08-26T16:52:27.286166Z",
     "shell.execute_reply": "2024-08-26T16:52:27.285145Z"
    },
    "papermill": {
     "duration": 0.792384,
     "end_time": "2024-08-26T16:52:27.288470",
     "exception": false,
     "start_time": "2024-08-26T16:52:26.496086",
     "status": "completed"
    },
    "tags": []
   },
   "outputs": [
    {
     "name": "stdout",
     "output_type": "stream",
     "text": [
      "/kaggle/input/restaurant-revenue-prediction-dataset/restaurant_data.csv\n"
     ]
    }
   ],
   "source": [
    "# This Python 3 environment comes with many helpful analytics libraries installed\n",
    "# It is defined by the kaggle/python Docker image: https://github.com/kaggle/docker-python\n",
    "# For example, here's several helpful packages to load\n",
    "\n",
    "import numpy as np # linear algebra\n",
    "import pandas as pd # data processing, CSV file I/O (e.g. pd.read_csv)\n",
    "\n",
    "# Input data files are available in the read-only \"../input/\" directory\n",
    "# For example, running this (by clicking run or pressing Shift+Enter) will list all files under the input directory\n",
    "\n",
    "import os\n",
    "for dirname, _, filenames in os.walk('/kaggle/input'):\n",
    "    for filename in filenames:\n",
    "        print(os.path.join(dirname, filename))\n",
    "\n",
    "# You can write up to 20GB to the current directory (/kaggle/working/) that gets preserved as output when you create a version using \"Save & Run All\" \n",
    "# You can also write temporary files to /kaggle/temp/, but they won't be saved outside of the current session"
   ]
  },
  {
   "cell_type": "code",
   "execution_count": 2,
   "id": "eb329df8",
   "metadata": {
    "execution": {
     "iopub.execute_input": "2024-08-26T16:52:27.307891Z",
     "iopub.status.busy": "2024-08-26T16:52:27.307409Z",
     "iopub.status.idle": "2024-08-26T16:52:28.695162Z",
     "shell.execute_reply": "2024-08-26T16:52:28.694193Z"
    },
    "papermill": {
     "duration": 1.400291,
     "end_time": "2024-08-26T16:52:28.697694",
     "exception": false,
     "start_time": "2024-08-26T16:52:27.297403",
     "status": "completed"
    },
    "tags": []
   },
   "outputs": [],
   "source": [
    "from sklearn.model_selection import train_test_split\n",
    "from sklearn.linear_model import LinearRegression\n",
    "from sklearn.metrics import mean_squared_error, r2_score, mean_absolute_error\n",
    "from sklearn.linear_model import Ridge, Lasso\n",
    "from sklearn.model_selection import train_test_split, RandomizedSearchCV\n",
    "from sklearn.linear_model import Ridge, Lasso\n",
    "from scipy.stats import uniform\n",
    "from sklearn.ensemble import GradientBoostingRegressor, RandomForestRegressor\n",
    "from sklearn.tree import DecisionTreeRegressor"
   ]
  },
  {
   "cell_type": "code",
   "execution_count": 3,
   "id": "0a5ad1b3",
   "metadata": {
    "execution": {
     "iopub.execute_input": "2024-08-26T16:52:28.717377Z",
     "iopub.status.busy": "2024-08-26T16:52:28.716465Z",
     "iopub.status.idle": "2024-08-26T16:52:28.800243Z",
     "shell.execute_reply": "2024-08-26T16:52:28.799239Z"
    },
    "papermill": {
     "duration": 0.096014,
     "end_time": "2024-08-26T16:52:28.802530",
     "exception": false,
     "start_time": "2024-08-26T16:52:28.706516",
     "status": "completed"
    },
    "tags": []
   },
   "outputs": [
    {
     "data": {
      "text/html": [
       "<div>\n",
       "<style scoped>\n",
       "    .dataframe tbody tr th:only-of-type {\n",
       "        vertical-align: middle;\n",
       "    }\n",
       "\n",
       "    .dataframe tbody tr th {\n",
       "        vertical-align: top;\n",
       "    }\n",
       "\n",
       "    .dataframe thead th {\n",
       "        text-align: right;\n",
       "    }\n",
       "</style>\n",
       "<table border=\"1\" class=\"dataframe\">\n",
       "  <thead>\n",
       "    <tr style=\"text-align: right;\">\n",
       "      <th></th>\n",
       "      <th>Name</th>\n",
       "      <th>Location</th>\n",
       "      <th>Cuisine</th>\n",
       "      <th>Rating</th>\n",
       "      <th>Seating Capacity</th>\n",
       "      <th>Average Meal Price</th>\n",
       "      <th>Marketing Budget</th>\n",
       "      <th>Social Media Followers</th>\n",
       "      <th>Chef Experience Years</th>\n",
       "      <th>Number of Reviews</th>\n",
       "      <th>Avg Review Length</th>\n",
       "      <th>Ambience Score</th>\n",
       "      <th>Service Quality Score</th>\n",
       "      <th>Parking Availability</th>\n",
       "      <th>Weekend Reservations</th>\n",
       "      <th>Weekday Reservations</th>\n",
       "      <th>Revenue</th>\n",
       "    </tr>\n",
       "  </thead>\n",
       "  <tbody>\n",
       "    <tr>\n",
       "      <th>0</th>\n",
       "      <td>Restaurant 0</td>\n",
       "      <td>Rural</td>\n",
       "      <td>Japanese</td>\n",
       "      <td>4.0</td>\n",
       "      <td>38</td>\n",
       "      <td>73.98</td>\n",
       "      <td>2224</td>\n",
       "      <td>23406</td>\n",
       "      <td>13</td>\n",
       "      <td>185</td>\n",
       "      <td>161.924906</td>\n",
       "      <td>1.3</td>\n",
       "      <td>7.0</td>\n",
       "      <td>Yes</td>\n",
       "      <td>13</td>\n",
       "      <td>4</td>\n",
       "      <td>638945.52</td>\n",
       "    </tr>\n",
       "    <tr>\n",
       "      <th>1</th>\n",
       "      <td>Restaurant 1</td>\n",
       "      <td>Downtown</td>\n",
       "      <td>Mexican</td>\n",
       "      <td>3.2</td>\n",
       "      <td>76</td>\n",
       "      <td>28.11</td>\n",
       "      <td>4416</td>\n",
       "      <td>42741</td>\n",
       "      <td>8</td>\n",
       "      <td>533</td>\n",
       "      <td>148.759717</td>\n",
       "      <td>2.6</td>\n",
       "      <td>3.4</td>\n",
       "      <td>Yes</td>\n",
       "      <td>48</td>\n",
       "      <td>6</td>\n",
       "      <td>490207.83</td>\n",
       "    </tr>\n",
       "    <tr>\n",
       "      <th>2</th>\n",
       "      <td>Restaurant 2</td>\n",
       "      <td>Rural</td>\n",
       "      <td>Italian</td>\n",
       "      <td>4.7</td>\n",
       "      <td>48</td>\n",
       "      <td>48.29</td>\n",
       "      <td>2796</td>\n",
       "      <td>37285</td>\n",
       "      <td>18</td>\n",
       "      <td>853</td>\n",
       "      <td>56.849189</td>\n",
       "      <td>5.3</td>\n",
       "      <td>6.7</td>\n",
       "      <td>No</td>\n",
       "      <td>27</td>\n",
       "      <td>14</td>\n",
       "      <td>541368.62</td>\n",
       "    </tr>\n",
       "    <tr>\n",
       "      <th>3</th>\n",
       "      <td>Restaurant 3</td>\n",
       "      <td>Rural</td>\n",
       "      <td>Italian</td>\n",
       "      <td>4.4</td>\n",
       "      <td>34</td>\n",
       "      <td>51.55</td>\n",
       "      <td>1167</td>\n",
       "      <td>15214</td>\n",
       "      <td>13</td>\n",
       "      <td>82</td>\n",
       "      <td>205.433265</td>\n",
       "      <td>4.6</td>\n",
       "      <td>2.8</td>\n",
       "      <td>Yes</td>\n",
       "      <td>9</td>\n",
       "      <td>17</td>\n",
       "      <td>404556.80</td>\n",
       "    </tr>\n",
       "    <tr>\n",
       "      <th>4</th>\n",
       "      <td>Restaurant 4</td>\n",
       "      <td>Downtown</td>\n",
       "      <td>Japanese</td>\n",
       "      <td>4.9</td>\n",
       "      <td>88</td>\n",
       "      <td>75.98</td>\n",
       "      <td>3639</td>\n",
       "      <td>40171</td>\n",
       "      <td>9</td>\n",
       "      <td>78</td>\n",
       "      <td>241.681584</td>\n",
       "      <td>8.6</td>\n",
       "      <td>2.1</td>\n",
       "      <td>No</td>\n",
       "      <td>37</td>\n",
       "      <td>26</td>\n",
       "      <td>1491046.35</td>\n",
       "    </tr>\n",
       "  </tbody>\n",
       "</table>\n",
       "</div>"
      ],
      "text/plain": [
       "           Name  Location   Cuisine  Rating  Seating Capacity  \\\n",
       "0  Restaurant 0     Rural  Japanese     4.0                38   \n",
       "1  Restaurant 1  Downtown   Mexican     3.2                76   \n",
       "2  Restaurant 2     Rural   Italian     4.7                48   \n",
       "3  Restaurant 3     Rural   Italian     4.4                34   \n",
       "4  Restaurant 4  Downtown  Japanese     4.9                88   \n",
       "\n",
       "   Average Meal Price  Marketing Budget  Social Media Followers  \\\n",
       "0               73.98              2224                   23406   \n",
       "1               28.11              4416                   42741   \n",
       "2               48.29              2796                   37285   \n",
       "3               51.55              1167                   15214   \n",
       "4               75.98              3639                   40171   \n",
       "\n",
       "   Chef Experience Years  Number of Reviews  Avg Review Length  \\\n",
       "0                     13                185         161.924906   \n",
       "1                      8                533         148.759717   \n",
       "2                     18                853          56.849189   \n",
       "3                     13                 82         205.433265   \n",
       "4                      9                 78         241.681584   \n",
       "\n",
       "   Ambience Score  Service Quality Score Parking Availability  \\\n",
       "0             1.3                    7.0                  Yes   \n",
       "1             2.6                    3.4                  Yes   \n",
       "2             5.3                    6.7                   No   \n",
       "3             4.6                    2.8                  Yes   \n",
       "4             8.6                    2.1                   No   \n",
       "\n",
       "   Weekend Reservations  Weekday Reservations     Revenue  \n",
       "0                    13                     4   638945.52  \n",
       "1                    48                     6   490207.83  \n",
       "2                    27                    14   541368.62  \n",
       "3                     9                    17   404556.80  \n",
       "4                    37                    26  1491046.35  "
      ]
     },
     "execution_count": 3,
     "metadata": {},
     "output_type": "execute_result"
    }
   ],
   "source": [
    "df = pd.read_csv('/kaggle/input/restaurant-revenue-prediction-dataset/restaurant_data.csv')\n",
    "df.head()"
   ]
  },
  {
   "cell_type": "code",
   "execution_count": 4,
   "id": "0800ac77",
   "metadata": {
    "execution": {
     "iopub.execute_input": "2024-08-26T16:52:28.822325Z",
     "iopub.status.busy": "2024-08-26T16:52:28.821644Z",
     "iopub.status.idle": "2024-08-26T16:52:28.828018Z",
     "shell.execute_reply": "2024-08-26T16:52:28.827077Z"
    },
    "papermill": {
     "duration": 0.018475,
     "end_time": "2024-08-26T16:52:28.830032",
     "exception": false,
     "start_time": "2024-08-26T16:52:28.811557",
     "status": "completed"
    },
    "tags": []
   },
   "outputs": [
    {
     "data": {
      "text/plain": [
       "Index(['Name', 'Location', 'Cuisine', 'Rating', 'Seating Capacity',\n",
       "       'Average Meal Price', 'Marketing Budget', 'Social Media Followers',\n",
       "       'Chef Experience Years', 'Number of Reviews', 'Avg Review Length',\n",
       "       'Ambience Score', 'Service Quality Score', 'Parking Availability',\n",
       "       'Weekend Reservations', 'Weekday Reservations', 'Revenue'],\n",
       "      dtype='object')"
      ]
     },
     "execution_count": 4,
     "metadata": {},
     "output_type": "execute_result"
    }
   ],
   "source": [
    "#Coulumns from dataset\n",
    "df.columns"
   ]
  },
  {
   "cell_type": "markdown",
   "id": "39b7d23c",
   "metadata": {
    "papermill": {
     "duration": 0.009293,
     "end_time": "2024-08-26T16:52:28.849271",
     "exception": false,
     "start_time": "2024-08-26T16:52:28.839978",
     "status": "completed"
    },
    "tags": []
   },
   "source": [
    "# **Understanding the Data**\n",
    "\n",
    "**Name**: Identifier for the restaurant\n",
    "\n",
    "**Location**: Categorical feature indicating the restaurant's location.\n",
    "\n",
    "**Cuisine**: Categorical feature indicating the type of cuisine.\n",
    "\n",
    "**Rating**: Numerical feature for average rating.\n",
    "\n",
    "**Seating Capacity**: Numerical feature for the number of seats.\n",
    "\n",
    "**Average Meal Price**: Numerical feature for average meal cost.\n",
    "\n",
    "**Marketing Budget**: Numerical feature for marketing expenses.\n",
    "\n",
    "**Social Media Followers**: Numerical feature for the number of followers.\n",
    "\n",
    "**Chef Experience Years**: Numerical feature for the chef's experience.\n",
    "\n",
    "**Number of Reviews**: Numerical feature for the total reviews.\n",
    "\n",
    "**Avg Review Length**: Numerical feature for the average review length.\n",
    "\n",
    "**Ambience Score**: Numerical feature for the ambience.\n",
    "\n",
    "**Service Quality Score**: Numerical feature for service quality.\n",
    "\n",
    "**Parking Availability**: Categorical feature indicating if parking is available.\n",
    "\n",
    "**Weekend Reservations**: Numerical feature for weekend reservations.\n",
    "\n",
    "**Weekday Reservations**: Numerical feature for weekday reservations.\n",
    "\n",
    "**Revenue**: Target variable, numerical feature for total revenue."
   ]
  },
  {
   "cell_type": "code",
   "execution_count": 5,
   "id": "61fa7ecd",
   "metadata": {
    "execution": {
     "iopub.execute_input": "2024-08-26T16:52:28.869672Z",
     "iopub.status.busy": "2024-08-26T16:52:28.868717Z",
     "iopub.status.idle": "2024-08-26T16:52:28.919171Z",
     "shell.execute_reply": "2024-08-26T16:52:28.918123Z"
    },
    "papermill": {
     "duration": 0.063015,
     "end_time": "2024-08-26T16:52:28.921480",
     "exception": false,
     "start_time": "2024-08-26T16:52:28.858465",
     "status": "completed"
    },
    "tags": []
   },
   "outputs": [
    {
     "data": {
      "text/html": [
       "<div>\n",
       "<style scoped>\n",
       "    .dataframe tbody tr th:only-of-type {\n",
       "        vertical-align: middle;\n",
       "    }\n",
       "\n",
       "    .dataframe tbody tr th {\n",
       "        vertical-align: top;\n",
       "    }\n",
       "\n",
       "    .dataframe thead th {\n",
       "        text-align: right;\n",
       "    }\n",
       "</style>\n",
       "<table border=\"1\" class=\"dataframe\">\n",
       "  <thead>\n",
       "    <tr style=\"text-align: right;\">\n",
       "      <th></th>\n",
       "      <th>Rating</th>\n",
       "      <th>Seating Capacity</th>\n",
       "      <th>Average Meal Price</th>\n",
       "      <th>Marketing Budget</th>\n",
       "      <th>Social Media Followers</th>\n",
       "      <th>Chef Experience Years</th>\n",
       "      <th>Number of Reviews</th>\n",
       "      <th>Avg Review Length</th>\n",
       "      <th>Ambience Score</th>\n",
       "      <th>Service Quality Score</th>\n",
       "      <th>Weekend Reservations</th>\n",
       "      <th>Weekday Reservations</th>\n",
       "      <th>Revenue</th>\n",
       "    </tr>\n",
       "  </thead>\n",
       "  <tbody>\n",
       "    <tr>\n",
       "      <th>count</th>\n",
       "      <td>8368.000000</td>\n",
       "      <td>8368.000000</td>\n",
       "      <td>8368.000000</td>\n",
       "      <td>8368.000000</td>\n",
       "      <td>8368.000000</td>\n",
       "      <td>8368.000000</td>\n",
       "      <td>8368.000000</td>\n",
       "      <td>8368.000000</td>\n",
       "      <td>8368.000000</td>\n",
       "      <td>8368.000000</td>\n",
       "      <td>8368.000000</td>\n",
       "      <td>8368.000000</td>\n",
       "      <td>8.368000e+03</td>\n",
       "    </tr>\n",
       "    <tr>\n",
       "      <th>mean</th>\n",
       "      <td>4.008258</td>\n",
       "      <td>60.212835</td>\n",
       "      <td>47.896659</td>\n",
       "      <td>3218.254900</td>\n",
       "      <td>36190.621773</td>\n",
       "      <td>10.051984</td>\n",
       "      <td>523.010397</td>\n",
       "      <td>174.769974</td>\n",
       "      <td>5.521283</td>\n",
       "      <td>5.508772</td>\n",
       "      <td>29.491754</td>\n",
       "      <td>29.235301</td>\n",
       "      <td>6.560706e+05</td>\n",
       "    </tr>\n",
       "    <tr>\n",
       "      <th>std</th>\n",
       "      <td>0.581474</td>\n",
       "      <td>17.399488</td>\n",
       "      <td>14.336767</td>\n",
       "      <td>1824.896053</td>\n",
       "      <td>18630.153330</td>\n",
       "      <td>5.516606</td>\n",
       "      <td>277.215127</td>\n",
       "      <td>71.998060</td>\n",
       "      <td>2.575442</td>\n",
       "      <td>2.586552</td>\n",
       "      <td>20.025415</td>\n",
       "      <td>20.004277</td>\n",
       "      <td>2.674137e+05</td>\n",
       "    </tr>\n",
       "    <tr>\n",
       "      <th>min</th>\n",
       "      <td>3.000000</td>\n",
       "      <td>30.000000</td>\n",
       "      <td>25.000000</td>\n",
       "      <td>604.000000</td>\n",
       "      <td>5277.000000</td>\n",
       "      <td>1.000000</td>\n",
       "      <td>50.000000</td>\n",
       "      <td>50.011717</td>\n",
       "      <td>1.000000</td>\n",
       "      <td>1.000000</td>\n",
       "      <td>0.000000</td>\n",
       "      <td>0.000000</td>\n",
       "      <td>1.847085e+05</td>\n",
       "    </tr>\n",
       "    <tr>\n",
       "      <th>25%</th>\n",
       "      <td>3.500000</td>\n",
       "      <td>45.000000</td>\n",
       "      <td>35.490000</td>\n",
       "      <td>1889.000000</td>\n",
       "      <td>22592.500000</td>\n",
       "      <td>5.000000</td>\n",
       "      <td>277.000000</td>\n",
       "      <td>113.311102</td>\n",
       "      <td>3.300000</td>\n",
       "      <td>3.200000</td>\n",
       "      <td>13.000000</td>\n",
       "      <td>13.000000</td>\n",
       "      <td>4.546514e+05</td>\n",
       "    </tr>\n",
       "    <tr>\n",
       "      <th>50%</th>\n",
       "      <td>4.000000</td>\n",
       "      <td>60.000000</td>\n",
       "      <td>45.535000</td>\n",
       "      <td>2846.500000</td>\n",
       "      <td>32518.500000</td>\n",
       "      <td>10.000000</td>\n",
       "      <td>528.000000</td>\n",
       "      <td>173.910079</td>\n",
       "      <td>5.500000</td>\n",
       "      <td>5.600000</td>\n",
       "      <td>27.000000</td>\n",
       "      <td>26.000000</td>\n",
       "      <td>6.042421e+05</td>\n",
       "    </tr>\n",
       "    <tr>\n",
       "      <th>75%</th>\n",
       "      <td>4.500000</td>\n",
       "      <td>75.000000</td>\n",
       "      <td>60.300000</td>\n",
       "      <td>4008.500000</td>\n",
       "      <td>44566.250000</td>\n",
       "      <td>15.000000</td>\n",
       "      <td>764.250000</td>\n",
       "      <td>237.406885</td>\n",
       "      <td>7.800000</td>\n",
       "      <td>7.800000</td>\n",
       "      <td>43.000000</td>\n",
       "      <td>43.000000</td>\n",
       "      <td>8.130942e+05</td>\n",
       "    </tr>\n",
       "    <tr>\n",
       "      <th>max</th>\n",
       "      <td>5.000000</td>\n",
       "      <td>90.000000</td>\n",
       "      <td>76.000000</td>\n",
       "      <td>9978.000000</td>\n",
       "      <td>103777.000000</td>\n",
       "      <td>19.000000</td>\n",
       "      <td>999.000000</td>\n",
       "      <td>299.984924</td>\n",
       "      <td>10.000000</td>\n",
       "      <td>10.000000</td>\n",
       "      <td>88.000000</td>\n",
       "      <td>88.000000</td>\n",
       "      <td>1.531868e+06</td>\n",
       "    </tr>\n",
       "  </tbody>\n",
       "</table>\n",
       "</div>"
      ],
      "text/plain": [
       "            Rating  Seating Capacity  Average Meal Price  Marketing Budget  \\\n",
       "count  8368.000000       8368.000000         8368.000000       8368.000000   \n",
       "mean      4.008258         60.212835           47.896659       3218.254900   \n",
       "std       0.581474         17.399488           14.336767       1824.896053   \n",
       "min       3.000000         30.000000           25.000000        604.000000   \n",
       "25%       3.500000         45.000000           35.490000       1889.000000   \n",
       "50%       4.000000         60.000000           45.535000       2846.500000   \n",
       "75%       4.500000         75.000000           60.300000       4008.500000   \n",
       "max       5.000000         90.000000           76.000000       9978.000000   \n",
       "\n",
       "       Social Media Followers  Chef Experience Years  Number of Reviews  \\\n",
       "count             8368.000000            8368.000000        8368.000000   \n",
       "mean             36190.621773              10.051984         523.010397   \n",
       "std              18630.153330               5.516606         277.215127   \n",
       "min               5277.000000               1.000000          50.000000   \n",
       "25%              22592.500000               5.000000         277.000000   \n",
       "50%              32518.500000              10.000000         528.000000   \n",
       "75%              44566.250000              15.000000         764.250000   \n",
       "max             103777.000000              19.000000         999.000000   \n",
       "\n",
       "       Avg Review Length  Ambience Score  Service Quality Score  \\\n",
       "count        8368.000000     8368.000000            8368.000000   \n",
       "mean          174.769974        5.521283               5.508772   \n",
       "std            71.998060        2.575442               2.586552   \n",
       "min            50.011717        1.000000               1.000000   \n",
       "25%           113.311102        3.300000               3.200000   \n",
       "50%           173.910079        5.500000               5.600000   \n",
       "75%           237.406885        7.800000               7.800000   \n",
       "max           299.984924       10.000000              10.000000   \n",
       "\n",
       "       Weekend Reservations  Weekday Reservations       Revenue  \n",
       "count           8368.000000           8368.000000  8.368000e+03  \n",
       "mean              29.491754             29.235301  6.560706e+05  \n",
       "std               20.025415             20.004277  2.674137e+05  \n",
       "min                0.000000              0.000000  1.847085e+05  \n",
       "25%               13.000000             13.000000  4.546514e+05  \n",
       "50%               27.000000             26.000000  6.042421e+05  \n",
       "75%               43.000000             43.000000  8.130942e+05  \n",
       "max               88.000000             88.000000  1.531868e+06  "
      ]
     },
     "execution_count": 5,
     "metadata": {},
     "output_type": "execute_result"
    }
   ],
   "source": [
    "df.describe()"
   ]
  },
  {
   "cell_type": "code",
   "execution_count": 6,
   "id": "1d7e4f34",
   "metadata": {
    "execution": {
     "iopub.execute_input": "2024-08-26T16:52:28.942555Z",
     "iopub.status.busy": "2024-08-26T16:52:28.941764Z",
     "iopub.status.idle": "2024-08-26T16:52:28.954116Z",
     "shell.execute_reply": "2024-08-26T16:52:28.953010Z"
    },
    "papermill": {
     "duration": 0.025761,
     "end_time": "2024-08-26T16:52:28.956686",
     "exception": false,
     "start_time": "2024-08-26T16:52:28.930925",
     "status": "completed"
    },
    "tags": []
   },
   "outputs": [
    {
     "name": "stdout",
     "output_type": "stream",
     "text": [
      "                                        Column  Null Count  Null Percentage\n",
      "Name                                      Name           0              0.0\n",
      "Location                              Location           0              0.0\n",
      "Cuisine                                Cuisine           0              0.0\n",
      "Rating                                  Rating           0              0.0\n",
      "Seating Capacity              Seating Capacity           0              0.0\n",
      "Average Meal Price          Average Meal Price           0              0.0\n",
      "Marketing Budget              Marketing Budget           0              0.0\n",
      "Social Media Followers  Social Media Followers           0              0.0\n",
      "Chef Experience Years    Chef Experience Years           0              0.0\n",
      "Number of Reviews            Number of Reviews           0              0.0\n",
      "Avg Review Length            Avg Review Length           0              0.0\n",
      "Ambience Score                  Ambience Score           0              0.0\n",
      "Service Quality Score    Service Quality Score           0              0.0\n",
      "Parking Availability      Parking Availability           0              0.0\n",
      "Weekend Reservations      Weekend Reservations           0              0.0\n",
      "Weekday Reservations      Weekday Reservations           0              0.0\n",
      "Revenue                                Revenue           0              0.0\n"
     ]
    }
   ],
   "source": [
    "# Calculate the number of null values for each column\n",
    "null_counts = df.isnull().sum()\n",
    "\n",
    "# Calculate the percentage of null values for each column\n",
    "null_percentages = (null_counts / len(df)) * 100\n",
    "\n",
    "# Combine the results into a DataFrame for better readability\n",
    "null_summary = pd.DataFrame({\n",
    "    'Column': df.columns,\n",
    "    'Null Count': null_counts,\n",
    "    'Null Percentage': null_percentages\n",
    "})\n",
    "\n",
    "# Display the summary\n",
    "print(null_summary)"
   ]
  },
  {
   "cell_type": "code",
   "execution_count": 7,
   "id": "cb84d120",
   "metadata": {
    "execution": {
     "iopub.execute_input": "2024-08-26T16:52:28.978070Z",
     "iopub.status.busy": "2024-08-26T16:52:28.977197Z",
     "iopub.status.idle": "2024-08-26T16:52:28.989099Z",
     "shell.execute_reply": "2024-08-26T16:52:28.988138Z"
    },
    "papermill": {
     "duration": 0.024867,
     "end_time": "2024-08-26T16:52:28.991179",
     "exception": false,
     "start_time": "2024-08-26T16:52:28.966312",
     "status": "completed"
    },
    "tags": []
   },
   "outputs": [],
   "source": [
    "#Removing Restaurant Name\n",
    "df = df.drop(\"Name\", axis=1)"
   ]
  },
  {
   "cell_type": "code",
   "execution_count": 8,
   "id": "d0ff10ea",
   "metadata": {
    "execution": {
     "iopub.execute_input": "2024-08-26T16:52:29.012440Z",
     "iopub.status.busy": "2024-08-26T16:52:29.012052Z",
     "iopub.status.idle": "2024-08-26T16:52:29.020830Z",
     "shell.execute_reply": "2024-08-26T16:52:29.019965Z"
    },
    "papermill": {
     "duration": 0.021795,
     "end_time": "2024-08-26T16:52:29.022894",
     "exception": false,
     "start_time": "2024-08-26T16:52:29.001099",
     "status": "completed"
    },
    "tags": []
   },
   "outputs": [],
   "source": [
    "#Converting categorical to Numberic\n",
    "#Location and cuisine are two categorical coulms in data\n",
    "\n",
    "unique_location = df['Location'].unique()\n",
    "unique_cuisines = df['Cuisine'].unique()"
   ]
  },
  {
   "cell_type": "code",
   "execution_count": 9,
   "id": "97a9cc8e",
   "metadata": {
    "execution": {
     "iopub.execute_input": "2024-08-26T16:52:29.044317Z",
     "iopub.status.busy": "2024-08-26T16:52:29.043594Z",
     "iopub.status.idle": "2024-08-26T16:52:29.049798Z",
     "shell.execute_reply": "2024-08-26T16:52:29.048712Z"
    },
    "papermill": {
     "duration": 0.019438,
     "end_time": "2024-08-26T16:52:29.051955",
     "exception": false,
     "start_time": "2024-08-26T16:52:29.032517",
     "status": "completed"
    },
    "tags": []
   },
   "outputs": [
    {
     "data": {
      "text/plain": [
       "array(['Rural', 'Downtown', 'Suburban'], dtype=object)"
      ]
     },
     "execution_count": 9,
     "metadata": {},
     "output_type": "execute_result"
    }
   ],
   "source": [
    "unique_location"
   ]
  },
  {
   "cell_type": "code",
   "execution_count": 10,
   "id": "91b07dc5",
   "metadata": {
    "execution": {
     "iopub.execute_input": "2024-08-26T16:52:29.073619Z",
     "iopub.status.busy": "2024-08-26T16:52:29.072710Z",
     "iopub.status.idle": "2024-08-26T16:52:29.079429Z",
     "shell.execute_reply": "2024-08-26T16:52:29.078329Z"
    },
    "papermill": {
     "duration": 0.019989,
     "end_time": "2024-08-26T16:52:29.081686",
     "exception": false,
     "start_time": "2024-08-26T16:52:29.061697",
     "status": "completed"
    },
    "tags": []
   },
   "outputs": [
    {
     "data": {
      "text/plain": [
       "array(['Japanese', 'Mexican', 'Italian', 'Indian', 'French', 'American'],\n",
       "      dtype=object)"
      ]
     },
     "execution_count": 10,
     "metadata": {},
     "output_type": "execute_result"
    }
   ],
   "source": [
    "unique_cuisines"
   ]
  },
  {
   "cell_type": "code",
   "execution_count": 11,
   "id": "ea8a34bc",
   "metadata": {
    "execution": {
     "iopub.execute_input": "2024-08-26T16:52:29.103632Z",
     "iopub.status.busy": "2024-08-26T16:52:29.102736Z",
     "iopub.status.idle": "2024-08-26T16:52:29.113012Z",
     "shell.execute_reply": "2024-08-26T16:52:29.111796Z"
    },
    "papermill": {
     "duration": 0.023715,
     "end_time": "2024-08-26T16:52:29.115336",
     "exception": false,
     "start_time": "2024-08-26T16:52:29.091621",
     "status": "completed"
    },
    "tags": []
   },
   "outputs": [],
   "source": [
    "# One-hot encode the 'Location' column\n",
    "df = pd.get_dummies(df, columns=['Location'])"
   ]
  },
  {
   "cell_type": "code",
   "execution_count": 12,
   "id": "17756a5f",
   "metadata": {
    "execution": {
     "iopub.execute_input": "2024-08-26T16:52:29.136908Z",
     "iopub.status.busy": "2024-08-26T16:52:29.136191Z",
     "iopub.status.idle": "2024-08-26T16:52:29.145704Z",
     "shell.execute_reply": "2024-08-26T16:52:29.144871Z"
    },
    "papermill": {
     "duration": 0.022919,
     "end_time": "2024-08-26T16:52:29.148042",
     "exception": false,
     "start_time": "2024-08-26T16:52:29.125123",
     "status": "completed"
    },
    "tags": []
   },
   "outputs": [],
   "source": [
    "# One-hot encode the 'Cuisine' column\n",
    "df = pd.get_dummies(df, columns=['Cuisine'])"
   ]
  },
  {
   "cell_type": "code",
   "execution_count": 13,
   "id": "85e6acb4",
   "metadata": {
    "execution": {
     "iopub.execute_input": "2024-08-26T16:52:29.169881Z",
     "iopub.status.busy": "2024-08-26T16:52:29.168972Z",
     "iopub.status.idle": "2024-08-26T16:52:29.177405Z",
     "shell.execute_reply": "2024-08-26T16:52:29.176495Z"
    },
    "papermill": {
     "duration": 0.021765,
     "end_time": "2024-08-26T16:52:29.179593",
     "exception": false,
     "start_time": "2024-08-26T16:52:29.157828",
     "status": "completed"
    },
    "tags": []
   },
   "outputs": [],
   "source": [
    "# Ensure all binary columns are integer type\n",
    "binary_columns = [col for col in df.columns if 'Location_' in col or 'Cuisine_' in col]\n",
    "df[binary_columns] = df[binary_columns].astype(int)"
   ]
  },
  {
   "cell_type": "code",
   "execution_count": 14,
   "id": "2b2bbd5a",
   "metadata": {
    "execution": {
     "iopub.execute_input": "2024-08-26T16:52:29.202669Z",
     "iopub.status.busy": "2024-08-26T16:52:29.201776Z",
     "iopub.status.idle": "2024-08-26T16:52:29.223547Z",
     "shell.execute_reply": "2024-08-26T16:52:29.222537Z"
    },
    "papermill": {
     "duration": 0.036296,
     "end_time": "2024-08-26T16:52:29.225678",
     "exception": false,
     "start_time": "2024-08-26T16:52:29.189382",
     "status": "completed"
    },
    "tags": []
   },
   "outputs": [
    {
     "data": {
      "text/html": [
       "<div>\n",
       "<style scoped>\n",
       "    .dataframe tbody tr th:only-of-type {\n",
       "        vertical-align: middle;\n",
       "    }\n",
       "\n",
       "    .dataframe tbody tr th {\n",
       "        vertical-align: top;\n",
       "    }\n",
       "\n",
       "    .dataframe thead th {\n",
       "        text-align: right;\n",
       "    }\n",
       "</style>\n",
       "<table border=\"1\" class=\"dataframe\">\n",
       "  <thead>\n",
       "    <tr style=\"text-align: right;\">\n",
       "      <th></th>\n",
       "      <th>Rating</th>\n",
       "      <th>Seating Capacity</th>\n",
       "      <th>Average Meal Price</th>\n",
       "      <th>Marketing Budget</th>\n",
       "      <th>Social Media Followers</th>\n",
       "      <th>Chef Experience Years</th>\n",
       "      <th>Number of Reviews</th>\n",
       "      <th>Avg Review Length</th>\n",
       "      <th>Ambience Score</th>\n",
       "      <th>Service Quality Score</th>\n",
       "      <th>...</th>\n",
       "      <th>Revenue</th>\n",
       "      <th>Location_Downtown</th>\n",
       "      <th>Location_Rural</th>\n",
       "      <th>Location_Suburban</th>\n",
       "      <th>Cuisine_American</th>\n",
       "      <th>Cuisine_French</th>\n",
       "      <th>Cuisine_Indian</th>\n",
       "      <th>Cuisine_Italian</th>\n",
       "      <th>Cuisine_Japanese</th>\n",
       "      <th>Cuisine_Mexican</th>\n",
       "    </tr>\n",
       "  </thead>\n",
       "  <tbody>\n",
       "    <tr>\n",
       "      <th>0</th>\n",
       "      <td>4.0</td>\n",
       "      <td>38</td>\n",
       "      <td>73.98</td>\n",
       "      <td>2224</td>\n",
       "      <td>23406</td>\n",
       "      <td>13</td>\n",
       "      <td>185</td>\n",
       "      <td>161.924906</td>\n",
       "      <td>1.3</td>\n",
       "      <td>7.0</td>\n",
       "      <td>...</td>\n",
       "      <td>638945.52</td>\n",
       "      <td>0</td>\n",
       "      <td>1</td>\n",
       "      <td>0</td>\n",
       "      <td>0</td>\n",
       "      <td>0</td>\n",
       "      <td>0</td>\n",
       "      <td>0</td>\n",
       "      <td>1</td>\n",
       "      <td>0</td>\n",
       "    </tr>\n",
       "    <tr>\n",
       "      <th>1</th>\n",
       "      <td>3.2</td>\n",
       "      <td>76</td>\n",
       "      <td>28.11</td>\n",
       "      <td>4416</td>\n",
       "      <td>42741</td>\n",
       "      <td>8</td>\n",
       "      <td>533</td>\n",
       "      <td>148.759717</td>\n",
       "      <td>2.6</td>\n",
       "      <td>3.4</td>\n",
       "      <td>...</td>\n",
       "      <td>490207.83</td>\n",
       "      <td>1</td>\n",
       "      <td>0</td>\n",
       "      <td>0</td>\n",
       "      <td>0</td>\n",
       "      <td>0</td>\n",
       "      <td>0</td>\n",
       "      <td>0</td>\n",
       "      <td>0</td>\n",
       "      <td>1</td>\n",
       "    </tr>\n",
       "    <tr>\n",
       "      <th>2</th>\n",
       "      <td>4.7</td>\n",
       "      <td>48</td>\n",
       "      <td>48.29</td>\n",
       "      <td>2796</td>\n",
       "      <td>37285</td>\n",
       "      <td>18</td>\n",
       "      <td>853</td>\n",
       "      <td>56.849189</td>\n",
       "      <td>5.3</td>\n",
       "      <td>6.7</td>\n",
       "      <td>...</td>\n",
       "      <td>541368.62</td>\n",
       "      <td>0</td>\n",
       "      <td>1</td>\n",
       "      <td>0</td>\n",
       "      <td>0</td>\n",
       "      <td>0</td>\n",
       "      <td>0</td>\n",
       "      <td>1</td>\n",
       "      <td>0</td>\n",
       "      <td>0</td>\n",
       "    </tr>\n",
       "    <tr>\n",
       "      <th>3</th>\n",
       "      <td>4.4</td>\n",
       "      <td>34</td>\n",
       "      <td>51.55</td>\n",
       "      <td>1167</td>\n",
       "      <td>15214</td>\n",
       "      <td>13</td>\n",
       "      <td>82</td>\n",
       "      <td>205.433265</td>\n",
       "      <td>4.6</td>\n",
       "      <td>2.8</td>\n",
       "      <td>...</td>\n",
       "      <td>404556.80</td>\n",
       "      <td>0</td>\n",
       "      <td>1</td>\n",
       "      <td>0</td>\n",
       "      <td>0</td>\n",
       "      <td>0</td>\n",
       "      <td>0</td>\n",
       "      <td>1</td>\n",
       "      <td>0</td>\n",
       "      <td>0</td>\n",
       "    </tr>\n",
       "    <tr>\n",
       "      <th>4</th>\n",
       "      <td>4.9</td>\n",
       "      <td>88</td>\n",
       "      <td>75.98</td>\n",
       "      <td>3639</td>\n",
       "      <td>40171</td>\n",
       "      <td>9</td>\n",
       "      <td>78</td>\n",
       "      <td>241.681584</td>\n",
       "      <td>8.6</td>\n",
       "      <td>2.1</td>\n",
       "      <td>...</td>\n",
       "      <td>1491046.35</td>\n",
       "      <td>1</td>\n",
       "      <td>0</td>\n",
       "      <td>0</td>\n",
       "      <td>0</td>\n",
       "      <td>0</td>\n",
       "      <td>0</td>\n",
       "      <td>0</td>\n",
       "      <td>1</td>\n",
       "      <td>0</td>\n",
       "    </tr>\n",
       "  </tbody>\n",
       "</table>\n",
       "<p>5 rows × 23 columns</p>\n",
       "</div>"
      ],
      "text/plain": [
       "   Rating  Seating Capacity  Average Meal Price  Marketing Budget  \\\n",
       "0     4.0                38               73.98              2224   \n",
       "1     3.2                76               28.11              4416   \n",
       "2     4.7                48               48.29              2796   \n",
       "3     4.4                34               51.55              1167   \n",
       "4     4.9                88               75.98              3639   \n",
       "\n",
       "   Social Media Followers  Chef Experience Years  Number of Reviews  \\\n",
       "0                   23406                     13                185   \n",
       "1                   42741                      8                533   \n",
       "2                   37285                     18                853   \n",
       "3                   15214                     13                 82   \n",
       "4                   40171                      9                 78   \n",
       "\n",
       "   Avg Review Length  Ambience Score  Service Quality Score  ...     Revenue  \\\n",
       "0         161.924906             1.3                    7.0  ...   638945.52   \n",
       "1         148.759717             2.6                    3.4  ...   490207.83   \n",
       "2          56.849189             5.3                    6.7  ...   541368.62   \n",
       "3         205.433265             4.6                    2.8  ...   404556.80   \n",
       "4         241.681584             8.6                    2.1  ...  1491046.35   \n",
       "\n",
       "   Location_Downtown  Location_Rural  Location_Suburban  Cuisine_American  \\\n",
       "0                  0               1                  0                 0   \n",
       "1                  1               0                  0                 0   \n",
       "2                  0               1                  0                 0   \n",
       "3                  0               1                  0                 0   \n",
       "4                  1               0                  0                 0   \n",
       "\n",
       "   Cuisine_French  Cuisine_Indian  Cuisine_Italian  Cuisine_Japanese  \\\n",
       "0               0               0                0                 1   \n",
       "1               0               0                0                 0   \n",
       "2               0               0                1                 0   \n",
       "3               0               0                1                 0   \n",
       "4               0               0                0                 1   \n",
       "\n",
       "   Cuisine_Mexican  \n",
       "0                0  \n",
       "1                1  \n",
       "2                0  \n",
       "3                0  \n",
       "4                0  \n",
       "\n",
       "[5 rows x 23 columns]"
      ]
     },
     "execution_count": 14,
     "metadata": {},
     "output_type": "execute_result"
    }
   ],
   "source": [
    "df.head()"
   ]
  },
  {
   "cell_type": "code",
   "execution_count": 15,
   "id": "521677a2",
   "metadata": {
    "execution": {
     "iopub.execute_input": "2024-08-26T16:52:29.248045Z",
     "iopub.status.busy": "2024-08-26T16:52:29.247148Z",
     "iopub.status.idle": "2024-08-26T16:52:29.254416Z",
     "shell.execute_reply": "2024-08-26T16:52:29.253339Z"
    },
    "papermill": {
     "duration": 0.020869,
     "end_time": "2024-08-26T16:52:29.256603",
     "exception": false,
     "start_time": "2024-08-26T16:52:29.235734",
     "status": "completed"
    },
    "tags": []
   },
   "outputs": [
    {
     "name": "stdout",
     "output_type": "stream",
     "text": [
      "Rating float64\n",
      "Seating Capacity int64\n",
      "Average Meal Price float64\n",
      "Marketing Budget int64\n",
      "Social Media Followers int64\n",
      "Chef Experience Years int64\n",
      "Number of Reviews int64\n",
      "Avg Review Length float64\n",
      "Ambience Score float64\n",
      "Service Quality Score float64\n",
      "Parking Availability object\n",
      "Weekend Reservations int64\n",
      "Weekday Reservations int64\n",
      "Revenue float64\n",
      "Location_Downtown int64\n",
      "Location_Rural int64\n",
      "Location_Suburban int64\n",
      "Cuisine_American int64\n",
      "Cuisine_French int64\n",
      "Cuisine_Indian int64\n",
      "Cuisine_Italian int64\n",
      "Cuisine_Japanese int64\n",
      "Cuisine_Mexican int64\n"
     ]
    }
   ],
   "source": [
    "for i in df.columns:\n",
    "    print(i, df[i].dtypes)"
   ]
  },
  {
   "cell_type": "code",
   "execution_count": 16,
   "id": "47c8a8bc",
   "metadata": {
    "execution": {
     "iopub.execute_input": "2024-08-26T16:52:29.278613Z",
     "iopub.status.busy": "2024-08-26T16:52:29.278246Z",
     "iopub.status.idle": "2024-08-26T16:52:29.286001Z",
     "shell.execute_reply": "2024-08-26T16:52:29.284883Z"
    },
    "papermill": {
     "duration": 0.021329,
     "end_time": "2024-08-26T16:52:29.288056",
     "exception": false,
     "start_time": "2024-08-26T16:52:29.266727",
     "status": "completed"
    },
    "tags": []
   },
   "outputs": [
    {
     "data": {
      "text/plain": [
       "0    Yes\n",
       "1    Yes\n",
       "2     No\n",
       "3    Yes\n",
       "4     No\n",
       "Name: Parking Availability, dtype: object"
      ]
     },
     "execution_count": 16,
     "metadata": {},
     "output_type": "execute_result"
    }
   ],
   "source": [
    "df['Parking Availability'].head()"
   ]
  },
  {
   "cell_type": "code",
   "execution_count": 17,
   "id": "0e76ddfb",
   "metadata": {
    "execution": {
     "iopub.execute_input": "2024-08-26T16:52:29.310657Z",
     "iopub.status.busy": "2024-08-26T16:52:29.309920Z",
     "iopub.status.idle": "2024-08-26T16:52:29.316597Z",
     "shell.execute_reply": "2024-08-26T16:52:29.315515Z"
    },
    "papermill": {
     "duration": 0.020511,
     "end_time": "2024-08-26T16:52:29.318893",
     "exception": false,
     "start_time": "2024-08-26T16:52:29.298382",
     "status": "completed"
    },
    "tags": []
   },
   "outputs": [],
   "source": [
    "df['Parking Availability'] = df['Parking Availability'].map({'Yes': 1, 'No': 0})"
   ]
  },
  {
   "cell_type": "markdown",
   "id": "af945833",
   "metadata": {
    "papermill": {
     "duration": 0.010041,
     "end_time": "2024-08-26T16:52:29.339192",
     "exception": false,
     "start_time": "2024-08-26T16:52:29.329151",
     "status": "completed"
    },
    "tags": []
   },
   "source": [
    "## Models Building"
   ]
  },
  {
   "cell_type": "markdown",
   "id": "992c5e58",
   "metadata": {
    "papermill": {
     "duration": 0.010054,
     "end_time": "2024-08-26T16:52:29.359551",
     "exception": false,
     "start_time": "2024-08-26T16:52:29.349497",
     "status": "completed"
    },
    "tags": []
   },
   "source": [
    "**Here we first try some models with deafult setting, and choose best perfomring model and do further hyperparameter tuning on it.**"
   ]
  },
  {
   "cell_type": "code",
   "execution_count": 18,
   "id": "6ea5eb9a",
   "metadata": {
    "execution": {
     "iopub.execute_input": "2024-08-26T16:52:29.382345Z",
     "iopub.status.busy": "2024-08-26T16:52:29.381985Z",
     "iopub.status.idle": "2024-08-26T16:52:29.396155Z",
     "shell.execute_reply": "2024-08-26T16:52:29.395049Z"
    },
    "papermill": {
     "duration": 0.02797,
     "end_time": "2024-08-26T16:52:29.398280",
     "exception": false,
     "start_time": "2024-08-26T16:52:29.370310",
     "status": "completed"
    },
    "tags": []
   },
   "outputs": [
    {
     "name": "stdout",
     "output_type": "stream",
     "text": [
      "Training data shape: (6694, 22)\n",
      "Testing data shape: (1674, 22)\n"
     ]
    }
   ],
   "source": [
    "# Define the features (X) and target variable (y)\n",
    "X = df.drop(columns=['Revenue'])\n",
    "y = df['Revenue']\n",
    "\n",
    "# Split the data into training and testing sets\n",
    "X_train, X_test, y_train, y_test = train_test_split(X, y, test_size=0.2, random_state=42)\n",
    "\n",
    "print(f\"Training data shape: {X_train.shape}\")\n",
    "print(f\"Testing data shape: {X_test.shape}\")\n"
   ]
  },
  {
   "cell_type": "markdown",
   "id": "6342a19e",
   "metadata": {
    "papermill": {
     "duration": 0.010385,
     "end_time": "2024-08-26T16:52:29.419011",
     "exception": false,
     "start_time": "2024-08-26T16:52:29.408626",
     "status": "completed"
    },
    "tags": []
   },
   "source": [
    "**Linear Regressor**"
   ]
  },
  {
   "cell_type": "code",
   "execution_count": 19,
   "id": "e853ae86",
   "metadata": {
    "execution": {
     "iopub.execute_input": "2024-08-26T16:52:29.441454Z",
     "iopub.status.busy": "2024-08-26T16:52:29.441057Z",
     "iopub.status.idle": "2024-08-26T16:52:29.481691Z",
     "shell.execute_reply": "2024-08-26T16:52:29.480406Z"
    },
    "papermill": {
     "duration": 0.055273,
     "end_time": "2024-08-26T16:52:29.484641",
     "exception": false,
     "start_time": "2024-08-26T16:52:29.429368",
     "status": "completed"
    },
    "tags": []
   },
   "outputs": [
    {
     "data": {
      "text/html": [
       "<style>#sk-container-id-1 {color: black;background-color: white;}#sk-container-id-1 pre{padding: 0;}#sk-container-id-1 div.sk-toggleable {background-color: white;}#sk-container-id-1 label.sk-toggleable__label {cursor: pointer;display: block;width: 100%;margin-bottom: 0;padding: 0.3em;box-sizing: border-box;text-align: center;}#sk-container-id-1 label.sk-toggleable__label-arrow:before {content: \"▸\";float: left;margin-right: 0.25em;color: #696969;}#sk-container-id-1 label.sk-toggleable__label-arrow:hover:before {color: black;}#sk-container-id-1 div.sk-estimator:hover label.sk-toggleable__label-arrow:before {color: black;}#sk-container-id-1 div.sk-toggleable__content {max-height: 0;max-width: 0;overflow: hidden;text-align: left;background-color: #f0f8ff;}#sk-container-id-1 div.sk-toggleable__content pre {margin: 0.2em;color: black;border-radius: 0.25em;background-color: #f0f8ff;}#sk-container-id-1 input.sk-toggleable__control:checked~div.sk-toggleable__content {max-height: 200px;max-width: 100%;overflow: auto;}#sk-container-id-1 input.sk-toggleable__control:checked~label.sk-toggleable__label-arrow:before {content: \"▾\";}#sk-container-id-1 div.sk-estimator input.sk-toggleable__control:checked~label.sk-toggleable__label {background-color: #d4ebff;}#sk-container-id-1 div.sk-label input.sk-toggleable__control:checked~label.sk-toggleable__label {background-color: #d4ebff;}#sk-container-id-1 input.sk-hidden--visually {border: 0;clip: rect(1px 1px 1px 1px);clip: rect(1px, 1px, 1px, 1px);height: 1px;margin: -1px;overflow: hidden;padding: 0;position: absolute;width: 1px;}#sk-container-id-1 div.sk-estimator {font-family: monospace;background-color: #f0f8ff;border: 1px dotted black;border-radius: 0.25em;box-sizing: border-box;margin-bottom: 0.5em;}#sk-container-id-1 div.sk-estimator:hover {background-color: #d4ebff;}#sk-container-id-1 div.sk-parallel-item::after {content: \"\";width: 100%;border-bottom: 1px solid gray;flex-grow: 1;}#sk-container-id-1 div.sk-label:hover label.sk-toggleable__label {background-color: #d4ebff;}#sk-container-id-1 div.sk-serial::before {content: \"\";position: absolute;border-left: 1px solid gray;box-sizing: border-box;top: 0;bottom: 0;left: 50%;z-index: 0;}#sk-container-id-1 div.sk-serial {display: flex;flex-direction: column;align-items: center;background-color: white;padding-right: 0.2em;padding-left: 0.2em;position: relative;}#sk-container-id-1 div.sk-item {position: relative;z-index: 1;}#sk-container-id-1 div.sk-parallel {display: flex;align-items: stretch;justify-content: center;background-color: white;position: relative;}#sk-container-id-1 div.sk-item::before, #sk-container-id-1 div.sk-parallel-item::before {content: \"\";position: absolute;border-left: 1px solid gray;box-sizing: border-box;top: 0;bottom: 0;left: 50%;z-index: -1;}#sk-container-id-1 div.sk-parallel-item {display: flex;flex-direction: column;z-index: 1;position: relative;background-color: white;}#sk-container-id-1 div.sk-parallel-item:first-child::after {align-self: flex-end;width: 50%;}#sk-container-id-1 div.sk-parallel-item:last-child::after {align-self: flex-start;width: 50%;}#sk-container-id-1 div.sk-parallel-item:only-child::after {width: 0;}#sk-container-id-1 div.sk-dashed-wrapped {border: 1px dashed gray;margin: 0 0.4em 0.5em 0.4em;box-sizing: border-box;padding-bottom: 0.4em;background-color: white;}#sk-container-id-1 div.sk-label label {font-family: monospace;font-weight: bold;display: inline-block;line-height: 1.2em;}#sk-container-id-1 div.sk-label-container {text-align: center;}#sk-container-id-1 div.sk-container {/* jupyter's `normalize.less` sets `[hidden] { display: none; }` but bootstrap.min.css set `[hidden] { display: none !important; }` so we also need the `!important` here to be able to override the default hidden behavior on the sphinx rendered scikit-learn.org. See: https://github.com/scikit-learn/scikit-learn/issues/21755 */display: inline-block !important;position: relative;}#sk-container-id-1 div.sk-text-repr-fallback {display: none;}</style><div id=\"sk-container-id-1\" class=\"sk-top-container\"><div class=\"sk-text-repr-fallback\"><pre>LinearRegression()</pre><b>In a Jupyter environment, please rerun this cell to show the HTML representation or trust the notebook. <br />On GitHub, the HTML representation is unable to render, please try loading this page with nbviewer.org.</b></div><div class=\"sk-container\" hidden><div class=\"sk-item\"><div class=\"sk-estimator sk-toggleable\"><input class=\"sk-toggleable__control sk-hidden--visually\" id=\"sk-estimator-id-1\" type=\"checkbox\" checked><label for=\"sk-estimator-id-1\" class=\"sk-toggleable__label sk-toggleable__label-arrow\">LinearRegression</label><div class=\"sk-toggleable__content\"><pre>LinearRegression()</pre></div></div></div></div></div>"
      ],
      "text/plain": [
       "LinearRegression()"
      ]
     },
     "execution_count": 19,
     "metadata": {},
     "output_type": "execute_result"
    }
   ],
   "source": [
    "# Initialize the model\n",
    "LRegressor = LinearRegression()\n",
    "\n",
    "# Train the model on the training data\n",
    "LRegressor.fit(X_train, y_train)"
   ]
  },
  {
   "cell_type": "code",
   "execution_count": 20,
   "id": "359bf83a",
   "metadata": {
    "execution": {
     "iopub.execute_input": "2024-08-26T16:52:29.522736Z",
     "iopub.status.busy": "2024-08-26T16:52:29.522211Z",
     "iopub.status.idle": "2024-08-26T16:52:29.536068Z",
     "shell.execute_reply": "2024-08-26T16:52:29.534790Z"
    },
    "papermill": {
     "duration": 0.03645,
     "end_time": "2024-08-26T16:52:29.538991",
     "exception": false,
     "start_time": "2024-08-26T16:52:29.502541",
     "status": "completed"
    },
    "tags": []
   },
   "outputs": [],
   "source": [
    "y_pred = LRegressor.predict(X_test)"
   ]
  },
  {
   "cell_type": "code",
   "execution_count": 21,
   "id": "5d7e49f5",
   "metadata": {
    "execution": {
     "iopub.execute_input": "2024-08-26T16:52:29.596987Z",
     "iopub.status.busy": "2024-08-26T16:52:29.596437Z",
     "iopub.status.idle": "2024-08-26T16:52:29.607409Z",
     "shell.execute_reply": "2024-08-26T16:52:29.606316Z"
    },
    "papermill": {
     "duration": 0.046699,
     "end_time": "2024-08-26T16:52:29.610775",
     "exception": false,
     "start_time": "2024-08-26T16:52:29.564076",
     "status": "completed"
    },
    "tags": []
   },
   "outputs": [],
   "source": [
    "mse = mean_squared_error(y_test, y_pred)\n",
    "r2 = r2_score(y_test, y_pred)\n",
    "mae = mean_absolute_error(y_test, y_pred)"
   ]
  },
  {
   "cell_type": "code",
   "execution_count": 22,
   "id": "f9572795",
   "metadata": {
    "execution": {
     "iopub.execute_input": "2024-08-26T16:52:29.648045Z",
     "iopub.status.busy": "2024-08-26T16:52:29.647546Z",
     "iopub.status.idle": "2024-08-26T16:52:29.653895Z",
     "shell.execute_reply": "2024-08-26T16:52:29.652814Z"
    },
    "papermill": {
     "duration": 0.028895,
     "end_time": "2024-08-26T16:52:29.657341",
     "exception": false,
     "start_time": "2024-08-26T16:52:29.628446",
     "status": "completed"
    },
    "tags": []
   },
   "outputs": [
    {
     "name": "stdout",
     "output_type": "stream",
     "text": [
      "Mean Squared Error: 3193598831.241753\n",
      "R-squared: 0.9554413593451654\n",
      "Mean Absolute Error: 43217.24979806238\n"
     ]
    }
   ],
   "source": [
    "print(\"Mean Squared Error:\", mse)\n",
    "print(\"R-squared:\", r2)\n",
    "print(\"Mean Absolute Error:\", mae)"
   ]
  },
  {
   "cell_type": "markdown",
   "id": "e5635a34",
   "metadata": {
    "papermill": {
     "duration": 0.010736,
     "end_time": "2024-08-26T16:52:29.678813",
     "exception": false,
     "start_time": "2024-08-26T16:52:29.668077",
     "status": "completed"
    },
    "tags": []
   },
   "source": [
    "**Gradient Boost Regressor**"
   ]
  },
  {
   "cell_type": "code",
   "execution_count": 23,
   "id": "9ba25c47",
   "metadata": {
    "execution": {
     "iopub.execute_input": "2024-08-26T16:52:29.702541Z",
     "iopub.status.busy": "2024-08-26T16:52:29.701601Z",
     "iopub.status.idle": "2024-08-26T16:52:31.803711Z",
     "shell.execute_reply": "2024-08-26T16:52:31.802678Z"
    },
    "papermill": {
     "duration": 2.116405,
     "end_time": "2024-08-26T16:52:31.805927",
     "exception": false,
     "start_time": "2024-08-26T16:52:29.689522",
     "status": "completed"
    },
    "tags": []
   },
   "outputs": [
    {
     "data": {
      "text/html": [
       "<style>#sk-container-id-2 {color: black;background-color: white;}#sk-container-id-2 pre{padding: 0;}#sk-container-id-2 div.sk-toggleable {background-color: white;}#sk-container-id-2 label.sk-toggleable__label {cursor: pointer;display: block;width: 100%;margin-bottom: 0;padding: 0.3em;box-sizing: border-box;text-align: center;}#sk-container-id-2 label.sk-toggleable__label-arrow:before {content: \"▸\";float: left;margin-right: 0.25em;color: #696969;}#sk-container-id-2 label.sk-toggleable__label-arrow:hover:before {color: black;}#sk-container-id-2 div.sk-estimator:hover label.sk-toggleable__label-arrow:before {color: black;}#sk-container-id-2 div.sk-toggleable__content {max-height: 0;max-width: 0;overflow: hidden;text-align: left;background-color: #f0f8ff;}#sk-container-id-2 div.sk-toggleable__content pre {margin: 0.2em;color: black;border-radius: 0.25em;background-color: #f0f8ff;}#sk-container-id-2 input.sk-toggleable__control:checked~div.sk-toggleable__content {max-height: 200px;max-width: 100%;overflow: auto;}#sk-container-id-2 input.sk-toggleable__control:checked~label.sk-toggleable__label-arrow:before {content: \"▾\";}#sk-container-id-2 div.sk-estimator input.sk-toggleable__control:checked~label.sk-toggleable__label {background-color: #d4ebff;}#sk-container-id-2 div.sk-label input.sk-toggleable__control:checked~label.sk-toggleable__label {background-color: #d4ebff;}#sk-container-id-2 input.sk-hidden--visually {border: 0;clip: rect(1px 1px 1px 1px);clip: rect(1px, 1px, 1px, 1px);height: 1px;margin: -1px;overflow: hidden;padding: 0;position: absolute;width: 1px;}#sk-container-id-2 div.sk-estimator {font-family: monospace;background-color: #f0f8ff;border: 1px dotted black;border-radius: 0.25em;box-sizing: border-box;margin-bottom: 0.5em;}#sk-container-id-2 div.sk-estimator:hover {background-color: #d4ebff;}#sk-container-id-2 div.sk-parallel-item::after {content: \"\";width: 100%;border-bottom: 1px solid gray;flex-grow: 1;}#sk-container-id-2 div.sk-label:hover label.sk-toggleable__label {background-color: #d4ebff;}#sk-container-id-2 div.sk-serial::before {content: \"\";position: absolute;border-left: 1px solid gray;box-sizing: border-box;top: 0;bottom: 0;left: 50%;z-index: 0;}#sk-container-id-2 div.sk-serial {display: flex;flex-direction: column;align-items: center;background-color: white;padding-right: 0.2em;padding-left: 0.2em;position: relative;}#sk-container-id-2 div.sk-item {position: relative;z-index: 1;}#sk-container-id-2 div.sk-parallel {display: flex;align-items: stretch;justify-content: center;background-color: white;position: relative;}#sk-container-id-2 div.sk-item::before, #sk-container-id-2 div.sk-parallel-item::before {content: \"\";position: absolute;border-left: 1px solid gray;box-sizing: border-box;top: 0;bottom: 0;left: 50%;z-index: -1;}#sk-container-id-2 div.sk-parallel-item {display: flex;flex-direction: column;z-index: 1;position: relative;background-color: white;}#sk-container-id-2 div.sk-parallel-item:first-child::after {align-self: flex-end;width: 50%;}#sk-container-id-2 div.sk-parallel-item:last-child::after {align-self: flex-start;width: 50%;}#sk-container-id-2 div.sk-parallel-item:only-child::after {width: 0;}#sk-container-id-2 div.sk-dashed-wrapped {border: 1px dashed gray;margin: 0 0.4em 0.5em 0.4em;box-sizing: border-box;padding-bottom: 0.4em;background-color: white;}#sk-container-id-2 div.sk-label label {font-family: monospace;font-weight: bold;display: inline-block;line-height: 1.2em;}#sk-container-id-2 div.sk-label-container {text-align: center;}#sk-container-id-2 div.sk-container {/* jupyter's `normalize.less` sets `[hidden] { display: none; }` but bootstrap.min.css set `[hidden] { display: none !important; }` so we also need the `!important` here to be able to override the default hidden behavior on the sphinx rendered scikit-learn.org. See: https://github.com/scikit-learn/scikit-learn/issues/21755 */display: inline-block !important;position: relative;}#sk-container-id-2 div.sk-text-repr-fallback {display: none;}</style><div id=\"sk-container-id-2\" class=\"sk-top-container\"><div class=\"sk-text-repr-fallback\"><pre>GradientBoostingRegressor()</pre><b>In a Jupyter environment, please rerun this cell to show the HTML representation or trust the notebook. <br />On GitHub, the HTML representation is unable to render, please try loading this page with nbviewer.org.</b></div><div class=\"sk-container\" hidden><div class=\"sk-item\"><div class=\"sk-estimator sk-toggleable\"><input class=\"sk-toggleable__control sk-hidden--visually\" id=\"sk-estimator-id-2\" type=\"checkbox\" checked><label for=\"sk-estimator-id-2\" class=\"sk-toggleable__label sk-toggleable__label-arrow\">GradientBoostingRegressor</label><div class=\"sk-toggleable__content\"><pre>GradientBoostingRegressor()</pre></div></div></div></div></div>"
      ],
      "text/plain": [
       "GradientBoostingRegressor()"
      ]
     },
     "execution_count": 23,
     "metadata": {},
     "output_type": "execute_result"
    }
   ],
   "source": [
    "GBRegressor = GradientBoostingRegressor()\n",
    "GBRegressor.fit(X_train,y_train)"
   ]
  },
  {
   "cell_type": "code",
   "execution_count": 24,
   "id": "8fa99874",
   "metadata": {
    "execution": {
     "iopub.execute_input": "2024-08-26T16:52:31.835147Z",
     "iopub.status.busy": "2024-08-26T16:52:31.834736Z",
     "iopub.status.idle": "2024-08-26T16:52:31.847608Z",
     "shell.execute_reply": "2024-08-26T16:52:31.846626Z"
    },
    "papermill": {
     "duration": 0.030452,
     "end_time": "2024-08-26T16:52:31.849710",
     "exception": false,
     "start_time": "2024-08-26T16:52:31.819258",
     "status": "completed"
    },
    "tags": []
   },
   "outputs": [],
   "source": [
    "y_pred2 = GBRegressor.predict(X_test)"
   ]
  },
  {
   "cell_type": "code",
   "execution_count": 25,
   "id": "3759ff3a",
   "metadata": {
    "execution": {
     "iopub.execute_input": "2024-08-26T16:52:31.875078Z",
     "iopub.status.busy": "2024-08-26T16:52:31.874281Z",
     "iopub.status.idle": "2024-08-26T16:52:31.883890Z",
     "shell.execute_reply": "2024-08-26T16:52:31.881332Z"
    },
    "papermill": {
     "duration": 0.024829,
     "end_time": "2024-08-26T16:52:31.886866",
     "exception": false,
     "start_time": "2024-08-26T16:52:31.862037",
     "status": "completed"
    },
    "tags": []
   },
   "outputs": [],
   "source": [
    "mse = mean_squared_error(y_test, y_pred2)\n",
    "r2 = r2_score(y_test, y_pred2)\n",
    "mae = mean_absolute_error(y_test, y_pred2)"
   ]
  },
  {
   "cell_type": "code",
   "execution_count": 26,
   "id": "9cc4f13c",
   "metadata": {
    "execution": {
     "iopub.execute_input": "2024-08-26T16:52:31.910481Z",
     "iopub.status.busy": "2024-08-26T16:52:31.910121Z",
     "iopub.status.idle": "2024-08-26T16:52:31.915321Z",
     "shell.execute_reply": "2024-08-26T16:52:31.914341Z"
    },
    "papermill": {
     "duration": 0.019547,
     "end_time": "2024-08-26T16:52:31.917736",
     "exception": false,
     "start_time": "2024-08-26T16:52:31.898189",
     "status": "completed"
    },
    "tags": []
   },
   "outputs": [
    {
     "name": "stdout",
     "output_type": "stream",
     "text": [
      "Mean Squared Error: 98712105.34806874\n",
      "R-squared: 0.9986227208040477\n",
      "Mean Absolute Error: 7701.37430075277\n"
     ]
    }
   ],
   "source": [
    "print(\"Mean Squared Error:\", mse)\n",
    "print(\"R-squared:\", r2)\n",
    "print(\"Mean Absolute Error:\", mae)"
   ]
  },
  {
   "cell_type": "markdown",
   "id": "eed32545",
   "metadata": {
    "papermill": {
     "duration": 0.011068,
     "end_time": "2024-08-26T16:52:31.939706",
     "exception": false,
     "start_time": "2024-08-26T16:52:31.928638",
     "status": "completed"
    },
    "tags": []
   },
   "source": [
    "**Decision Tree Regressor**"
   ]
  },
  {
   "cell_type": "code",
   "execution_count": 27,
   "id": "bbef3027",
   "metadata": {
    "execution": {
     "iopub.execute_input": "2024-08-26T16:52:31.963792Z",
     "iopub.status.busy": "2024-08-26T16:52:31.963064Z",
     "iopub.status.idle": "2024-08-26T16:52:32.052076Z",
     "shell.execute_reply": "2024-08-26T16:52:32.051091Z"
    },
    "papermill": {
     "duration": 0.10355,
     "end_time": "2024-08-26T16:52:32.054437",
     "exception": false,
     "start_time": "2024-08-26T16:52:31.950887",
     "status": "completed"
    },
    "tags": []
   },
   "outputs": [
    {
     "data": {
      "text/html": [
       "<style>#sk-container-id-3 {color: black;background-color: white;}#sk-container-id-3 pre{padding: 0;}#sk-container-id-3 div.sk-toggleable {background-color: white;}#sk-container-id-3 label.sk-toggleable__label {cursor: pointer;display: block;width: 100%;margin-bottom: 0;padding: 0.3em;box-sizing: border-box;text-align: center;}#sk-container-id-3 label.sk-toggleable__label-arrow:before {content: \"▸\";float: left;margin-right: 0.25em;color: #696969;}#sk-container-id-3 label.sk-toggleable__label-arrow:hover:before {color: black;}#sk-container-id-3 div.sk-estimator:hover label.sk-toggleable__label-arrow:before {color: black;}#sk-container-id-3 div.sk-toggleable__content {max-height: 0;max-width: 0;overflow: hidden;text-align: left;background-color: #f0f8ff;}#sk-container-id-3 div.sk-toggleable__content pre {margin: 0.2em;color: black;border-radius: 0.25em;background-color: #f0f8ff;}#sk-container-id-3 input.sk-toggleable__control:checked~div.sk-toggleable__content {max-height: 200px;max-width: 100%;overflow: auto;}#sk-container-id-3 input.sk-toggleable__control:checked~label.sk-toggleable__label-arrow:before {content: \"▾\";}#sk-container-id-3 div.sk-estimator input.sk-toggleable__control:checked~label.sk-toggleable__label {background-color: #d4ebff;}#sk-container-id-3 div.sk-label input.sk-toggleable__control:checked~label.sk-toggleable__label {background-color: #d4ebff;}#sk-container-id-3 input.sk-hidden--visually {border: 0;clip: rect(1px 1px 1px 1px);clip: rect(1px, 1px, 1px, 1px);height: 1px;margin: -1px;overflow: hidden;padding: 0;position: absolute;width: 1px;}#sk-container-id-3 div.sk-estimator {font-family: monospace;background-color: #f0f8ff;border: 1px dotted black;border-radius: 0.25em;box-sizing: border-box;margin-bottom: 0.5em;}#sk-container-id-3 div.sk-estimator:hover {background-color: #d4ebff;}#sk-container-id-3 div.sk-parallel-item::after {content: \"\";width: 100%;border-bottom: 1px solid gray;flex-grow: 1;}#sk-container-id-3 div.sk-label:hover label.sk-toggleable__label {background-color: #d4ebff;}#sk-container-id-3 div.sk-serial::before {content: \"\";position: absolute;border-left: 1px solid gray;box-sizing: border-box;top: 0;bottom: 0;left: 50%;z-index: 0;}#sk-container-id-3 div.sk-serial {display: flex;flex-direction: column;align-items: center;background-color: white;padding-right: 0.2em;padding-left: 0.2em;position: relative;}#sk-container-id-3 div.sk-item {position: relative;z-index: 1;}#sk-container-id-3 div.sk-parallel {display: flex;align-items: stretch;justify-content: center;background-color: white;position: relative;}#sk-container-id-3 div.sk-item::before, #sk-container-id-3 div.sk-parallel-item::before {content: \"\";position: absolute;border-left: 1px solid gray;box-sizing: border-box;top: 0;bottom: 0;left: 50%;z-index: -1;}#sk-container-id-3 div.sk-parallel-item {display: flex;flex-direction: column;z-index: 1;position: relative;background-color: white;}#sk-container-id-3 div.sk-parallel-item:first-child::after {align-self: flex-end;width: 50%;}#sk-container-id-3 div.sk-parallel-item:last-child::after {align-self: flex-start;width: 50%;}#sk-container-id-3 div.sk-parallel-item:only-child::after {width: 0;}#sk-container-id-3 div.sk-dashed-wrapped {border: 1px dashed gray;margin: 0 0.4em 0.5em 0.4em;box-sizing: border-box;padding-bottom: 0.4em;background-color: white;}#sk-container-id-3 div.sk-label label {font-family: monospace;font-weight: bold;display: inline-block;line-height: 1.2em;}#sk-container-id-3 div.sk-label-container {text-align: center;}#sk-container-id-3 div.sk-container {/* jupyter's `normalize.less` sets `[hidden] { display: none; }` but bootstrap.min.css set `[hidden] { display: none !important; }` so we also need the `!important` here to be able to override the default hidden behavior on the sphinx rendered scikit-learn.org. See: https://github.com/scikit-learn/scikit-learn/issues/21755 */display: inline-block !important;position: relative;}#sk-container-id-3 div.sk-text-repr-fallback {display: none;}</style><div id=\"sk-container-id-3\" class=\"sk-top-container\"><div class=\"sk-text-repr-fallback\"><pre>DecisionTreeRegressor()</pre><b>In a Jupyter environment, please rerun this cell to show the HTML representation or trust the notebook. <br />On GitHub, the HTML representation is unable to render, please try loading this page with nbviewer.org.</b></div><div class=\"sk-container\" hidden><div class=\"sk-item\"><div class=\"sk-estimator sk-toggleable\"><input class=\"sk-toggleable__control sk-hidden--visually\" id=\"sk-estimator-id-3\" type=\"checkbox\" checked><label for=\"sk-estimator-id-3\" class=\"sk-toggleable__label sk-toggleable__label-arrow\">DecisionTreeRegressor</label><div class=\"sk-toggleable__content\"><pre>DecisionTreeRegressor()</pre></div></div></div></div></div>"
      ],
      "text/plain": [
       "DecisionTreeRegressor()"
      ]
     },
     "execution_count": 27,
     "metadata": {},
     "output_type": "execute_result"
    }
   ],
   "source": [
    "DTRegressor = DecisionTreeRegressor()\n",
    "DTRegressor.fit(X_train,y_train)"
   ]
  },
  {
   "cell_type": "code",
   "execution_count": 28,
   "id": "1f595a9c",
   "metadata": {
    "execution": {
     "iopub.execute_input": "2024-08-26T16:52:32.078400Z",
     "iopub.status.busy": "2024-08-26T16:52:32.077907Z",
     "iopub.status.idle": "2024-08-26T16:52:32.086038Z",
     "shell.execute_reply": "2024-08-26T16:52:32.085148Z"
    },
    "papermill": {
     "duration": 0.022747,
     "end_time": "2024-08-26T16:52:32.088380",
     "exception": false,
     "start_time": "2024-08-26T16:52:32.065633",
     "status": "completed"
    },
    "tags": []
   },
   "outputs": [],
   "source": [
    "y_pred3 = DTRegressor.predict(X_test)"
   ]
  },
  {
   "cell_type": "code",
   "execution_count": 29,
   "id": "3d9472cb",
   "metadata": {
    "execution": {
     "iopub.execute_input": "2024-08-26T16:52:32.112075Z",
     "iopub.status.busy": "2024-08-26T16:52:32.111692Z",
     "iopub.status.idle": "2024-08-26T16:52:32.118709Z",
     "shell.execute_reply": "2024-08-26T16:52:32.117927Z"
    },
    "papermill": {
     "duration": 0.021184,
     "end_time": "2024-08-26T16:52:32.120772",
     "exception": false,
     "start_time": "2024-08-26T16:52:32.099588",
     "status": "completed"
    },
    "tags": []
   },
   "outputs": [],
   "source": [
    "mse = mean_squared_error(y_test, y_pred3)\n",
    "r2 = r2_score(y_test, y_pred3)\n",
    "mae = mean_absolute_error(y_test, y_pred3)"
   ]
  },
  {
   "cell_type": "code",
   "execution_count": 30,
   "id": "6ae1b107",
   "metadata": {
    "execution": {
     "iopub.execute_input": "2024-08-26T16:52:32.144556Z",
     "iopub.status.busy": "2024-08-26T16:52:32.144185Z",
     "iopub.status.idle": "2024-08-26T16:52:32.149504Z",
     "shell.execute_reply": "2024-08-26T16:52:32.148470Z"
    },
    "papermill": {
     "duration": 0.019923,
     "end_time": "2024-08-26T16:52:32.151847",
     "exception": false,
     "start_time": "2024-08-26T16:52:32.131924",
     "status": "completed"
    },
    "tags": []
   },
   "outputs": [
    {
     "name": "stdout",
     "output_type": "stream",
     "text": [
      "Mean Squared Error: 229498704.78935385\n",
      "R-squared: 0.9967979227016805\n",
      "Mean Absolute Error: 11612.1346953405\n"
     ]
    }
   ],
   "source": [
    "print(\"Mean Squared Error:\", mse)\n",
    "print(\"R-squared:\", r2)\n",
    "print(\"Mean Absolute Error:\", mae)"
   ]
  },
  {
   "cell_type": "markdown",
   "id": "1f0475a9",
   "metadata": {
    "papermill": {
     "duration": 0.010998,
     "end_time": "2024-08-26T16:52:32.229823",
     "exception": false,
     "start_time": "2024-08-26T16:52:32.218825",
     "status": "completed"
    },
    "tags": []
   },
   "source": [
    "**Random Forest Regressor**"
   ]
  },
  {
   "cell_type": "code",
   "execution_count": 31,
   "id": "4ec95060",
   "metadata": {
    "execution": {
     "iopub.execute_input": "2024-08-26T16:52:32.254481Z",
     "iopub.status.busy": "2024-08-26T16:52:32.253590Z",
     "iopub.status.idle": "2024-08-26T16:52:37.586522Z",
     "shell.execute_reply": "2024-08-26T16:52:37.585488Z"
    },
    "papermill": {
     "duration": 5.347673,
     "end_time": "2024-08-26T16:52:37.588904",
     "exception": false,
     "start_time": "2024-08-26T16:52:32.241231",
     "status": "completed"
    },
    "tags": []
   },
   "outputs": [
    {
     "data": {
      "text/html": [
       "<style>#sk-container-id-4 {color: black;background-color: white;}#sk-container-id-4 pre{padding: 0;}#sk-container-id-4 div.sk-toggleable {background-color: white;}#sk-container-id-4 label.sk-toggleable__label {cursor: pointer;display: block;width: 100%;margin-bottom: 0;padding: 0.3em;box-sizing: border-box;text-align: center;}#sk-container-id-4 label.sk-toggleable__label-arrow:before {content: \"▸\";float: left;margin-right: 0.25em;color: #696969;}#sk-container-id-4 label.sk-toggleable__label-arrow:hover:before {color: black;}#sk-container-id-4 div.sk-estimator:hover label.sk-toggleable__label-arrow:before {color: black;}#sk-container-id-4 div.sk-toggleable__content {max-height: 0;max-width: 0;overflow: hidden;text-align: left;background-color: #f0f8ff;}#sk-container-id-4 div.sk-toggleable__content pre {margin: 0.2em;color: black;border-radius: 0.25em;background-color: #f0f8ff;}#sk-container-id-4 input.sk-toggleable__control:checked~div.sk-toggleable__content {max-height: 200px;max-width: 100%;overflow: auto;}#sk-container-id-4 input.sk-toggleable__control:checked~label.sk-toggleable__label-arrow:before {content: \"▾\";}#sk-container-id-4 div.sk-estimator input.sk-toggleable__control:checked~label.sk-toggleable__label {background-color: #d4ebff;}#sk-container-id-4 div.sk-label input.sk-toggleable__control:checked~label.sk-toggleable__label {background-color: #d4ebff;}#sk-container-id-4 input.sk-hidden--visually {border: 0;clip: rect(1px 1px 1px 1px);clip: rect(1px, 1px, 1px, 1px);height: 1px;margin: -1px;overflow: hidden;padding: 0;position: absolute;width: 1px;}#sk-container-id-4 div.sk-estimator {font-family: monospace;background-color: #f0f8ff;border: 1px dotted black;border-radius: 0.25em;box-sizing: border-box;margin-bottom: 0.5em;}#sk-container-id-4 div.sk-estimator:hover {background-color: #d4ebff;}#sk-container-id-4 div.sk-parallel-item::after {content: \"\";width: 100%;border-bottom: 1px solid gray;flex-grow: 1;}#sk-container-id-4 div.sk-label:hover label.sk-toggleable__label {background-color: #d4ebff;}#sk-container-id-4 div.sk-serial::before {content: \"\";position: absolute;border-left: 1px solid gray;box-sizing: border-box;top: 0;bottom: 0;left: 50%;z-index: 0;}#sk-container-id-4 div.sk-serial {display: flex;flex-direction: column;align-items: center;background-color: white;padding-right: 0.2em;padding-left: 0.2em;position: relative;}#sk-container-id-4 div.sk-item {position: relative;z-index: 1;}#sk-container-id-4 div.sk-parallel {display: flex;align-items: stretch;justify-content: center;background-color: white;position: relative;}#sk-container-id-4 div.sk-item::before, #sk-container-id-4 div.sk-parallel-item::before {content: \"\";position: absolute;border-left: 1px solid gray;box-sizing: border-box;top: 0;bottom: 0;left: 50%;z-index: -1;}#sk-container-id-4 div.sk-parallel-item {display: flex;flex-direction: column;z-index: 1;position: relative;background-color: white;}#sk-container-id-4 div.sk-parallel-item:first-child::after {align-self: flex-end;width: 50%;}#sk-container-id-4 div.sk-parallel-item:last-child::after {align-self: flex-start;width: 50%;}#sk-container-id-4 div.sk-parallel-item:only-child::after {width: 0;}#sk-container-id-4 div.sk-dashed-wrapped {border: 1px dashed gray;margin: 0 0.4em 0.5em 0.4em;box-sizing: border-box;padding-bottom: 0.4em;background-color: white;}#sk-container-id-4 div.sk-label label {font-family: monospace;font-weight: bold;display: inline-block;line-height: 1.2em;}#sk-container-id-4 div.sk-label-container {text-align: center;}#sk-container-id-4 div.sk-container {/* jupyter's `normalize.less` sets `[hidden] { display: none; }` but bootstrap.min.css set `[hidden] { display: none !important; }` so we also need the `!important` here to be able to override the default hidden behavior on the sphinx rendered scikit-learn.org. See: https://github.com/scikit-learn/scikit-learn/issues/21755 */display: inline-block !important;position: relative;}#sk-container-id-4 div.sk-text-repr-fallback {display: none;}</style><div id=\"sk-container-id-4\" class=\"sk-top-container\"><div class=\"sk-text-repr-fallback\"><pre>RandomForestRegressor()</pre><b>In a Jupyter environment, please rerun this cell to show the HTML representation or trust the notebook. <br />On GitHub, the HTML representation is unable to render, please try loading this page with nbviewer.org.</b></div><div class=\"sk-container\" hidden><div class=\"sk-item\"><div class=\"sk-estimator sk-toggleable\"><input class=\"sk-toggleable__control sk-hidden--visually\" id=\"sk-estimator-id-4\" type=\"checkbox\" checked><label for=\"sk-estimator-id-4\" class=\"sk-toggleable__label sk-toggleable__label-arrow\">RandomForestRegressor</label><div class=\"sk-toggleable__content\"><pre>RandomForestRegressor()</pre></div></div></div></div></div>"
      ],
      "text/plain": [
       "RandomForestRegressor()"
      ]
     },
     "execution_count": 31,
     "metadata": {},
     "output_type": "execute_result"
    }
   ],
   "source": [
    "RFRegressor = RandomForestRegressor()\n",
    "RFRegressor.fit(X_train, y_train)"
   ]
  },
  {
   "cell_type": "code",
   "execution_count": 32,
   "id": "e624378d",
   "metadata": {
    "execution": {
     "iopub.execute_input": "2024-08-26T16:52:37.614248Z",
     "iopub.status.busy": "2024-08-26T16:52:37.613378Z",
     "iopub.status.idle": "2024-08-26T16:52:37.668245Z",
     "shell.execute_reply": "2024-08-26T16:52:37.667186Z"
    },
    "papermill": {
     "duration": 0.070145,
     "end_time": "2024-08-26T16:52:37.670868",
     "exception": false,
     "start_time": "2024-08-26T16:52:37.600723",
     "status": "completed"
    },
    "tags": []
   },
   "outputs": [],
   "source": [
    "y_pred4 = RFRegressor.predict(X_test)"
   ]
  },
  {
   "cell_type": "code",
   "execution_count": 33,
   "id": "9af5ffdb",
   "metadata": {
    "execution": {
     "iopub.execute_input": "2024-08-26T16:52:37.695540Z",
     "iopub.status.busy": "2024-08-26T16:52:37.694882Z",
     "iopub.status.idle": "2024-08-26T16:52:37.702143Z",
     "shell.execute_reply": "2024-08-26T16:52:37.700938Z"
    },
    "papermill": {
     "duration": 0.021858,
     "end_time": "2024-08-26T16:52:37.704252",
     "exception": false,
     "start_time": "2024-08-26T16:52:37.682394",
     "status": "completed"
    },
    "tags": []
   },
   "outputs": [],
   "source": [
    "mse = mean_squared_error(y_test, y_pred4)\n",
    "r2 = r2_score(y_test, y_pred4)\n",
    "mae = mean_absolute_error(y_test, y_pred4)"
   ]
  },
  {
   "cell_type": "code",
   "execution_count": 34,
   "id": "8261d441",
   "metadata": {
    "execution": {
     "iopub.execute_input": "2024-08-26T16:52:37.729242Z",
     "iopub.status.busy": "2024-08-26T16:52:37.728384Z",
     "iopub.status.idle": "2024-08-26T16:52:37.733799Z",
     "shell.execute_reply": "2024-08-26T16:52:37.732823Z"
    },
    "papermill": {
     "duration": 0.020172,
     "end_time": "2024-08-26T16:52:37.736099",
     "exception": false,
     "start_time": "2024-08-26T16:52:37.715927",
     "status": "completed"
    },
    "tags": []
   },
   "outputs": [
    {
     "name": "stdout",
     "output_type": "stream",
     "text": [
      "Mean Squared Error: 55312946.52229648\n",
      "R-squared: 0.9992282469283442\n",
      "Mean Absolute Error: 5831.244943309436\n"
     ]
    }
   ],
   "source": [
    "print(\"Mean Squared Error:\", mse)\n",
    "print(\"R-squared:\", r2)\n",
    "print(\"Mean Absolute Error:\", mae)"
   ]
  },
  {
   "cell_type": "code",
   "execution_count": null,
   "id": "791bb59d",
   "metadata": {
    "papermill": {
     "duration": 0.011247,
     "end_time": "2024-08-26T16:52:37.758970",
     "exception": false,
     "start_time": "2024-08-26T16:52:37.747723",
     "status": "completed"
    },
    "tags": []
   },
   "outputs": [],
   "source": []
  }
 ],
 "metadata": {
  "kaggle": {
   "accelerator": "none",
   "dataSources": [
    {
     "datasetId": 5289783,
     "sourceId": 8797164,
     "sourceType": "datasetVersion"
    }
   ],
   "dockerImageVersionId": 30746,
   "isGpuEnabled": false,
   "isInternetEnabled": false,
   "language": "python",
   "sourceType": "notebook"
  },
  "kernelspec": {
   "display_name": "Python 3",
   "language": "python",
   "name": "python3"
  },
  "language_info": {
   "codemirror_mode": {
    "name": "ipython",
    "version": 3
   },
   "file_extension": ".py",
   "mimetype": "text/x-python",
   "name": "python",
   "nbconvert_exporter": "python",
   "pygments_lexer": "ipython3",
   "version": "3.10.13"
  },
  "papermill": {
   "default_parameters": {},
   "duration": 14.763463,
   "end_time": "2024-08-26T16:52:38.290365",
   "environment_variables": {},
   "exception": null,
   "input_path": "__notebook__.ipynb",
   "output_path": "__notebook__.ipynb",
   "parameters": {},
   "start_time": "2024-08-26T16:52:23.526902",
   "version": "2.5.0"
  }
 },
 "nbformat": 4,
 "nbformat_minor": 5
}
