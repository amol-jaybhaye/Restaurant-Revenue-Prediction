{
 "cells": [
  {
   "cell_type": "code",
   "execution_count": 1,
   "id": "699bc5c6",
   "metadata": {
    "_cell_guid": "b1076dfc-b9ad-4769-8c92-a6c4dae69d19",
    "_uuid": "8f2839f25d086af736a60e9eeb907d3b93b6e0e5",
    "execution": {
     "iopub.execute_input": "2024-07-29T16:47:37.102804Z",
     "iopub.status.busy": "2024-07-29T16:47:37.102369Z",
     "iopub.status.idle": "2024-07-29T16:47:38.106373Z",
     "shell.execute_reply": "2024-07-29T16:47:38.105031Z"
    },
    "papermill": {
     "duration": 1.018097,
     "end_time": "2024-07-29T16:47:38.108938",
     "exception": false,
     "start_time": "2024-07-29T16:47:37.090841",
     "status": "completed"
    },
    "tags": []
   },
   "outputs": [
    {
     "name": "stdout",
     "output_type": "stream",
     "text": [
      "/kaggle/input/restaurant-revenue-prediction-dataset/restaurant_data.csv\n"
     ]
    }
   ],
   "source": [
    "# This Python 3 environment comes with many helpful analytics libraries installed\n",
    "# It is defined by the kaggle/python Docker image: https://github.com/kaggle/docker-python\n",
    "# For example, here's several helpful packages to load\n",
    "\n",
    "import numpy as np # linear algebra\n",
    "import pandas as pd # data processing, CSV file I/O (e.g. pd.read_csv)\n",
    "\n",
    "# Input data files are available in the read-only \"../input/\" directory\n",
    "# For example, running this (by clicking run or pressing Shift+Enter) will list all files under the input directory\n",
    "\n",
    "import os\n",
    "for dirname, _, filenames in os.walk('/kaggle/input'):\n",
    "    for filename in filenames:\n",
    "        print(os.path.join(dirname, filename))\n",
    "\n",
    "# You can write up to 20GB to the current directory (/kaggle/working/) that gets preserved as output when you create a version using \"Save & Run All\" \n",
    "# You can also write temporary files to /kaggle/temp/, but they won't be saved outside of the current session"
   ]
  },
  {
   "cell_type": "code",
   "execution_count": 2,
   "id": "083a2ca4",
   "metadata": {
    "execution": {
     "iopub.execute_input": "2024-07-29T16:47:38.129864Z",
     "iopub.status.busy": "2024-07-29T16:47:38.129330Z",
     "iopub.status.idle": "2024-07-29T16:47:39.670978Z",
     "shell.execute_reply": "2024-07-29T16:47:39.669851Z"
    },
    "papermill": {
     "duration": 1.555435,
     "end_time": "2024-07-29T16:47:39.673944",
     "exception": false,
     "start_time": "2024-07-29T16:47:38.118509",
     "status": "completed"
    },
    "tags": []
   },
   "outputs": [],
   "source": [
    "from sklearn.model_selection import train_test_split\n",
    "from sklearn.linear_model import LinearRegression\n",
    "from sklearn.metrics import mean_squared_error, r2_score\n",
    "from sklearn.linear_model import Ridge, Lasso\n",
    "from sklearn.model_selection import train_test_split, RandomizedSearchCV\n",
    "from sklearn.linear_model import Ridge, Lasso\n",
    "from scipy.stats import uniform"
   ]
  },
  {
   "cell_type": "code",
   "execution_count": 3,
   "id": "8bfcb7bb",
   "metadata": {
    "execution": {
     "iopub.execute_input": "2024-07-29T16:47:39.694888Z",
     "iopub.status.busy": "2024-07-29T16:47:39.694449Z",
     "iopub.status.idle": "2024-07-29T16:47:39.784948Z",
     "shell.execute_reply": "2024-07-29T16:47:39.783681Z"
    },
    "papermill": {
     "duration": 0.103989,
     "end_time": "2024-07-29T16:47:39.787542",
     "exception": false,
     "start_time": "2024-07-29T16:47:39.683553",
     "status": "completed"
    },
    "tags": []
   },
   "outputs": [
    {
     "data": {
      "text/html": [
       "<div>\n",
       "<style scoped>\n",
       "    .dataframe tbody tr th:only-of-type {\n",
       "        vertical-align: middle;\n",
       "    }\n",
       "\n",
       "    .dataframe tbody tr th {\n",
       "        vertical-align: top;\n",
       "    }\n",
       "\n",
       "    .dataframe thead th {\n",
       "        text-align: right;\n",
       "    }\n",
       "</style>\n",
       "<table border=\"1\" class=\"dataframe\">\n",
       "  <thead>\n",
       "    <tr style=\"text-align: right;\">\n",
       "      <th></th>\n",
       "      <th>Name</th>\n",
       "      <th>Location</th>\n",
       "      <th>Cuisine</th>\n",
       "      <th>Rating</th>\n",
       "      <th>Seating Capacity</th>\n",
       "      <th>Average Meal Price</th>\n",
       "      <th>Marketing Budget</th>\n",
       "      <th>Social Media Followers</th>\n",
       "      <th>Chef Experience Years</th>\n",
       "      <th>Number of Reviews</th>\n",
       "      <th>Avg Review Length</th>\n",
       "      <th>Ambience Score</th>\n",
       "      <th>Service Quality Score</th>\n",
       "      <th>Parking Availability</th>\n",
       "      <th>Weekend Reservations</th>\n",
       "      <th>Weekday Reservations</th>\n",
       "      <th>Revenue</th>\n",
       "    </tr>\n",
       "  </thead>\n",
       "  <tbody>\n",
       "    <tr>\n",
       "      <th>0</th>\n",
       "      <td>Restaurant 0</td>\n",
       "      <td>Rural</td>\n",
       "      <td>Japanese</td>\n",
       "      <td>4.0</td>\n",
       "      <td>38</td>\n",
       "      <td>73.98</td>\n",
       "      <td>2224</td>\n",
       "      <td>23406</td>\n",
       "      <td>13</td>\n",
       "      <td>185</td>\n",
       "      <td>161.924906</td>\n",
       "      <td>1.3</td>\n",
       "      <td>7.0</td>\n",
       "      <td>Yes</td>\n",
       "      <td>13</td>\n",
       "      <td>4</td>\n",
       "      <td>638945.52</td>\n",
       "    </tr>\n",
       "    <tr>\n",
       "      <th>1</th>\n",
       "      <td>Restaurant 1</td>\n",
       "      <td>Downtown</td>\n",
       "      <td>Mexican</td>\n",
       "      <td>3.2</td>\n",
       "      <td>76</td>\n",
       "      <td>28.11</td>\n",
       "      <td>4416</td>\n",
       "      <td>42741</td>\n",
       "      <td>8</td>\n",
       "      <td>533</td>\n",
       "      <td>148.759717</td>\n",
       "      <td>2.6</td>\n",
       "      <td>3.4</td>\n",
       "      <td>Yes</td>\n",
       "      <td>48</td>\n",
       "      <td>6</td>\n",
       "      <td>490207.83</td>\n",
       "    </tr>\n",
       "    <tr>\n",
       "      <th>2</th>\n",
       "      <td>Restaurant 2</td>\n",
       "      <td>Rural</td>\n",
       "      <td>Italian</td>\n",
       "      <td>4.7</td>\n",
       "      <td>48</td>\n",
       "      <td>48.29</td>\n",
       "      <td>2796</td>\n",
       "      <td>37285</td>\n",
       "      <td>18</td>\n",
       "      <td>853</td>\n",
       "      <td>56.849189</td>\n",
       "      <td>5.3</td>\n",
       "      <td>6.7</td>\n",
       "      <td>No</td>\n",
       "      <td>27</td>\n",
       "      <td>14</td>\n",
       "      <td>541368.62</td>\n",
       "    </tr>\n",
       "    <tr>\n",
       "      <th>3</th>\n",
       "      <td>Restaurant 3</td>\n",
       "      <td>Rural</td>\n",
       "      <td>Italian</td>\n",
       "      <td>4.4</td>\n",
       "      <td>34</td>\n",
       "      <td>51.55</td>\n",
       "      <td>1167</td>\n",
       "      <td>15214</td>\n",
       "      <td>13</td>\n",
       "      <td>82</td>\n",
       "      <td>205.433265</td>\n",
       "      <td>4.6</td>\n",
       "      <td>2.8</td>\n",
       "      <td>Yes</td>\n",
       "      <td>9</td>\n",
       "      <td>17</td>\n",
       "      <td>404556.80</td>\n",
       "    </tr>\n",
       "    <tr>\n",
       "      <th>4</th>\n",
       "      <td>Restaurant 4</td>\n",
       "      <td>Downtown</td>\n",
       "      <td>Japanese</td>\n",
       "      <td>4.9</td>\n",
       "      <td>88</td>\n",
       "      <td>75.98</td>\n",
       "      <td>3639</td>\n",
       "      <td>40171</td>\n",
       "      <td>9</td>\n",
       "      <td>78</td>\n",
       "      <td>241.681584</td>\n",
       "      <td>8.6</td>\n",
       "      <td>2.1</td>\n",
       "      <td>No</td>\n",
       "      <td>37</td>\n",
       "      <td>26</td>\n",
       "      <td>1491046.35</td>\n",
       "    </tr>\n",
       "  </tbody>\n",
       "</table>\n",
       "</div>"
      ],
      "text/plain": [
       "           Name  Location   Cuisine  Rating  Seating Capacity  \\\n",
       "0  Restaurant 0     Rural  Japanese     4.0                38   \n",
       "1  Restaurant 1  Downtown   Mexican     3.2                76   \n",
       "2  Restaurant 2     Rural   Italian     4.7                48   \n",
       "3  Restaurant 3     Rural   Italian     4.4                34   \n",
       "4  Restaurant 4  Downtown  Japanese     4.9                88   \n",
       "\n",
       "   Average Meal Price  Marketing Budget  Social Media Followers  \\\n",
       "0               73.98              2224                   23406   \n",
       "1               28.11              4416                   42741   \n",
       "2               48.29              2796                   37285   \n",
       "3               51.55              1167                   15214   \n",
       "4               75.98              3639                   40171   \n",
       "\n",
       "   Chef Experience Years  Number of Reviews  Avg Review Length  \\\n",
       "0                     13                185         161.924906   \n",
       "1                      8                533         148.759717   \n",
       "2                     18                853          56.849189   \n",
       "3                     13                 82         205.433265   \n",
       "4                      9                 78         241.681584   \n",
       "\n",
       "   Ambience Score  Service Quality Score Parking Availability  \\\n",
       "0             1.3                    7.0                  Yes   \n",
       "1             2.6                    3.4                  Yes   \n",
       "2             5.3                    6.7                   No   \n",
       "3             4.6                    2.8                  Yes   \n",
       "4             8.6                    2.1                   No   \n",
       "\n",
       "   Weekend Reservations  Weekday Reservations     Revenue  \n",
       "0                    13                     4   638945.52  \n",
       "1                    48                     6   490207.83  \n",
       "2                    27                    14   541368.62  \n",
       "3                     9                    17   404556.80  \n",
       "4                    37                    26  1491046.35  "
      ]
     },
     "execution_count": 3,
     "metadata": {},
     "output_type": "execute_result"
    }
   ],
   "source": [
    "df = pd.read_csv('/kaggle/input/restaurant-revenue-prediction-dataset/restaurant_data.csv')\n",
    "df.head()"
   ]
  },
  {
   "cell_type": "code",
   "execution_count": 4,
   "id": "64d36f94",
   "metadata": {
    "execution": {
     "iopub.execute_input": "2024-07-29T16:47:39.809560Z",
     "iopub.status.busy": "2024-07-29T16:47:39.809093Z",
     "iopub.status.idle": "2024-07-29T16:47:39.816822Z",
     "shell.execute_reply": "2024-07-29T16:47:39.815645Z"
    },
    "papermill": {
     "duration": 0.021806,
     "end_time": "2024-07-29T16:47:39.819390",
     "exception": false,
     "start_time": "2024-07-29T16:47:39.797584",
     "status": "completed"
    },
    "tags": []
   },
   "outputs": [
    {
     "data": {
      "text/plain": [
       "Index(['Name', 'Location', 'Cuisine', 'Rating', 'Seating Capacity',\n",
       "       'Average Meal Price', 'Marketing Budget', 'Social Media Followers',\n",
       "       'Chef Experience Years', 'Number of Reviews', 'Avg Review Length',\n",
       "       'Ambience Score', 'Service Quality Score', 'Parking Availability',\n",
       "       'Weekend Reservations', 'Weekday Reservations', 'Revenue'],\n",
       "      dtype='object')"
      ]
     },
     "execution_count": 4,
     "metadata": {},
     "output_type": "execute_result"
    }
   ],
   "source": [
    "#Coulumns from dataset\n",
    "df.columns"
   ]
  },
  {
   "cell_type": "markdown",
   "id": "c557f0dd",
   "metadata": {
    "papermill": {
     "duration": 0.009753,
     "end_time": "2024-07-29T16:47:39.839353",
     "exception": false,
     "start_time": "2024-07-29T16:47:39.829600",
     "status": "completed"
    },
    "tags": []
   },
   "source": [
    "# **Understanding the Data**\n",
    "\n",
    "**Name**: Identifier for the restaurant\n",
    "\n",
    "**Location**: Categorical feature indicating the restaurant's location.\n",
    "\n",
    "**Cuisine**: Categorical feature indicating the type of cuisine.\n",
    "\n",
    "**Rating**: Numerical feature for average rating.\n",
    "\n",
    "**Seating Capacity**: Numerical feature for the number of seats.\n",
    "\n",
    "**Average Meal Price**: Numerical feature for average meal cost.\n",
    "\n",
    "**Marketing Budget**: Numerical feature for marketing expenses.\n",
    "\n",
    "**Social Media Followers**: Numerical feature for the number of followers.\n",
    "\n",
    "**Chef Experience Years**: Numerical feature for the chef's experience.\n",
    "\n",
    "**Number of Reviews**: Numerical feature for the total reviews.\n",
    "\n",
    "**Avg Review Length**: Numerical feature for the average review length.\n",
    "\n",
    "**Ambience Score**: Numerical feature for the ambience.\n",
    "\n",
    "**Service Quality Score**: Numerical feature for service quality.\n",
    "\n",
    "**Parking Availability**: Categorical feature indicating if parking is available.\n",
    "\n",
    "**Weekend Reservations**: Numerical feature for weekend reservations.\n",
    "\n",
    "**Weekday Reservations**: Numerical feature for weekday reservations.\n",
    "\n",
    "**Revenue**: Target variable, numerical feature for total revenue."
   ]
  },
  {
   "cell_type": "code",
   "execution_count": 5,
   "id": "e2009463",
   "metadata": {
    "execution": {
     "iopub.execute_input": "2024-07-29T16:47:39.861345Z",
     "iopub.status.busy": "2024-07-29T16:47:39.860913Z",
     "iopub.status.idle": "2024-07-29T16:47:39.922260Z",
     "shell.execute_reply": "2024-07-29T16:47:39.920993Z"
    },
    "papermill": {
     "duration": 0.075916,
     "end_time": "2024-07-29T16:47:39.925260",
     "exception": false,
     "start_time": "2024-07-29T16:47:39.849344",
     "status": "completed"
    },
    "tags": []
   },
   "outputs": [
    {
     "data": {
      "text/html": [
       "<div>\n",
       "<style scoped>\n",
       "    .dataframe tbody tr th:only-of-type {\n",
       "        vertical-align: middle;\n",
       "    }\n",
       "\n",
       "    .dataframe tbody tr th {\n",
       "        vertical-align: top;\n",
       "    }\n",
       "\n",
       "    .dataframe thead th {\n",
       "        text-align: right;\n",
       "    }\n",
       "</style>\n",
       "<table border=\"1\" class=\"dataframe\">\n",
       "  <thead>\n",
       "    <tr style=\"text-align: right;\">\n",
       "      <th></th>\n",
       "      <th>Rating</th>\n",
       "      <th>Seating Capacity</th>\n",
       "      <th>Average Meal Price</th>\n",
       "      <th>Marketing Budget</th>\n",
       "      <th>Social Media Followers</th>\n",
       "      <th>Chef Experience Years</th>\n",
       "      <th>Number of Reviews</th>\n",
       "      <th>Avg Review Length</th>\n",
       "      <th>Ambience Score</th>\n",
       "      <th>Service Quality Score</th>\n",
       "      <th>Weekend Reservations</th>\n",
       "      <th>Weekday Reservations</th>\n",
       "      <th>Revenue</th>\n",
       "    </tr>\n",
       "  </thead>\n",
       "  <tbody>\n",
       "    <tr>\n",
       "      <th>count</th>\n",
       "      <td>8368.000000</td>\n",
       "      <td>8368.000000</td>\n",
       "      <td>8368.000000</td>\n",
       "      <td>8368.000000</td>\n",
       "      <td>8368.000000</td>\n",
       "      <td>8368.000000</td>\n",
       "      <td>8368.000000</td>\n",
       "      <td>8368.000000</td>\n",
       "      <td>8368.000000</td>\n",
       "      <td>8368.000000</td>\n",
       "      <td>8368.000000</td>\n",
       "      <td>8368.000000</td>\n",
       "      <td>8.368000e+03</td>\n",
       "    </tr>\n",
       "    <tr>\n",
       "      <th>mean</th>\n",
       "      <td>4.008258</td>\n",
       "      <td>60.212835</td>\n",
       "      <td>47.896659</td>\n",
       "      <td>3218.254900</td>\n",
       "      <td>36190.621773</td>\n",
       "      <td>10.051984</td>\n",
       "      <td>523.010397</td>\n",
       "      <td>174.769974</td>\n",
       "      <td>5.521283</td>\n",
       "      <td>5.508772</td>\n",
       "      <td>29.491754</td>\n",
       "      <td>29.235301</td>\n",
       "      <td>6.560706e+05</td>\n",
       "    </tr>\n",
       "    <tr>\n",
       "      <th>std</th>\n",
       "      <td>0.581474</td>\n",
       "      <td>17.399488</td>\n",
       "      <td>14.336767</td>\n",
       "      <td>1824.896053</td>\n",
       "      <td>18630.153330</td>\n",
       "      <td>5.516606</td>\n",
       "      <td>277.215127</td>\n",
       "      <td>71.998060</td>\n",
       "      <td>2.575442</td>\n",
       "      <td>2.586552</td>\n",
       "      <td>20.025415</td>\n",
       "      <td>20.004277</td>\n",
       "      <td>2.674137e+05</td>\n",
       "    </tr>\n",
       "    <tr>\n",
       "      <th>min</th>\n",
       "      <td>3.000000</td>\n",
       "      <td>30.000000</td>\n",
       "      <td>25.000000</td>\n",
       "      <td>604.000000</td>\n",
       "      <td>5277.000000</td>\n",
       "      <td>1.000000</td>\n",
       "      <td>50.000000</td>\n",
       "      <td>50.011717</td>\n",
       "      <td>1.000000</td>\n",
       "      <td>1.000000</td>\n",
       "      <td>0.000000</td>\n",
       "      <td>0.000000</td>\n",
       "      <td>1.847085e+05</td>\n",
       "    </tr>\n",
       "    <tr>\n",
       "      <th>25%</th>\n",
       "      <td>3.500000</td>\n",
       "      <td>45.000000</td>\n",
       "      <td>35.490000</td>\n",
       "      <td>1889.000000</td>\n",
       "      <td>22592.500000</td>\n",
       "      <td>5.000000</td>\n",
       "      <td>277.000000</td>\n",
       "      <td>113.311102</td>\n",
       "      <td>3.300000</td>\n",
       "      <td>3.200000</td>\n",
       "      <td>13.000000</td>\n",
       "      <td>13.000000</td>\n",
       "      <td>4.546514e+05</td>\n",
       "    </tr>\n",
       "    <tr>\n",
       "      <th>50%</th>\n",
       "      <td>4.000000</td>\n",
       "      <td>60.000000</td>\n",
       "      <td>45.535000</td>\n",
       "      <td>2846.500000</td>\n",
       "      <td>32518.500000</td>\n",
       "      <td>10.000000</td>\n",
       "      <td>528.000000</td>\n",
       "      <td>173.910079</td>\n",
       "      <td>5.500000</td>\n",
       "      <td>5.600000</td>\n",
       "      <td>27.000000</td>\n",
       "      <td>26.000000</td>\n",
       "      <td>6.042421e+05</td>\n",
       "    </tr>\n",
       "    <tr>\n",
       "      <th>75%</th>\n",
       "      <td>4.500000</td>\n",
       "      <td>75.000000</td>\n",
       "      <td>60.300000</td>\n",
       "      <td>4008.500000</td>\n",
       "      <td>44566.250000</td>\n",
       "      <td>15.000000</td>\n",
       "      <td>764.250000</td>\n",
       "      <td>237.406885</td>\n",
       "      <td>7.800000</td>\n",
       "      <td>7.800000</td>\n",
       "      <td>43.000000</td>\n",
       "      <td>43.000000</td>\n",
       "      <td>8.130942e+05</td>\n",
       "    </tr>\n",
       "    <tr>\n",
       "      <th>max</th>\n",
       "      <td>5.000000</td>\n",
       "      <td>90.000000</td>\n",
       "      <td>76.000000</td>\n",
       "      <td>9978.000000</td>\n",
       "      <td>103777.000000</td>\n",
       "      <td>19.000000</td>\n",
       "      <td>999.000000</td>\n",
       "      <td>299.984924</td>\n",
       "      <td>10.000000</td>\n",
       "      <td>10.000000</td>\n",
       "      <td>88.000000</td>\n",
       "      <td>88.000000</td>\n",
       "      <td>1.531868e+06</td>\n",
       "    </tr>\n",
       "  </tbody>\n",
       "</table>\n",
       "</div>"
      ],
      "text/plain": [
       "            Rating  Seating Capacity  Average Meal Price  Marketing Budget  \\\n",
       "count  8368.000000       8368.000000         8368.000000       8368.000000   \n",
       "mean      4.008258         60.212835           47.896659       3218.254900   \n",
       "std       0.581474         17.399488           14.336767       1824.896053   \n",
       "min       3.000000         30.000000           25.000000        604.000000   \n",
       "25%       3.500000         45.000000           35.490000       1889.000000   \n",
       "50%       4.000000         60.000000           45.535000       2846.500000   \n",
       "75%       4.500000         75.000000           60.300000       4008.500000   \n",
       "max       5.000000         90.000000           76.000000       9978.000000   \n",
       "\n",
       "       Social Media Followers  Chef Experience Years  Number of Reviews  \\\n",
       "count             8368.000000            8368.000000        8368.000000   \n",
       "mean             36190.621773              10.051984         523.010397   \n",
       "std              18630.153330               5.516606         277.215127   \n",
       "min               5277.000000               1.000000          50.000000   \n",
       "25%              22592.500000               5.000000         277.000000   \n",
       "50%              32518.500000              10.000000         528.000000   \n",
       "75%              44566.250000              15.000000         764.250000   \n",
       "max             103777.000000              19.000000         999.000000   \n",
       "\n",
       "       Avg Review Length  Ambience Score  Service Quality Score  \\\n",
       "count        8368.000000     8368.000000            8368.000000   \n",
       "mean          174.769974        5.521283               5.508772   \n",
       "std            71.998060        2.575442               2.586552   \n",
       "min            50.011717        1.000000               1.000000   \n",
       "25%           113.311102        3.300000               3.200000   \n",
       "50%           173.910079        5.500000               5.600000   \n",
       "75%           237.406885        7.800000               7.800000   \n",
       "max           299.984924       10.000000              10.000000   \n",
       "\n",
       "       Weekend Reservations  Weekday Reservations       Revenue  \n",
       "count           8368.000000           8368.000000  8.368000e+03  \n",
       "mean              29.491754             29.235301  6.560706e+05  \n",
       "std               20.025415             20.004277  2.674137e+05  \n",
       "min                0.000000              0.000000  1.847085e+05  \n",
       "25%               13.000000             13.000000  4.546514e+05  \n",
       "50%               27.000000             26.000000  6.042421e+05  \n",
       "75%               43.000000             43.000000  8.130942e+05  \n",
       "max               88.000000             88.000000  1.531868e+06  "
      ]
     },
     "execution_count": 5,
     "metadata": {},
     "output_type": "execute_result"
    }
   ],
   "source": [
    "df.describe()"
   ]
  },
  {
   "cell_type": "code",
   "execution_count": 6,
   "id": "f2d13faf",
   "metadata": {
    "execution": {
     "iopub.execute_input": "2024-07-29T16:47:39.949252Z",
     "iopub.status.busy": "2024-07-29T16:47:39.948833Z",
     "iopub.status.idle": "2024-07-29T16:47:39.966029Z",
     "shell.execute_reply": "2024-07-29T16:47:39.964846Z"
    },
    "papermill": {
     "duration": 0.033164,
     "end_time": "2024-07-29T16:47:39.969109",
     "exception": false,
     "start_time": "2024-07-29T16:47:39.935945",
     "status": "completed"
    },
    "tags": []
   },
   "outputs": [
    {
     "name": "stdout",
     "output_type": "stream",
     "text": [
      "                                        Column  Null Count  Null Percentage\n",
      "Name                                      Name           0              0.0\n",
      "Location                              Location           0              0.0\n",
      "Cuisine                                Cuisine           0              0.0\n",
      "Rating                                  Rating           0              0.0\n",
      "Seating Capacity              Seating Capacity           0              0.0\n",
      "Average Meal Price          Average Meal Price           0              0.0\n",
      "Marketing Budget              Marketing Budget           0              0.0\n",
      "Social Media Followers  Social Media Followers           0              0.0\n",
      "Chef Experience Years    Chef Experience Years           0              0.0\n",
      "Number of Reviews            Number of Reviews           0              0.0\n",
      "Avg Review Length            Avg Review Length           0              0.0\n",
      "Ambience Score                  Ambience Score           0              0.0\n",
      "Service Quality Score    Service Quality Score           0              0.0\n",
      "Parking Availability      Parking Availability           0              0.0\n",
      "Weekend Reservations      Weekend Reservations           0              0.0\n",
      "Weekday Reservations      Weekday Reservations           0              0.0\n",
      "Revenue                                Revenue           0              0.0\n"
     ]
    }
   ],
   "source": [
    "# Calculate the number of null values for each column\n",
    "null_counts = df.isnull().sum()\n",
    "\n",
    "# Calculate the percentage of null values for each column\n",
    "null_percentages = (null_counts / len(df)) * 100\n",
    "\n",
    "# Combine the results into a DataFrame for better readability\n",
    "null_summary = pd.DataFrame({\n",
    "    'Column': df.columns,\n",
    "    'Null Count': null_counts,\n",
    "    'Null Percentage': null_percentages\n",
    "})\n",
    "\n",
    "# Display the summary\n",
    "print(null_summary)"
   ]
  },
  {
   "cell_type": "code",
   "execution_count": 7,
   "id": "d4e8e1d7",
   "metadata": {
    "execution": {
     "iopub.execute_input": "2024-07-29T16:47:39.992546Z",
     "iopub.status.busy": "2024-07-29T16:47:39.992105Z",
     "iopub.status.idle": "2024-07-29T16:47:40.004127Z",
     "shell.execute_reply": "2024-07-29T16:47:40.003102Z"
    },
    "papermill": {
     "duration": 0.026778,
     "end_time": "2024-07-29T16:47:40.006659",
     "exception": false,
     "start_time": "2024-07-29T16:47:39.979881",
     "status": "completed"
    },
    "tags": []
   },
   "outputs": [],
   "source": [
    "#Removing Restaurant Name\n",
    "df = df.drop(\"Name\", axis=1)"
   ]
  },
  {
   "cell_type": "code",
   "execution_count": 8,
   "id": "ea220f50",
   "metadata": {
    "execution": {
     "iopub.execute_input": "2024-07-29T16:47:40.029518Z",
     "iopub.status.busy": "2024-07-29T16:47:40.029108Z",
     "iopub.status.idle": "2024-07-29T16:47:40.039410Z",
     "shell.execute_reply": "2024-07-29T16:47:40.038313Z"
    },
    "papermill": {
     "duration": 0.024511,
     "end_time": "2024-07-29T16:47:40.041760",
     "exception": false,
     "start_time": "2024-07-29T16:47:40.017249",
     "status": "completed"
    },
    "tags": []
   },
   "outputs": [],
   "source": [
    "#Converting categorical to Numberic\n",
    "#Location and cuisine are two categorical coulms in data\n",
    "\n",
    "unique_location = df['Location'].unique()\n",
    "unique_cuisines = df['Cuisine'].unique()"
   ]
  },
  {
   "cell_type": "code",
   "execution_count": 9,
   "id": "1df3ed60",
   "metadata": {
    "execution": {
     "iopub.execute_input": "2024-07-29T16:47:40.064948Z",
     "iopub.status.busy": "2024-07-29T16:47:40.064543Z",
     "iopub.status.idle": "2024-07-29T16:47:40.071557Z",
     "shell.execute_reply": "2024-07-29T16:47:40.070512Z"
    },
    "papermill": {
     "duration": 0.021138,
     "end_time": "2024-07-29T16:47:40.074028",
     "exception": false,
     "start_time": "2024-07-29T16:47:40.052890",
     "status": "completed"
    },
    "tags": []
   },
   "outputs": [
    {
     "data": {
      "text/plain": [
       "array(['Rural', 'Downtown', 'Suburban'], dtype=object)"
      ]
     },
     "execution_count": 9,
     "metadata": {},
     "output_type": "execute_result"
    }
   ],
   "source": [
    "unique_location"
   ]
  },
  {
   "cell_type": "code",
   "execution_count": 10,
   "id": "c777f8a9",
   "metadata": {
    "execution": {
     "iopub.execute_input": "2024-07-29T16:47:40.097688Z",
     "iopub.status.busy": "2024-07-29T16:47:40.097254Z",
     "iopub.status.idle": "2024-07-29T16:47:40.104148Z",
     "shell.execute_reply": "2024-07-29T16:47:40.103060Z"
    },
    "papermill": {
     "duration": 0.022062,
     "end_time": "2024-07-29T16:47:40.106756",
     "exception": false,
     "start_time": "2024-07-29T16:47:40.084694",
     "status": "completed"
    },
    "tags": []
   },
   "outputs": [
    {
     "data": {
      "text/plain": [
       "array(['Japanese', 'Mexican', 'Italian', 'Indian', 'French', 'American'],\n",
       "      dtype=object)"
      ]
     },
     "execution_count": 10,
     "metadata": {},
     "output_type": "execute_result"
    }
   ],
   "source": [
    "unique_cuisines"
   ]
  },
  {
   "cell_type": "code",
   "execution_count": 11,
   "id": "4a9cee42",
   "metadata": {
    "execution": {
     "iopub.execute_input": "2024-07-29T16:47:40.131758Z",
     "iopub.status.busy": "2024-07-29T16:47:40.130629Z",
     "iopub.status.idle": "2024-07-29T16:47:40.142780Z",
     "shell.execute_reply": "2024-07-29T16:47:40.141543Z"
    },
    "papermill": {
     "duration": 0.027873,
     "end_time": "2024-07-29T16:47:40.145779",
     "exception": false,
     "start_time": "2024-07-29T16:47:40.117906",
     "status": "completed"
    },
    "tags": []
   },
   "outputs": [],
   "source": [
    "# One-hot encode the 'Location' column\n",
    "df = pd.get_dummies(df, columns=['Location'])"
   ]
  },
  {
   "cell_type": "code",
   "execution_count": 12,
   "id": "4620bbf6",
   "metadata": {
    "execution": {
     "iopub.execute_input": "2024-07-29T16:47:40.169788Z",
     "iopub.status.busy": "2024-07-29T16:47:40.169228Z",
     "iopub.status.idle": "2024-07-29T16:47:40.180359Z",
     "shell.execute_reply": "2024-07-29T16:47:40.179356Z"
    },
    "papermill": {
     "duration": 0.026394,
     "end_time": "2024-07-29T16:47:40.183048",
     "exception": false,
     "start_time": "2024-07-29T16:47:40.156654",
     "status": "completed"
    },
    "tags": []
   },
   "outputs": [],
   "source": [
    "# One-hot encode the 'Cuisine' column\n",
    "df = pd.get_dummies(df, columns=['Cuisine'])"
   ]
  },
  {
   "cell_type": "code",
   "execution_count": 13,
   "id": "c56b68ec",
   "metadata": {
    "execution": {
     "iopub.execute_input": "2024-07-29T16:47:40.206530Z",
     "iopub.status.busy": "2024-07-29T16:47:40.206084Z",
     "iopub.status.idle": "2024-07-29T16:47:40.216348Z",
     "shell.execute_reply": "2024-07-29T16:47:40.215408Z"
    },
    "papermill": {
     "duration": 0.024797,
     "end_time": "2024-07-29T16:47:40.218782",
     "exception": false,
     "start_time": "2024-07-29T16:47:40.193985",
     "status": "completed"
    },
    "tags": []
   },
   "outputs": [],
   "source": [
    "# Ensure all binary columns are integer type\n",
    "binary_columns = [col for col in df.columns if 'Location_' in col or 'Cuisine_' in col]\n",
    "df[binary_columns] = df[binary_columns].astype(int)"
   ]
  },
  {
   "cell_type": "code",
   "execution_count": 14,
   "id": "3a0df7c3",
   "metadata": {
    "execution": {
     "iopub.execute_input": "2024-07-29T16:47:40.241860Z",
     "iopub.status.busy": "2024-07-29T16:47:40.241431Z",
     "iopub.status.idle": "2024-07-29T16:47:40.268379Z",
     "shell.execute_reply": "2024-07-29T16:47:40.267291Z"
    },
    "papermill": {
     "duration": 0.041456,
     "end_time": "2024-07-29T16:47:40.270978",
     "exception": false,
     "start_time": "2024-07-29T16:47:40.229522",
     "status": "completed"
    },
    "tags": []
   },
   "outputs": [
    {
     "data": {
      "text/html": [
       "<div>\n",
       "<style scoped>\n",
       "    .dataframe tbody tr th:only-of-type {\n",
       "        vertical-align: middle;\n",
       "    }\n",
       "\n",
       "    .dataframe tbody tr th {\n",
       "        vertical-align: top;\n",
       "    }\n",
       "\n",
       "    .dataframe thead th {\n",
       "        text-align: right;\n",
       "    }\n",
       "</style>\n",
       "<table border=\"1\" class=\"dataframe\">\n",
       "  <thead>\n",
       "    <tr style=\"text-align: right;\">\n",
       "      <th></th>\n",
       "      <th>Rating</th>\n",
       "      <th>Seating Capacity</th>\n",
       "      <th>Average Meal Price</th>\n",
       "      <th>Marketing Budget</th>\n",
       "      <th>Social Media Followers</th>\n",
       "      <th>Chef Experience Years</th>\n",
       "      <th>Number of Reviews</th>\n",
       "      <th>Avg Review Length</th>\n",
       "      <th>Ambience Score</th>\n",
       "      <th>Service Quality Score</th>\n",
       "      <th>...</th>\n",
       "      <th>Revenue</th>\n",
       "      <th>Location_Downtown</th>\n",
       "      <th>Location_Rural</th>\n",
       "      <th>Location_Suburban</th>\n",
       "      <th>Cuisine_American</th>\n",
       "      <th>Cuisine_French</th>\n",
       "      <th>Cuisine_Indian</th>\n",
       "      <th>Cuisine_Italian</th>\n",
       "      <th>Cuisine_Japanese</th>\n",
       "      <th>Cuisine_Mexican</th>\n",
       "    </tr>\n",
       "  </thead>\n",
       "  <tbody>\n",
       "    <tr>\n",
       "      <th>0</th>\n",
       "      <td>4.0</td>\n",
       "      <td>38</td>\n",
       "      <td>73.98</td>\n",
       "      <td>2224</td>\n",
       "      <td>23406</td>\n",
       "      <td>13</td>\n",
       "      <td>185</td>\n",
       "      <td>161.924906</td>\n",
       "      <td>1.3</td>\n",
       "      <td>7.0</td>\n",
       "      <td>...</td>\n",
       "      <td>638945.52</td>\n",
       "      <td>0</td>\n",
       "      <td>1</td>\n",
       "      <td>0</td>\n",
       "      <td>0</td>\n",
       "      <td>0</td>\n",
       "      <td>0</td>\n",
       "      <td>0</td>\n",
       "      <td>1</td>\n",
       "      <td>0</td>\n",
       "    </tr>\n",
       "    <tr>\n",
       "      <th>1</th>\n",
       "      <td>3.2</td>\n",
       "      <td>76</td>\n",
       "      <td>28.11</td>\n",
       "      <td>4416</td>\n",
       "      <td>42741</td>\n",
       "      <td>8</td>\n",
       "      <td>533</td>\n",
       "      <td>148.759717</td>\n",
       "      <td>2.6</td>\n",
       "      <td>3.4</td>\n",
       "      <td>...</td>\n",
       "      <td>490207.83</td>\n",
       "      <td>1</td>\n",
       "      <td>0</td>\n",
       "      <td>0</td>\n",
       "      <td>0</td>\n",
       "      <td>0</td>\n",
       "      <td>0</td>\n",
       "      <td>0</td>\n",
       "      <td>0</td>\n",
       "      <td>1</td>\n",
       "    </tr>\n",
       "    <tr>\n",
       "      <th>2</th>\n",
       "      <td>4.7</td>\n",
       "      <td>48</td>\n",
       "      <td>48.29</td>\n",
       "      <td>2796</td>\n",
       "      <td>37285</td>\n",
       "      <td>18</td>\n",
       "      <td>853</td>\n",
       "      <td>56.849189</td>\n",
       "      <td>5.3</td>\n",
       "      <td>6.7</td>\n",
       "      <td>...</td>\n",
       "      <td>541368.62</td>\n",
       "      <td>0</td>\n",
       "      <td>1</td>\n",
       "      <td>0</td>\n",
       "      <td>0</td>\n",
       "      <td>0</td>\n",
       "      <td>0</td>\n",
       "      <td>1</td>\n",
       "      <td>0</td>\n",
       "      <td>0</td>\n",
       "    </tr>\n",
       "    <tr>\n",
       "      <th>3</th>\n",
       "      <td>4.4</td>\n",
       "      <td>34</td>\n",
       "      <td>51.55</td>\n",
       "      <td>1167</td>\n",
       "      <td>15214</td>\n",
       "      <td>13</td>\n",
       "      <td>82</td>\n",
       "      <td>205.433265</td>\n",
       "      <td>4.6</td>\n",
       "      <td>2.8</td>\n",
       "      <td>...</td>\n",
       "      <td>404556.80</td>\n",
       "      <td>0</td>\n",
       "      <td>1</td>\n",
       "      <td>0</td>\n",
       "      <td>0</td>\n",
       "      <td>0</td>\n",
       "      <td>0</td>\n",
       "      <td>1</td>\n",
       "      <td>0</td>\n",
       "      <td>0</td>\n",
       "    </tr>\n",
       "    <tr>\n",
       "      <th>4</th>\n",
       "      <td>4.9</td>\n",
       "      <td>88</td>\n",
       "      <td>75.98</td>\n",
       "      <td>3639</td>\n",
       "      <td>40171</td>\n",
       "      <td>9</td>\n",
       "      <td>78</td>\n",
       "      <td>241.681584</td>\n",
       "      <td>8.6</td>\n",
       "      <td>2.1</td>\n",
       "      <td>...</td>\n",
       "      <td>1491046.35</td>\n",
       "      <td>1</td>\n",
       "      <td>0</td>\n",
       "      <td>0</td>\n",
       "      <td>0</td>\n",
       "      <td>0</td>\n",
       "      <td>0</td>\n",
       "      <td>0</td>\n",
       "      <td>1</td>\n",
       "      <td>0</td>\n",
       "    </tr>\n",
       "  </tbody>\n",
       "</table>\n",
       "<p>5 rows × 23 columns</p>\n",
       "</div>"
      ],
      "text/plain": [
       "   Rating  Seating Capacity  Average Meal Price  Marketing Budget  \\\n",
       "0     4.0                38               73.98              2224   \n",
       "1     3.2                76               28.11              4416   \n",
       "2     4.7                48               48.29              2796   \n",
       "3     4.4                34               51.55              1167   \n",
       "4     4.9                88               75.98              3639   \n",
       "\n",
       "   Social Media Followers  Chef Experience Years  Number of Reviews  \\\n",
       "0                   23406                     13                185   \n",
       "1                   42741                      8                533   \n",
       "2                   37285                     18                853   \n",
       "3                   15214                     13                 82   \n",
       "4                   40171                      9                 78   \n",
       "\n",
       "   Avg Review Length  Ambience Score  Service Quality Score  ...     Revenue  \\\n",
       "0         161.924906             1.3                    7.0  ...   638945.52   \n",
       "1         148.759717             2.6                    3.4  ...   490207.83   \n",
       "2          56.849189             5.3                    6.7  ...   541368.62   \n",
       "3         205.433265             4.6                    2.8  ...   404556.80   \n",
       "4         241.681584             8.6                    2.1  ...  1491046.35   \n",
       "\n",
       "   Location_Downtown  Location_Rural  Location_Suburban  Cuisine_American  \\\n",
       "0                  0               1                  0                 0   \n",
       "1                  1               0                  0                 0   \n",
       "2                  0               1                  0                 0   \n",
       "3                  0               1                  0                 0   \n",
       "4                  1               0                  0                 0   \n",
       "\n",
       "   Cuisine_French  Cuisine_Indian  Cuisine_Italian  Cuisine_Japanese  \\\n",
       "0               0               0                0                 1   \n",
       "1               0               0                0                 0   \n",
       "2               0               0                1                 0   \n",
       "3               0               0                1                 0   \n",
       "4               0               0                0                 1   \n",
       "\n",
       "   Cuisine_Mexican  \n",
       "0                0  \n",
       "1                1  \n",
       "2                0  \n",
       "3                0  \n",
       "4                0  \n",
       "\n",
       "[5 rows x 23 columns]"
      ]
     },
     "execution_count": 14,
     "metadata": {},
     "output_type": "execute_result"
    }
   ],
   "source": [
    "df.head()"
   ]
  },
  {
   "cell_type": "code",
   "execution_count": 15,
   "id": "cec16f89",
   "metadata": {
    "execution": {
     "iopub.execute_input": "2024-07-29T16:47:40.295883Z",
     "iopub.status.busy": "2024-07-29T16:47:40.294982Z",
     "iopub.status.idle": "2024-07-29T16:47:40.303059Z",
     "shell.execute_reply": "2024-07-29T16:47:40.301830Z"
    },
    "papermill": {
     "duration": 0.023264,
     "end_time": "2024-07-29T16:47:40.305635",
     "exception": false,
     "start_time": "2024-07-29T16:47:40.282371",
     "status": "completed"
    },
    "tags": []
   },
   "outputs": [
    {
     "name": "stdout",
     "output_type": "stream",
     "text": [
      "Rating float64\n",
      "Seating Capacity int64\n",
      "Average Meal Price float64\n",
      "Marketing Budget int64\n",
      "Social Media Followers int64\n",
      "Chef Experience Years int64\n",
      "Number of Reviews int64\n",
      "Avg Review Length float64\n",
      "Ambience Score float64\n",
      "Service Quality Score float64\n",
      "Parking Availability object\n",
      "Weekend Reservations int64\n",
      "Weekday Reservations int64\n",
      "Revenue float64\n",
      "Location_Downtown int64\n",
      "Location_Rural int64\n",
      "Location_Suburban int64\n",
      "Cuisine_American int64\n",
      "Cuisine_French int64\n",
      "Cuisine_Indian int64\n",
      "Cuisine_Italian int64\n",
      "Cuisine_Japanese int64\n",
      "Cuisine_Mexican int64\n"
     ]
    }
   ],
   "source": [
    "for i in df.columns:\n",
    "    print(i, df[i].dtypes)"
   ]
  },
  {
   "cell_type": "code",
   "execution_count": 16,
   "id": "5bff6fbe",
   "metadata": {
    "execution": {
     "iopub.execute_input": "2024-07-29T16:47:40.330108Z",
     "iopub.status.busy": "2024-07-29T16:47:40.329697Z",
     "iopub.status.idle": "2024-07-29T16:47:40.338255Z",
     "shell.execute_reply": "2024-07-29T16:47:40.337117Z"
    },
    "papermill": {
     "duration": 0.02376,
     "end_time": "2024-07-29T16:47:40.340687",
     "exception": false,
     "start_time": "2024-07-29T16:47:40.316927",
     "status": "completed"
    },
    "tags": []
   },
   "outputs": [
    {
     "data": {
      "text/plain": [
       "0    Yes\n",
       "1    Yes\n",
       "2     No\n",
       "3    Yes\n",
       "4     No\n",
       "Name: Parking Availability, dtype: object"
      ]
     },
     "execution_count": 16,
     "metadata": {},
     "output_type": "execute_result"
    }
   ],
   "source": [
    "df['Parking Availability'].head()"
   ]
  },
  {
   "cell_type": "code",
   "execution_count": 17,
   "id": "8c04478a",
   "metadata": {
    "execution": {
     "iopub.execute_input": "2024-07-29T16:47:40.365653Z",
     "iopub.status.busy": "2024-07-29T16:47:40.365147Z",
     "iopub.status.idle": "2024-07-29T16:47:40.374424Z",
     "shell.execute_reply": "2024-07-29T16:47:40.373309Z"
    },
    "papermill": {
     "duration": 0.024774,
     "end_time": "2024-07-29T16:47:40.376989",
     "exception": false,
     "start_time": "2024-07-29T16:47:40.352215",
     "status": "completed"
    },
    "tags": []
   },
   "outputs": [],
   "source": [
    "df['Parking Availability'] = df['Parking Availability'].map({'Yes': 1, 'No': 0})"
   ]
  },
  {
   "cell_type": "markdown",
   "id": "18f76884",
   "metadata": {
    "papermill": {
     "duration": 0.011221,
     "end_time": "2024-07-29T16:47:40.399953",
     "exception": false,
     "start_time": "2024-07-29T16:47:40.388732",
     "status": "completed"
    },
    "tags": []
   },
   "source": [
    "## Models Building"
   ]
  },
  {
   "cell_type": "code",
   "execution_count": 18,
   "id": "9fce8460",
   "metadata": {
    "execution": {
     "iopub.execute_input": "2024-07-29T16:47:40.425509Z",
     "iopub.status.busy": "2024-07-29T16:47:40.424570Z",
     "iopub.status.idle": "2024-07-29T16:47:40.441190Z",
     "shell.execute_reply": "2024-07-29T16:47:40.439721Z"
    },
    "papermill": {
     "duration": 0.032359,
     "end_time": "2024-07-29T16:47:40.443897",
     "exception": false,
     "start_time": "2024-07-29T16:47:40.411538",
     "status": "completed"
    },
    "tags": []
   },
   "outputs": [
    {
     "name": "stdout",
     "output_type": "stream",
     "text": [
      "Training data shape: (6694, 22)\n",
      "Testing data shape: (1674, 22)\n"
     ]
    }
   ],
   "source": [
    "# Define the features (X) and target variable (y)\n",
    "X = df.drop(columns=['Revenue'])\n",
    "y = df['Revenue']\n",
    "\n",
    "# Split the data into training and testing sets\n",
    "X_train, X_test, y_train, y_test = train_test_split(X, y, test_size=0.2, random_state=42)\n",
    "\n",
    "print(f\"Training data shape: {X_train.shape}\")\n",
    "print(f\"Testing data shape: {X_test.shape}\")\n"
   ]
  },
  {
   "cell_type": "code",
   "execution_count": 19,
   "id": "7b1f8281",
   "metadata": {
    "execution": {
     "iopub.execute_input": "2024-07-29T16:47:40.468813Z",
     "iopub.status.busy": "2024-07-29T16:47:40.468228Z",
     "iopub.status.idle": "2024-07-29T16:47:40.474162Z",
     "shell.execute_reply": "2024-07-29T16:47:40.472762Z"
    },
    "papermill": {
     "duration": 0.02134,
     "end_time": "2024-07-29T16:47:40.476757",
     "exception": false,
     "start_time": "2024-07-29T16:47:40.455417",
     "status": "completed"
    },
    "tags": []
   },
   "outputs": [],
   "source": [
    "# Initialize the model\n",
    "model = LinearRegression()"
   ]
  },
  {
   "cell_type": "code",
   "execution_count": 20,
   "id": "8ed12929",
   "metadata": {
    "execution": {
     "iopub.execute_input": "2024-07-29T16:47:40.502404Z",
     "iopub.status.busy": "2024-07-29T16:47:40.501967Z",
     "iopub.status.idle": "2024-07-29T16:47:40.551541Z",
     "shell.execute_reply": "2024-07-29T16:47:40.549595Z"
    },
    "papermill": {
     "duration": 0.067,
     "end_time": "2024-07-29T16:47:40.555850",
     "exception": false,
     "start_time": "2024-07-29T16:47:40.488850",
     "status": "completed"
    },
    "tags": []
   },
   "outputs": [
    {
     "data": {
      "text/html": [
       "<style>#sk-container-id-1 {color: black;background-color: white;}#sk-container-id-1 pre{padding: 0;}#sk-container-id-1 div.sk-toggleable {background-color: white;}#sk-container-id-1 label.sk-toggleable__label {cursor: pointer;display: block;width: 100%;margin-bottom: 0;padding: 0.3em;box-sizing: border-box;text-align: center;}#sk-container-id-1 label.sk-toggleable__label-arrow:before {content: \"▸\";float: left;margin-right: 0.25em;color: #696969;}#sk-container-id-1 label.sk-toggleable__label-arrow:hover:before {color: black;}#sk-container-id-1 div.sk-estimator:hover label.sk-toggleable__label-arrow:before {color: black;}#sk-container-id-1 div.sk-toggleable__content {max-height: 0;max-width: 0;overflow: hidden;text-align: left;background-color: #f0f8ff;}#sk-container-id-1 div.sk-toggleable__content pre {margin: 0.2em;color: black;border-radius: 0.25em;background-color: #f0f8ff;}#sk-container-id-1 input.sk-toggleable__control:checked~div.sk-toggleable__content {max-height: 200px;max-width: 100%;overflow: auto;}#sk-container-id-1 input.sk-toggleable__control:checked~label.sk-toggleable__label-arrow:before {content: \"▾\";}#sk-container-id-1 div.sk-estimator input.sk-toggleable__control:checked~label.sk-toggleable__label {background-color: #d4ebff;}#sk-container-id-1 div.sk-label input.sk-toggleable__control:checked~label.sk-toggleable__label {background-color: #d4ebff;}#sk-container-id-1 input.sk-hidden--visually {border: 0;clip: rect(1px 1px 1px 1px);clip: rect(1px, 1px, 1px, 1px);height: 1px;margin: -1px;overflow: hidden;padding: 0;position: absolute;width: 1px;}#sk-container-id-1 div.sk-estimator {font-family: monospace;background-color: #f0f8ff;border: 1px dotted black;border-radius: 0.25em;box-sizing: border-box;margin-bottom: 0.5em;}#sk-container-id-1 div.sk-estimator:hover {background-color: #d4ebff;}#sk-container-id-1 div.sk-parallel-item::after {content: \"\";width: 100%;border-bottom: 1px solid gray;flex-grow: 1;}#sk-container-id-1 div.sk-label:hover label.sk-toggleable__label {background-color: #d4ebff;}#sk-container-id-1 div.sk-serial::before {content: \"\";position: absolute;border-left: 1px solid gray;box-sizing: border-box;top: 0;bottom: 0;left: 50%;z-index: 0;}#sk-container-id-1 div.sk-serial {display: flex;flex-direction: column;align-items: center;background-color: white;padding-right: 0.2em;padding-left: 0.2em;position: relative;}#sk-container-id-1 div.sk-item {position: relative;z-index: 1;}#sk-container-id-1 div.sk-parallel {display: flex;align-items: stretch;justify-content: center;background-color: white;position: relative;}#sk-container-id-1 div.sk-item::before, #sk-container-id-1 div.sk-parallel-item::before {content: \"\";position: absolute;border-left: 1px solid gray;box-sizing: border-box;top: 0;bottom: 0;left: 50%;z-index: -1;}#sk-container-id-1 div.sk-parallel-item {display: flex;flex-direction: column;z-index: 1;position: relative;background-color: white;}#sk-container-id-1 div.sk-parallel-item:first-child::after {align-self: flex-end;width: 50%;}#sk-container-id-1 div.sk-parallel-item:last-child::after {align-self: flex-start;width: 50%;}#sk-container-id-1 div.sk-parallel-item:only-child::after {width: 0;}#sk-container-id-1 div.sk-dashed-wrapped {border: 1px dashed gray;margin: 0 0.4em 0.5em 0.4em;box-sizing: border-box;padding-bottom: 0.4em;background-color: white;}#sk-container-id-1 div.sk-label label {font-family: monospace;font-weight: bold;display: inline-block;line-height: 1.2em;}#sk-container-id-1 div.sk-label-container {text-align: center;}#sk-container-id-1 div.sk-container {/* jupyter's `normalize.less` sets `[hidden] { display: none; }` but bootstrap.min.css set `[hidden] { display: none !important; }` so we also need the `!important` here to be able to override the default hidden behavior on the sphinx rendered scikit-learn.org. See: https://github.com/scikit-learn/scikit-learn/issues/21755 */display: inline-block !important;position: relative;}#sk-container-id-1 div.sk-text-repr-fallback {display: none;}</style><div id=\"sk-container-id-1\" class=\"sk-top-container\"><div class=\"sk-text-repr-fallback\"><pre>LinearRegression()</pre><b>In a Jupyter environment, please rerun this cell to show the HTML representation or trust the notebook. <br />On GitHub, the HTML representation is unable to render, please try loading this page with nbviewer.org.</b></div><div class=\"sk-container\" hidden><div class=\"sk-item\"><div class=\"sk-estimator sk-toggleable\"><input class=\"sk-toggleable__control sk-hidden--visually\" id=\"sk-estimator-id-1\" type=\"checkbox\" checked><label for=\"sk-estimator-id-1\" class=\"sk-toggleable__label sk-toggleable__label-arrow\">LinearRegression</label><div class=\"sk-toggleable__content\"><pre>LinearRegression()</pre></div></div></div></div></div>"
      ],
      "text/plain": [
       "LinearRegression()"
      ]
     },
     "execution_count": 20,
     "metadata": {},
     "output_type": "execute_result"
    }
   ],
   "source": [
    "# Train the model on the training data\n",
    "model.fit(X_train, y_train)"
   ]
  },
  {
   "cell_type": "code",
   "execution_count": 21,
   "id": "9317bcb0",
   "metadata": {
    "execution": {
     "iopub.execute_input": "2024-07-29T16:47:40.609544Z",
     "iopub.status.busy": "2024-07-29T16:47:40.608832Z",
     "iopub.status.idle": "2024-07-29T16:47:40.628683Z",
     "shell.execute_reply": "2024-07-29T16:47:40.626657Z"
    },
    "papermill": {
     "duration": 0.051298,
     "end_time": "2024-07-29T16:47:40.632600",
     "exception": false,
     "start_time": "2024-07-29T16:47:40.581302",
     "status": "completed"
    },
    "tags": []
   },
   "outputs": [
    {
     "name": "stdout",
     "output_type": "stream",
     "text": [
      "Mean Squared Error: 3193598831.241753\n",
      "R-squared: 0.9554413593451654\n"
     ]
    }
   ],
   "source": [
    "# Predict on the test data\n",
    "y_pred = model.predict(X_test)\n",
    "\n",
    "# Evaluate the model\n",
    "mse = mean_squared_error(y_test, y_pred)\n",
    "r2 = r2_score(y_test, y_pred)\n",
    "\n",
    "print(f\"Mean Squared Error: {mse}\")\n",
    "print(f\"R-squared: {r2}\")"
   ]
  },
  {
   "cell_type": "code",
   "execution_count": 22,
   "id": "cb371865",
   "metadata": {
    "execution": {
     "iopub.execute_input": "2024-07-29T16:47:40.696295Z",
     "iopub.status.busy": "2024-07-29T16:47:40.695663Z",
     "iopub.status.idle": "2024-07-29T16:47:52.458575Z",
     "shell.execute_reply": "2024-07-29T16:47:52.457161Z"
    },
    "papermill": {
     "duration": 11.796276,
     "end_time": "2024-07-29T16:47:52.464798",
     "exception": false,
     "start_time": "2024-07-29T16:47:40.668522",
     "status": "completed"
    },
    "tags": []
   },
   "outputs": [
    {
     "name": "stdout",
     "output_type": "stream",
     "text": [
      "Best parameters for Ridge Regression:  {'alpha': 9.868869366005173}\n"
     ]
    }
   ],
   "source": [
    "# Define parameter distribution for Randomized Search\n",
    "param_dist = {\n",
    "    'alpha': uniform(loc=0, scale=10)  # Randomly sample alpha from 0 to 10\n",
    "}\n",
    "\n",
    "# Randomized Search for Ridge Regression\n",
    "ridge = Ridge()\n",
    "random_search_ridge = RandomizedSearchCV(ridge, param_distributions=param_dist, n_iter=100, cv=5, scoring='neg_mean_squared_error', random_state=42)\n",
    "random_search_ridge.fit(X_train, y_train)\n",
    "\n",
    "# Best parameters for Ridge Regression\n",
    "best_params_ridge = random_search_ridge.best_params_\n",
    "print(\"Best parameters for Ridge Regression: \", best_params_ridge)"
   ]
  },
  {
   "cell_type": "code",
   "execution_count": 23,
   "id": "cad1361d",
   "metadata": {
    "execution": {
     "iopub.execute_input": "2024-07-29T16:47:52.520060Z",
     "iopub.status.busy": "2024-07-29T16:47:52.519355Z",
     "iopub.status.idle": "2024-07-29T16:47:52.542674Z",
     "shell.execute_reply": "2024-07-29T16:47:52.541118Z"
    },
    "papermill": {
     "duration": 0.056409,
     "end_time": "2024-07-29T16:47:52.547624",
     "exception": false,
     "start_time": "2024-07-29T16:47:52.491215",
     "status": "completed"
    },
    "tags": []
   },
   "outputs": [
    {
     "name": "stdout",
     "output_type": "stream",
     "text": [
      "Ridge Regression Test MSE: 3192379297.9453044\n",
      "Ridge Regression Test R²: 0.9554583748655218\n"
     ]
    }
   ],
   "source": [
    "# Evaluate Ridge Regression on the test set\n",
    "best_model_ridge = random_search_ridge.best_estimator_\n",
    "y_pred_ridge = best_model_ridge.predict(X_test)\n",
    "mse_ridge = mean_squared_error(y_test, y_pred_ridge)\n",
    "r2_ridge = r2_score(y_test, y_pred_ridge)\n",
    "\n",
    "print(f\"Ridge Regression Test MSE: {mse_ridge}\")\n",
    "print(f\"Ridge Regression Test R²: {r2_ridge}\")"
   ]
  },
  {
   "cell_type": "code",
   "execution_count": 24,
   "id": "0da7f1cc",
   "metadata": {
    "execution": {
     "iopub.execute_input": "2024-07-29T16:47:52.603963Z",
     "iopub.status.busy": "2024-07-29T16:47:52.603288Z",
     "iopub.status.idle": "2024-07-29T16:49:28.360092Z",
     "shell.execute_reply": "2024-07-29T16:49:28.355839Z"
    },
    "papermill": {
     "duration": 95.79047,
     "end_time": "2024-07-29T16:49:28.365759",
     "exception": false,
     "start_time": "2024-07-29T16:47:52.575289",
     "status": "completed"
    },
    "tags": []
   },
   "outputs": [
    {
     "name": "stderr",
     "output_type": "stream",
     "text": [
      "/opt/conda/lib/python3.10/site-packages/sklearn/linear_model/_coordinate_descent.py:631: ConvergenceWarning: Objective did not converge. You might want to increase the number of iterations, check the scale of the features or consider increasing regularisation. Duality gap: 4.822e+11, tolerance: 3.844e+10\n",
      "  model = cd_fast.enet_coordinate_descent(\n",
      "/opt/conda/lib/python3.10/site-packages/sklearn/linear_model/_coordinate_descent.py:631: ConvergenceWarning: Objective did not converge. You might want to increase the number of iterations, check the scale of the features or consider increasing regularisation. Duality gap: 5.139e+11, tolerance: 3.838e+10\n",
      "  model = cd_fast.enet_coordinate_descent(\n",
      "/opt/conda/lib/python3.10/site-packages/sklearn/linear_model/_coordinate_descent.py:631: ConvergenceWarning: Objective did not converge. You might want to increase the number of iterations, check the scale of the features or consider increasing regularisation. Duality gap: 4.822e+11, tolerance: 3.844e+10\n",
      "  model = cd_fast.enet_coordinate_descent(\n",
      "/opt/conda/lib/python3.10/site-packages/sklearn/linear_model/_coordinate_descent.py:631: ConvergenceWarning: Objective did not converge. You might want to increase the number of iterations, check the scale of the features or consider increasing regularisation. Duality gap: 9.663e+11, tolerance: 3.803e+10\n",
      "  model = cd_fast.enet_coordinate_descent(\n",
      "/opt/conda/lib/python3.10/site-packages/sklearn/linear_model/_coordinate_descent.py:631: ConvergenceWarning: Objective did not converge. You might want to increase the number of iterations, check the scale of the features or consider increasing regularisation. Duality gap: 4.687e+11, tolerance: 3.840e+10\n",
      "  model = cd_fast.enet_coordinate_descent(\n",
      "/opt/conda/lib/python3.10/site-packages/sklearn/linear_model/_coordinate_descent.py:631: ConvergenceWarning: Objective did not converge. You might want to increase the number of iterations, check the scale of the features or consider increasing regularisation. Duality gap: 9.887e+11, tolerance: 3.806e+10\n",
      "  model = cd_fast.enet_coordinate_descent(\n",
      "/opt/conda/lib/python3.10/site-packages/sklearn/linear_model/_coordinate_descent.py:631: ConvergenceWarning: Objective did not converge. You might want to increase the number of iterations, check the scale of the features or consider increasing regularisation. Duality gap: 4.822e+11, tolerance: 3.844e+10\n",
      "  model = cd_fast.enet_coordinate_descent(\n"
     ]
    },
    {
     "name": "stdout",
     "output_type": "stream",
     "text": [
      "Best parameters for Lasso Regression:  {'alpha': 9.656320330745594}\n"
     ]
    }
   ],
   "source": [
    "# Randomized Search for Lasso Regression\n",
    "lasso = Lasso()\n",
    "random_search_lasso = RandomizedSearchCV(lasso, param_distributions=param_dist, n_iter=100, cv=5, scoring='neg_mean_squared_error', random_state=42)\n",
    "random_search_lasso.fit(X_train, y_train)\n",
    "\n",
    "# Best parameters for Lasso Regression\n",
    "best_params_lasso = random_search_lasso.best_params_\n",
    "print(\"Best parameters for Lasso Regression: \", best_params_lasso)"
   ]
  },
  {
   "cell_type": "code",
   "execution_count": 25,
   "id": "0aa07c29",
   "metadata": {
    "execution": {
     "iopub.execute_input": "2024-07-29T16:49:28.426129Z",
     "iopub.status.busy": "2024-07-29T16:49:28.425454Z",
     "iopub.status.idle": "2024-07-29T16:49:28.460142Z",
     "shell.execute_reply": "2024-07-29T16:49:28.458661Z"
    },
    "papermill": {
     "duration": 0.069762,
     "end_time": "2024-07-29T16:49:28.465030",
     "exception": false,
     "start_time": "2024-07-29T16:49:28.395268",
     "status": "completed"
    },
    "tags": []
   },
   "outputs": [
    {
     "name": "stdout",
     "output_type": "stream",
     "text": [
      "Lasso Regression Test MSE: 3191886313.1903486\n",
      "Lasso Regression Test R²: 0.9554652532280542\n"
     ]
    }
   ],
   "source": [
    "# Evaluate Lasso Regression on the test set\n",
    "best_model_lasso = random_search_lasso.best_estimator_\n",
    "y_pred_lasso = best_model_lasso.predict(X_test)\n",
    "mse_lasso = mean_squared_error(y_test, y_pred_lasso)\n",
    "r2_lasso = r2_score(y_test, y_pred_lasso)\n",
    "\n",
    "print(f\"Lasso Regression Test MSE: {mse_lasso}\")\n",
    "print(f\"Lasso Regression Test R²: {r2_lasso}\")"
   ]
  },
  {
   "cell_type": "code",
   "execution_count": null,
   "id": "192b033d",
   "metadata": {
    "papermill": {
     "duration": 0.02705,
     "end_time": "2024-07-29T16:49:28.520054",
     "exception": false,
     "start_time": "2024-07-29T16:49:28.493004",
     "status": "completed"
    },
    "tags": []
   },
   "outputs": [],
   "source": []
  }
 ],
 "metadata": {
  "kaggle": {
   "accelerator": "none",
   "dataSources": [
    {
     "datasetId": 5289783,
     "sourceId": 8797164,
     "sourceType": "datasetVersion"
    }
   ],
   "dockerImageVersionId": 30746,
   "isGpuEnabled": false,
   "isInternetEnabled": false,
   "language": "python",
   "sourceType": "notebook"
  },
  "kernelspec": {
   "display_name": "Python 3",
   "language": "python",
   "name": "python3"
  },
  "language_info": {
   "codemirror_mode": {
    "name": "ipython",
    "version": 3
   },
   "file_extension": ".py",
   "mimetype": "text/x-python",
   "name": "python",
   "nbconvert_exporter": "python",
   "pygments_lexer": "ipython3",
   "version": "3.10.13"
  },
  "papermill": {
   "default_parameters": {},
   "duration": 115.257345,
   "end_time": "2024-07-29T16:49:29.175869",
   "environment_variables": {},
   "exception": null,
   "input_path": "__notebook__.ipynb",
   "output_path": "__notebook__.ipynb",
   "parameters": {},
   "start_time": "2024-07-29T16:47:33.918524",
   "version": "2.5.0"
  }
 },
 "nbformat": 4,
 "nbformat_minor": 5
}
