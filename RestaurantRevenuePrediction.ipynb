{
 "cells": [
  {
   "cell_type": "code",
   "execution_count": 1,
   "id": "0cbe8b18",
   "metadata": {
    "_cell_guid": "b1076dfc-b9ad-4769-8c92-a6c4dae69d19",
    "_uuid": "8f2839f25d086af736a60e9eeb907d3b93b6e0e5",
    "execution": {
     "iopub.execute_input": "2024-08-19T16:41:22.782580Z",
     "iopub.status.busy": "2024-08-19T16:41:22.782177Z",
     "iopub.status.idle": "2024-08-19T16:41:23.674541Z",
     "shell.execute_reply": "2024-08-19T16:41:23.673137Z"
    },
    "papermill": {
     "duration": 0.906174,
     "end_time": "2024-08-19T16:41:23.678052",
     "exception": false,
     "start_time": "2024-08-19T16:41:22.771878",
     "status": "completed"
    },
    "tags": []
   },
   "outputs": [
    {
     "name": "stdout",
     "output_type": "stream",
     "text": [
      "/kaggle/input/restaurant-revenue-prediction-dataset/restaurant_data.csv\n"
     ]
    }
   ],
   "source": [
    "# This Python 3 environment comes with many helpful analytics libraries installed\n",
    "# It is defined by the kaggle/python Docker image: https://github.com/kaggle/docker-python\n",
    "# For example, here's several helpful packages to load\n",
    "\n",
    "import numpy as np # linear algebra\n",
    "import pandas as pd # data processing, CSV file I/O (e.g. pd.read_csv)\n",
    "\n",
    "# Input data files are available in the read-only \"../input/\" directory\n",
    "# For example, running this (by clicking run or pressing Shift+Enter) will list all files under the input directory\n",
    "\n",
    "import os\n",
    "for dirname, _, filenames in os.walk('/kaggle/input'):\n",
    "    for filename in filenames:\n",
    "        print(os.path.join(dirname, filename))\n",
    "\n",
    "# You can write up to 20GB to the current directory (/kaggle/working/) that gets preserved as output when you create a version using \"Save & Run All\" \n",
    "# You can also write temporary files to /kaggle/temp/, but they won't be saved outside of the current session"
   ]
  },
  {
   "cell_type": "code",
   "execution_count": 2,
   "id": "bf121c6b",
   "metadata": {
    "execution": {
     "iopub.execute_input": "2024-08-19T16:41:23.697840Z",
     "iopub.status.busy": "2024-08-19T16:41:23.696870Z",
     "iopub.status.idle": "2024-08-19T16:41:25.302799Z",
     "shell.execute_reply": "2024-08-19T16:41:25.301634Z"
    },
    "papermill": {
     "duration": 1.618426,
     "end_time": "2024-08-19T16:41:25.305711",
     "exception": false,
     "start_time": "2024-08-19T16:41:23.687285",
     "status": "completed"
    },
    "tags": []
   },
   "outputs": [],
   "source": [
    "from sklearn.model_selection import train_test_split\n",
    "from sklearn.linear_model import LinearRegression\n",
    "from sklearn.metrics import mean_squared_error, r2_score, mean_absolute_error\n",
    "from sklearn.linear_model import Ridge, Lasso\n",
    "from sklearn.model_selection import train_test_split, RandomizedSearchCV\n",
    "from sklearn.linear_model import Ridge, Lasso\n",
    "from scipy.stats import uniform\n",
    "from sklearn.ensemble import GradientBoostingRegressor\n",
    "from sklearn.tree import DecisionTreeRegressor"
   ]
  },
  {
   "cell_type": "code",
   "execution_count": 3,
   "id": "d338d7e5",
   "metadata": {
    "execution": {
     "iopub.execute_input": "2024-08-19T16:41:25.324154Z",
     "iopub.status.busy": "2024-08-19T16:41:25.323747Z",
     "iopub.status.idle": "2024-08-19T16:41:25.420650Z",
     "shell.execute_reply": "2024-08-19T16:41:25.419514Z"
    },
    "papermill": {
     "duration": 0.109019,
     "end_time": "2024-08-19T16:41:25.422953",
     "exception": false,
     "start_time": "2024-08-19T16:41:25.313934",
     "status": "completed"
    },
    "tags": []
   },
   "outputs": [
    {
     "data": {
      "text/html": [
       "<div>\n",
       "<style scoped>\n",
       "    .dataframe tbody tr th:only-of-type {\n",
       "        vertical-align: middle;\n",
       "    }\n",
       "\n",
       "    .dataframe tbody tr th {\n",
       "        vertical-align: top;\n",
       "    }\n",
       "\n",
       "    .dataframe thead th {\n",
       "        text-align: right;\n",
       "    }\n",
       "</style>\n",
       "<table border=\"1\" class=\"dataframe\">\n",
       "  <thead>\n",
       "    <tr style=\"text-align: right;\">\n",
       "      <th></th>\n",
       "      <th>Name</th>\n",
       "      <th>Location</th>\n",
       "      <th>Cuisine</th>\n",
       "      <th>Rating</th>\n",
       "      <th>Seating Capacity</th>\n",
       "      <th>Average Meal Price</th>\n",
       "      <th>Marketing Budget</th>\n",
       "      <th>Social Media Followers</th>\n",
       "      <th>Chef Experience Years</th>\n",
       "      <th>Number of Reviews</th>\n",
       "      <th>Avg Review Length</th>\n",
       "      <th>Ambience Score</th>\n",
       "      <th>Service Quality Score</th>\n",
       "      <th>Parking Availability</th>\n",
       "      <th>Weekend Reservations</th>\n",
       "      <th>Weekday Reservations</th>\n",
       "      <th>Revenue</th>\n",
       "    </tr>\n",
       "  </thead>\n",
       "  <tbody>\n",
       "    <tr>\n",
       "      <th>0</th>\n",
       "      <td>Restaurant 0</td>\n",
       "      <td>Rural</td>\n",
       "      <td>Japanese</td>\n",
       "      <td>4.0</td>\n",
       "      <td>38</td>\n",
       "      <td>73.98</td>\n",
       "      <td>2224</td>\n",
       "      <td>23406</td>\n",
       "      <td>13</td>\n",
       "      <td>185</td>\n",
       "      <td>161.924906</td>\n",
       "      <td>1.3</td>\n",
       "      <td>7.0</td>\n",
       "      <td>Yes</td>\n",
       "      <td>13</td>\n",
       "      <td>4</td>\n",
       "      <td>638945.52</td>\n",
       "    </tr>\n",
       "    <tr>\n",
       "      <th>1</th>\n",
       "      <td>Restaurant 1</td>\n",
       "      <td>Downtown</td>\n",
       "      <td>Mexican</td>\n",
       "      <td>3.2</td>\n",
       "      <td>76</td>\n",
       "      <td>28.11</td>\n",
       "      <td>4416</td>\n",
       "      <td>42741</td>\n",
       "      <td>8</td>\n",
       "      <td>533</td>\n",
       "      <td>148.759717</td>\n",
       "      <td>2.6</td>\n",
       "      <td>3.4</td>\n",
       "      <td>Yes</td>\n",
       "      <td>48</td>\n",
       "      <td>6</td>\n",
       "      <td>490207.83</td>\n",
       "    </tr>\n",
       "    <tr>\n",
       "      <th>2</th>\n",
       "      <td>Restaurant 2</td>\n",
       "      <td>Rural</td>\n",
       "      <td>Italian</td>\n",
       "      <td>4.7</td>\n",
       "      <td>48</td>\n",
       "      <td>48.29</td>\n",
       "      <td>2796</td>\n",
       "      <td>37285</td>\n",
       "      <td>18</td>\n",
       "      <td>853</td>\n",
       "      <td>56.849189</td>\n",
       "      <td>5.3</td>\n",
       "      <td>6.7</td>\n",
       "      <td>No</td>\n",
       "      <td>27</td>\n",
       "      <td>14</td>\n",
       "      <td>541368.62</td>\n",
       "    </tr>\n",
       "    <tr>\n",
       "      <th>3</th>\n",
       "      <td>Restaurant 3</td>\n",
       "      <td>Rural</td>\n",
       "      <td>Italian</td>\n",
       "      <td>4.4</td>\n",
       "      <td>34</td>\n",
       "      <td>51.55</td>\n",
       "      <td>1167</td>\n",
       "      <td>15214</td>\n",
       "      <td>13</td>\n",
       "      <td>82</td>\n",
       "      <td>205.433265</td>\n",
       "      <td>4.6</td>\n",
       "      <td>2.8</td>\n",
       "      <td>Yes</td>\n",
       "      <td>9</td>\n",
       "      <td>17</td>\n",
       "      <td>404556.80</td>\n",
       "    </tr>\n",
       "    <tr>\n",
       "      <th>4</th>\n",
       "      <td>Restaurant 4</td>\n",
       "      <td>Downtown</td>\n",
       "      <td>Japanese</td>\n",
       "      <td>4.9</td>\n",
       "      <td>88</td>\n",
       "      <td>75.98</td>\n",
       "      <td>3639</td>\n",
       "      <td>40171</td>\n",
       "      <td>9</td>\n",
       "      <td>78</td>\n",
       "      <td>241.681584</td>\n",
       "      <td>8.6</td>\n",
       "      <td>2.1</td>\n",
       "      <td>No</td>\n",
       "      <td>37</td>\n",
       "      <td>26</td>\n",
       "      <td>1491046.35</td>\n",
       "    </tr>\n",
       "  </tbody>\n",
       "</table>\n",
       "</div>"
      ],
      "text/plain": [
       "           Name  Location   Cuisine  Rating  Seating Capacity  \\\n",
       "0  Restaurant 0     Rural  Japanese     4.0                38   \n",
       "1  Restaurant 1  Downtown   Mexican     3.2                76   \n",
       "2  Restaurant 2     Rural   Italian     4.7                48   \n",
       "3  Restaurant 3     Rural   Italian     4.4                34   \n",
       "4  Restaurant 4  Downtown  Japanese     4.9                88   \n",
       "\n",
       "   Average Meal Price  Marketing Budget  Social Media Followers  \\\n",
       "0               73.98              2224                   23406   \n",
       "1               28.11              4416                   42741   \n",
       "2               48.29              2796                   37285   \n",
       "3               51.55              1167                   15214   \n",
       "4               75.98              3639                   40171   \n",
       "\n",
       "   Chef Experience Years  Number of Reviews  Avg Review Length  \\\n",
       "0                     13                185         161.924906   \n",
       "1                      8                533         148.759717   \n",
       "2                     18                853          56.849189   \n",
       "3                     13                 82         205.433265   \n",
       "4                      9                 78         241.681584   \n",
       "\n",
       "   Ambience Score  Service Quality Score Parking Availability  \\\n",
       "0             1.3                    7.0                  Yes   \n",
       "1             2.6                    3.4                  Yes   \n",
       "2             5.3                    6.7                   No   \n",
       "3             4.6                    2.8                  Yes   \n",
       "4             8.6                    2.1                   No   \n",
       "\n",
       "   Weekend Reservations  Weekday Reservations     Revenue  \n",
       "0                    13                     4   638945.52  \n",
       "1                    48                     6   490207.83  \n",
       "2                    27                    14   541368.62  \n",
       "3                     9                    17   404556.80  \n",
       "4                    37                    26  1491046.35  "
      ]
     },
     "execution_count": 3,
     "metadata": {},
     "output_type": "execute_result"
    }
   ],
   "source": [
    "df = pd.read_csv('/kaggle/input/restaurant-revenue-prediction-dataset/restaurant_data.csv')\n",
    "df.head()"
   ]
  },
  {
   "cell_type": "code",
   "execution_count": 4,
   "id": "19aaa365",
   "metadata": {
    "execution": {
     "iopub.execute_input": "2024-08-19T16:41:25.441401Z",
     "iopub.status.busy": "2024-08-19T16:41:25.440995Z",
     "iopub.status.idle": "2024-08-19T16:41:25.448343Z",
     "shell.execute_reply": "2024-08-19T16:41:25.447196Z"
    },
    "papermill": {
     "duration": 0.019436,
     "end_time": "2024-08-19T16:41:25.450889",
     "exception": false,
     "start_time": "2024-08-19T16:41:25.431453",
     "status": "completed"
    },
    "tags": []
   },
   "outputs": [
    {
     "data": {
      "text/plain": [
       "Index(['Name', 'Location', 'Cuisine', 'Rating', 'Seating Capacity',\n",
       "       'Average Meal Price', 'Marketing Budget', 'Social Media Followers',\n",
       "       'Chef Experience Years', 'Number of Reviews', 'Avg Review Length',\n",
       "       'Ambience Score', 'Service Quality Score', 'Parking Availability',\n",
       "       'Weekend Reservations', 'Weekday Reservations', 'Revenue'],\n",
       "      dtype='object')"
      ]
     },
     "execution_count": 4,
     "metadata": {},
     "output_type": "execute_result"
    }
   ],
   "source": [
    "#Coulumns from dataset\n",
    "df.columns"
   ]
  },
  {
   "cell_type": "markdown",
   "id": "154d0eb4",
   "metadata": {
    "papermill": {
     "duration": 0.008213,
     "end_time": "2024-08-19T16:41:25.467714",
     "exception": false,
     "start_time": "2024-08-19T16:41:25.459501",
     "status": "completed"
    },
    "tags": []
   },
   "source": [
    "# **Understanding the Data**\n",
    "\n",
    "**Name**: Identifier for the restaurant\n",
    "\n",
    "**Location**: Categorical feature indicating the restaurant's location.\n",
    "\n",
    "**Cuisine**: Categorical feature indicating the type of cuisine.\n",
    "\n",
    "**Rating**: Numerical feature for average rating.\n",
    "\n",
    "**Seating Capacity**: Numerical feature for the number of seats.\n",
    "\n",
    "**Average Meal Price**: Numerical feature for average meal cost.\n",
    "\n",
    "**Marketing Budget**: Numerical feature for marketing expenses.\n",
    "\n",
    "**Social Media Followers**: Numerical feature for the number of followers.\n",
    "\n",
    "**Chef Experience Years**: Numerical feature for the chef's experience.\n",
    "\n",
    "**Number of Reviews**: Numerical feature for the total reviews.\n",
    "\n",
    "**Avg Review Length**: Numerical feature for the average review length.\n",
    "\n",
    "**Ambience Score**: Numerical feature for the ambience.\n",
    "\n",
    "**Service Quality Score**: Numerical feature for service quality.\n",
    "\n",
    "**Parking Availability**: Categorical feature indicating if parking is available.\n",
    "\n",
    "**Weekend Reservations**: Numerical feature for weekend reservations.\n",
    "\n",
    "**Weekday Reservations**: Numerical feature for weekday reservations.\n",
    "\n",
    "**Revenue**: Target variable, numerical feature for total revenue."
   ]
  },
  {
   "cell_type": "code",
   "execution_count": 5,
   "id": "2399fe7b",
   "metadata": {
    "execution": {
     "iopub.execute_input": "2024-08-19T16:41:25.486626Z",
     "iopub.status.busy": "2024-08-19T16:41:25.486218Z",
     "iopub.status.idle": "2024-08-19T16:41:25.538992Z",
     "shell.execute_reply": "2024-08-19T16:41:25.537733Z"
    },
    "papermill": {
     "duration": 0.065139,
     "end_time": "2024-08-19T16:41:25.541512",
     "exception": false,
     "start_time": "2024-08-19T16:41:25.476373",
     "status": "completed"
    },
    "tags": []
   },
   "outputs": [
    {
     "data": {
      "text/html": [
       "<div>\n",
       "<style scoped>\n",
       "    .dataframe tbody tr th:only-of-type {\n",
       "        vertical-align: middle;\n",
       "    }\n",
       "\n",
       "    .dataframe tbody tr th {\n",
       "        vertical-align: top;\n",
       "    }\n",
       "\n",
       "    .dataframe thead th {\n",
       "        text-align: right;\n",
       "    }\n",
       "</style>\n",
       "<table border=\"1\" class=\"dataframe\">\n",
       "  <thead>\n",
       "    <tr style=\"text-align: right;\">\n",
       "      <th></th>\n",
       "      <th>Rating</th>\n",
       "      <th>Seating Capacity</th>\n",
       "      <th>Average Meal Price</th>\n",
       "      <th>Marketing Budget</th>\n",
       "      <th>Social Media Followers</th>\n",
       "      <th>Chef Experience Years</th>\n",
       "      <th>Number of Reviews</th>\n",
       "      <th>Avg Review Length</th>\n",
       "      <th>Ambience Score</th>\n",
       "      <th>Service Quality Score</th>\n",
       "      <th>Weekend Reservations</th>\n",
       "      <th>Weekday Reservations</th>\n",
       "      <th>Revenue</th>\n",
       "    </tr>\n",
       "  </thead>\n",
       "  <tbody>\n",
       "    <tr>\n",
       "      <th>count</th>\n",
       "      <td>8368.000000</td>\n",
       "      <td>8368.000000</td>\n",
       "      <td>8368.000000</td>\n",
       "      <td>8368.000000</td>\n",
       "      <td>8368.000000</td>\n",
       "      <td>8368.000000</td>\n",
       "      <td>8368.000000</td>\n",
       "      <td>8368.000000</td>\n",
       "      <td>8368.000000</td>\n",
       "      <td>8368.000000</td>\n",
       "      <td>8368.000000</td>\n",
       "      <td>8368.000000</td>\n",
       "      <td>8.368000e+03</td>\n",
       "    </tr>\n",
       "    <tr>\n",
       "      <th>mean</th>\n",
       "      <td>4.008258</td>\n",
       "      <td>60.212835</td>\n",
       "      <td>47.896659</td>\n",
       "      <td>3218.254900</td>\n",
       "      <td>36190.621773</td>\n",
       "      <td>10.051984</td>\n",
       "      <td>523.010397</td>\n",
       "      <td>174.769974</td>\n",
       "      <td>5.521283</td>\n",
       "      <td>5.508772</td>\n",
       "      <td>29.491754</td>\n",
       "      <td>29.235301</td>\n",
       "      <td>6.560706e+05</td>\n",
       "    </tr>\n",
       "    <tr>\n",
       "      <th>std</th>\n",
       "      <td>0.581474</td>\n",
       "      <td>17.399488</td>\n",
       "      <td>14.336767</td>\n",
       "      <td>1824.896053</td>\n",
       "      <td>18630.153330</td>\n",
       "      <td>5.516606</td>\n",
       "      <td>277.215127</td>\n",
       "      <td>71.998060</td>\n",
       "      <td>2.575442</td>\n",
       "      <td>2.586552</td>\n",
       "      <td>20.025415</td>\n",
       "      <td>20.004277</td>\n",
       "      <td>2.674137e+05</td>\n",
       "    </tr>\n",
       "    <tr>\n",
       "      <th>min</th>\n",
       "      <td>3.000000</td>\n",
       "      <td>30.000000</td>\n",
       "      <td>25.000000</td>\n",
       "      <td>604.000000</td>\n",
       "      <td>5277.000000</td>\n",
       "      <td>1.000000</td>\n",
       "      <td>50.000000</td>\n",
       "      <td>50.011717</td>\n",
       "      <td>1.000000</td>\n",
       "      <td>1.000000</td>\n",
       "      <td>0.000000</td>\n",
       "      <td>0.000000</td>\n",
       "      <td>1.847085e+05</td>\n",
       "    </tr>\n",
       "    <tr>\n",
       "      <th>25%</th>\n",
       "      <td>3.500000</td>\n",
       "      <td>45.000000</td>\n",
       "      <td>35.490000</td>\n",
       "      <td>1889.000000</td>\n",
       "      <td>22592.500000</td>\n",
       "      <td>5.000000</td>\n",
       "      <td>277.000000</td>\n",
       "      <td>113.311102</td>\n",
       "      <td>3.300000</td>\n",
       "      <td>3.200000</td>\n",
       "      <td>13.000000</td>\n",
       "      <td>13.000000</td>\n",
       "      <td>4.546514e+05</td>\n",
       "    </tr>\n",
       "    <tr>\n",
       "      <th>50%</th>\n",
       "      <td>4.000000</td>\n",
       "      <td>60.000000</td>\n",
       "      <td>45.535000</td>\n",
       "      <td>2846.500000</td>\n",
       "      <td>32518.500000</td>\n",
       "      <td>10.000000</td>\n",
       "      <td>528.000000</td>\n",
       "      <td>173.910079</td>\n",
       "      <td>5.500000</td>\n",
       "      <td>5.600000</td>\n",
       "      <td>27.000000</td>\n",
       "      <td>26.000000</td>\n",
       "      <td>6.042421e+05</td>\n",
       "    </tr>\n",
       "    <tr>\n",
       "      <th>75%</th>\n",
       "      <td>4.500000</td>\n",
       "      <td>75.000000</td>\n",
       "      <td>60.300000</td>\n",
       "      <td>4008.500000</td>\n",
       "      <td>44566.250000</td>\n",
       "      <td>15.000000</td>\n",
       "      <td>764.250000</td>\n",
       "      <td>237.406885</td>\n",
       "      <td>7.800000</td>\n",
       "      <td>7.800000</td>\n",
       "      <td>43.000000</td>\n",
       "      <td>43.000000</td>\n",
       "      <td>8.130942e+05</td>\n",
       "    </tr>\n",
       "    <tr>\n",
       "      <th>max</th>\n",
       "      <td>5.000000</td>\n",
       "      <td>90.000000</td>\n",
       "      <td>76.000000</td>\n",
       "      <td>9978.000000</td>\n",
       "      <td>103777.000000</td>\n",
       "      <td>19.000000</td>\n",
       "      <td>999.000000</td>\n",
       "      <td>299.984924</td>\n",
       "      <td>10.000000</td>\n",
       "      <td>10.000000</td>\n",
       "      <td>88.000000</td>\n",
       "      <td>88.000000</td>\n",
       "      <td>1.531868e+06</td>\n",
       "    </tr>\n",
       "  </tbody>\n",
       "</table>\n",
       "</div>"
      ],
      "text/plain": [
       "            Rating  Seating Capacity  Average Meal Price  Marketing Budget  \\\n",
       "count  8368.000000       8368.000000         8368.000000       8368.000000   \n",
       "mean      4.008258         60.212835           47.896659       3218.254900   \n",
       "std       0.581474         17.399488           14.336767       1824.896053   \n",
       "min       3.000000         30.000000           25.000000        604.000000   \n",
       "25%       3.500000         45.000000           35.490000       1889.000000   \n",
       "50%       4.000000         60.000000           45.535000       2846.500000   \n",
       "75%       4.500000         75.000000           60.300000       4008.500000   \n",
       "max       5.000000         90.000000           76.000000       9978.000000   \n",
       "\n",
       "       Social Media Followers  Chef Experience Years  Number of Reviews  \\\n",
       "count             8368.000000            8368.000000        8368.000000   \n",
       "mean             36190.621773              10.051984         523.010397   \n",
       "std              18630.153330               5.516606         277.215127   \n",
       "min               5277.000000               1.000000          50.000000   \n",
       "25%              22592.500000               5.000000         277.000000   \n",
       "50%              32518.500000              10.000000         528.000000   \n",
       "75%              44566.250000              15.000000         764.250000   \n",
       "max             103777.000000              19.000000         999.000000   \n",
       "\n",
       "       Avg Review Length  Ambience Score  Service Quality Score  \\\n",
       "count        8368.000000     8368.000000            8368.000000   \n",
       "mean          174.769974        5.521283               5.508772   \n",
       "std            71.998060        2.575442               2.586552   \n",
       "min            50.011717        1.000000               1.000000   \n",
       "25%           113.311102        3.300000               3.200000   \n",
       "50%           173.910079        5.500000               5.600000   \n",
       "75%           237.406885        7.800000               7.800000   \n",
       "max           299.984924       10.000000              10.000000   \n",
       "\n",
       "       Weekend Reservations  Weekday Reservations       Revenue  \n",
       "count           8368.000000           8368.000000  8.368000e+03  \n",
       "mean              29.491754             29.235301  6.560706e+05  \n",
       "std               20.025415             20.004277  2.674137e+05  \n",
       "min                0.000000              0.000000  1.847085e+05  \n",
       "25%               13.000000             13.000000  4.546514e+05  \n",
       "50%               27.000000             26.000000  6.042421e+05  \n",
       "75%               43.000000             43.000000  8.130942e+05  \n",
       "max               88.000000             88.000000  1.531868e+06  "
      ]
     },
     "execution_count": 5,
     "metadata": {},
     "output_type": "execute_result"
    }
   ],
   "source": [
    "df.describe()"
   ]
  },
  {
   "cell_type": "code",
   "execution_count": 6,
   "id": "58fd098e",
   "metadata": {
    "execution": {
     "iopub.execute_input": "2024-08-19T16:41:25.561251Z",
     "iopub.status.busy": "2024-08-19T16:41:25.560478Z",
     "iopub.status.idle": "2024-08-19T16:41:25.573740Z",
     "shell.execute_reply": "2024-08-19T16:41:25.572442Z"
    },
    "papermill": {
     "duration": 0.025902,
     "end_time": "2024-08-19T16:41:25.576335",
     "exception": false,
     "start_time": "2024-08-19T16:41:25.550433",
     "status": "completed"
    },
    "tags": []
   },
   "outputs": [
    {
     "name": "stdout",
     "output_type": "stream",
     "text": [
      "                                        Column  Null Count  Null Percentage\n",
      "Name                                      Name           0              0.0\n",
      "Location                              Location           0              0.0\n",
      "Cuisine                                Cuisine           0              0.0\n",
      "Rating                                  Rating           0              0.0\n",
      "Seating Capacity              Seating Capacity           0              0.0\n",
      "Average Meal Price          Average Meal Price           0              0.0\n",
      "Marketing Budget              Marketing Budget           0              0.0\n",
      "Social Media Followers  Social Media Followers           0              0.0\n",
      "Chef Experience Years    Chef Experience Years           0              0.0\n",
      "Number of Reviews            Number of Reviews           0              0.0\n",
      "Avg Review Length            Avg Review Length           0              0.0\n",
      "Ambience Score                  Ambience Score           0              0.0\n",
      "Service Quality Score    Service Quality Score           0              0.0\n",
      "Parking Availability      Parking Availability           0              0.0\n",
      "Weekend Reservations      Weekend Reservations           0              0.0\n",
      "Weekday Reservations      Weekday Reservations           0              0.0\n",
      "Revenue                                Revenue           0              0.0\n"
     ]
    }
   ],
   "source": [
    "# Calculate the number of null values for each column\n",
    "null_counts = df.isnull().sum()\n",
    "\n",
    "# Calculate the percentage of null values for each column\n",
    "null_percentages = (null_counts / len(df)) * 100\n",
    "\n",
    "# Combine the results into a DataFrame for better readability\n",
    "null_summary = pd.DataFrame({\n",
    "    'Column': df.columns,\n",
    "    'Null Count': null_counts,\n",
    "    'Null Percentage': null_percentages\n",
    "})\n",
    "\n",
    "# Display the summary\n",
    "print(null_summary)"
   ]
  },
  {
   "cell_type": "code",
   "execution_count": 7,
   "id": "11c99016",
   "metadata": {
    "execution": {
     "iopub.execute_input": "2024-08-19T16:41:25.597136Z",
     "iopub.status.busy": "2024-08-19T16:41:25.596718Z",
     "iopub.status.idle": "2024-08-19T16:41:25.608613Z",
     "shell.execute_reply": "2024-08-19T16:41:25.607529Z"
    },
    "papermill": {
     "duration": 0.024689,
     "end_time": "2024-08-19T16:41:25.610974",
     "exception": false,
     "start_time": "2024-08-19T16:41:25.586285",
     "status": "completed"
    },
    "tags": []
   },
   "outputs": [],
   "source": [
    "#Removing Restaurant Name\n",
    "df = df.drop(\"Name\", axis=1)"
   ]
  },
  {
   "cell_type": "code",
   "execution_count": 8,
   "id": "65142cfe",
   "metadata": {
    "execution": {
     "iopub.execute_input": "2024-08-19T16:41:25.632059Z",
     "iopub.status.busy": "2024-08-19T16:41:25.631630Z",
     "iopub.status.idle": "2024-08-19T16:41:25.641321Z",
     "shell.execute_reply": "2024-08-19T16:41:25.640110Z"
    },
    "papermill": {
     "duration": 0.023028,
     "end_time": "2024-08-19T16:41:25.643702",
     "exception": false,
     "start_time": "2024-08-19T16:41:25.620674",
     "status": "completed"
    },
    "tags": []
   },
   "outputs": [],
   "source": [
    "#Converting categorical to Numberic\n",
    "#Location and cuisine are two categorical coulms in data\n",
    "\n",
    "unique_location = df['Location'].unique()\n",
    "unique_cuisines = df['Cuisine'].unique()"
   ]
  },
  {
   "cell_type": "code",
   "execution_count": 9,
   "id": "e2df586b",
   "metadata": {
    "execution": {
     "iopub.execute_input": "2024-08-19T16:41:25.663639Z",
     "iopub.status.busy": "2024-08-19T16:41:25.663168Z",
     "iopub.status.idle": "2024-08-19T16:41:25.670093Z",
     "shell.execute_reply": "2024-08-19T16:41:25.669078Z"
    },
    "papermill": {
     "duration": 0.019637,
     "end_time": "2024-08-19T16:41:25.672465",
     "exception": false,
     "start_time": "2024-08-19T16:41:25.652828",
     "status": "completed"
    },
    "tags": []
   },
   "outputs": [
    {
     "data": {
      "text/plain": [
       "array(['Rural', 'Downtown', 'Suburban'], dtype=object)"
      ]
     },
     "execution_count": 9,
     "metadata": {},
     "output_type": "execute_result"
    }
   ],
   "source": [
    "unique_location"
   ]
  },
  {
   "cell_type": "code",
   "execution_count": 10,
   "id": "109a08ee",
   "metadata": {
    "execution": {
     "iopub.execute_input": "2024-08-19T16:41:25.693370Z",
     "iopub.status.busy": "2024-08-19T16:41:25.692422Z",
     "iopub.status.idle": "2024-08-19T16:41:25.699823Z",
     "shell.execute_reply": "2024-08-19T16:41:25.698643Z"
    },
    "papermill": {
     "duration": 0.020554,
     "end_time": "2024-08-19T16:41:25.702273",
     "exception": false,
     "start_time": "2024-08-19T16:41:25.681719",
     "status": "completed"
    },
    "tags": []
   },
   "outputs": [
    {
     "data": {
      "text/plain": [
       "array(['Japanese', 'Mexican', 'Italian', 'Indian', 'French', 'American'],\n",
       "      dtype=object)"
      ]
     },
     "execution_count": 10,
     "metadata": {},
     "output_type": "execute_result"
    }
   ],
   "source": [
    "unique_cuisines"
   ]
  },
  {
   "cell_type": "code",
   "execution_count": 11,
   "id": "4af46796",
   "metadata": {
    "execution": {
     "iopub.execute_input": "2024-08-19T16:41:25.722466Z",
     "iopub.status.busy": "2024-08-19T16:41:25.722104Z",
     "iopub.status.idle": "2024-08-19T16:41:25.732695Z",
     "shell.execute_reply": "2024-08-19T16:41:25.731604Z"
    },
    "papermill": {
     "duration": 0.023591,
     "end_time": "2024-08-19T16:41:25.735213",
     "exception": false,
     "start_time": "2024-08-19T16:41:25.711622",
     "status": "completed"
    },
    "tags": []
   },
   "outputs": [],
   "source": [
    "# One-hot encode the 'Location' column\n",
    "df = pd.get_dummies(df, columns=['Location'])"
   ]
  },
  {
   "cell_type": "code",
   "execution_count": 12,
   "id": "b11b591a",
   "metadata": {
    "execution": {
     "iopub.execute_input": "2024-08-19T16:41:25.755997Z",
     "iopub.status.busy": "2024-08-19T16:41:25.755260Z",
     "iopub.status.idle": "2024-08-19T16:41:25.765092Z",
     "shell.execute_reply": "2024-08-19T16:41:25.764096Z"
    },
    "papermill": {
     "duration": 0.022749,
     "end_time": "2024-08-19T16:41:25.767442",
     "exception": false,
     "start_time": "2024-08-19T16:41:25.744693",
     "status": "completed"
    },
    "tags": []
   },
   "outputs": [],
   "source": [
    "# One-hot encode the 'Cuisine' column\n",
    "df = pd.get_dummies(df, columns=['Cuisine'])"
   ]
  },
  {
   "cell_type": "code",
   "execution_count": 13,
   "id": "e55134b2",
   "metadata": {
    "execution": {
     "iopub.execute_input": "2024-08-19T16:41:25.787822Z",
     "iopub.status.busy": "2024-08-19T16:41:25.787408Z",
     "iopub.status.idle": "2024-08-19T16:41:25.797164Z",
     "shell.execute_reply": "2024-08-19T16:41:25.795902Z"
    },
    "papermill": {
     "duration": 0.023083,
     "end_time": "2024-08-19T16:41:25.799873",
     "exception": false,
     "start_time": "2024-08-19T16:41:25.776790",
     "status": "completed"
    },
    "tags": []
   },
   "outputs": [],
   "source": [
    "# Ensure all binary columns are integer type\n",
    "binary_columns = [col for col in df.columns if 'Location_' in col or 'Cuisine_' in col]\n",
    "df[binary_columns] = df[binary_columns].astype(int)"
   ]
  },
  {
   "cell_type": "code",
   "execution_count": 14,
   "id": "93de3043",
   "metadata": {
    "execution": {
     "iopub.execute_input": "2024-08-19T16:41:25.819875Z",
     "iopub.status.busy": "2024-08-19T16:41:25.819437Z",
     "iopub.status.idle": "2024-08-19T16:41:25.843977Z",
     "shell.execute_reply": "2024-08-19T16:41:25.842838Z"
    },
    "papermill": {
     "duration": 0.037531,
     "end_time": "2024-08-19T16:41:25.846670",
     "exception": false,
     "start_time": "2024-08-19T16:41:25.809139",
     "status": "completed"
    },
    "tags": []
   },
   "outputs": [
    {
     "data": {
      "text/html": [
       "<div>\n",
       "<style scoped>\n",
       "    .dataframe tbody tr th:only-of-type {\n",
       "        vertical-align: middle;\n",
       "    }\n",
       "\n",
       "    .dataframe tbody tr th {\n",
       "        vertical-align: top;\n",
       "    }\n",
       "\n",
       "    .dataframe thead th {\n",
       "        text-align: right;\n",
       "    }\n",
       "</style>\n",
       "<table border=\"1\" class=\"dataframe\">\n",
       "  <thead>\n",
       "    <tr style=\"text-align: right;\">\n",
       "      <th></th>\n",
       "      <th>Rating</th>\n",
       "      <th>Seating Capacity</th>\n",
       "      <th>Average Meal Price</th>\n",
       "      <th>Marketing Budget</th>\n",
       "      <th>Social Media Followers</th>\n",
       "      <th>Chef Experience Years</th>\n",
       "      <th>Number of Reviews</th>\n",
       "      <th>Avg Review Length</th>\n",
       "      <th>Ambience Score</th>\n",
       "      <th>Service Quality Score</th>\n",
       "      <th>...</th>\n",
       "      <th>Revenue</th>\n",
       "      <th>Location_Downtown</th>\n",
       "      <th>Location_Rural</th>\n",
       "      <th>Location_Suburban</th>\n",
       "      <th>Cuisine_American</th>\n",
       "      <th>Cuisine_French</th>\n",
       "      <th>Cuisine_Indian</th>\n",
       "      <th>Cuisine_Italian</th>\n",
       "      <th>Cuisine_Japanese</th>\n",
       "      <th>Cuisine_Mexican</th>\n",
       "    </tr>\n",
       "  </thead>\n",
       "  <tbody>\n",
       "    <tr>\n",
       "      <th>0</th>\n",
       "      <td>4.0</td>\n",
       "      <td>38</td>\n",
       "      <td>73.98</td>\n",
       "      <td>2224</td>\n",
       "      <td>23406</td>\n",
       "      <td>13</td>\n",
       "      <td>185</td>\n",
       "      <td>161.924906</td>\n",
       "      <td>1.3</td>\n",
       "      <td>7.0</td>\n",
       "      <td>...</td>\n",
       "      <td>638945.52</td>\n",
       "      <td>0</td>\n",
       "      <td>1</td>\n",
       "      <td>0</td>\n",
       "      <td>0</td>\n",
       "      <td>0</td>\n",
       "      <td>0</td>\n",
       "      <td>0</td>\n",
       "      <td>1</td>\n",
       "      <td>0</td>\n",
       "    </tr>\n",
       "    <tr>\n",
       "      <th>1</th>\n",
       "      <td>3.2</td>\n",
       "      <td>76</td>\n",
       "      <td>28.11</td>\n",
       "      <td>4416</td>\n",
       "      <td>42741</td>\n",
       "      <td>8</td>\n",
       "      <td>533</td>\n",
       "      <td>148.759717</td>\n",
       "      <td>2.6</td>\n",
       "      <td>3.4</td>\n",
       "      <td>...</td>\n",
       "      <td>490207.83</td>\n",
       "      <td>1</td>\n",
       "      <td>0</td>\n",
       "      <td>0</td>\n",
       "      <td>0</td>\n",
       "      <td>0</td>\n",
       "      <td>0</td>\n",
       "      <td>0</td>\n",
       "      <td>0</td>\n",
       "      <td>1</td>\n",
       "    </tr>\n",
       "    <tr>\n",
       "      <th>2</th>\n",
       "      <td>4.7</td>\n",
       "      <td>48</td>\n",
       "      <td>48.29</td>\n",
       "      <td>2796</td>\n",
       "      <td>37285</td>\n",
       "      <td>18</td>\n",
       "      <td>853</td>\n",
       "      <td>56.849189</td>\n",
       "      <td>5.3</td>\n",
       "      <td>6.7</td>\n",
       "      <td>...</td>\n",
       "      <td>541368.62</td>\n",
       "      <td>0</td>\n",
       "      <td>1</td>\n",
       "      <td>0</td>\n",
       "      <td>0</td>\n",
       "      <td>0</td>\n",
       "      <td>0</td>\n",
       "      <td>1</td>\n",
       "      <td>0</td>\n",
       "      <td>0</td>\n",
       "    </tr>\n",
       "    <tr>\n",
       "      <th>3</th>\n",
       "      <td>4.4</td>\n",
       "      <td>34</td>\n",
       "      <td>51.55</td>\n",
       "      <td>1167</td>\n",
       "      <td>15214</td>\n",
       "      <td>13</td>\n",
       "      <td>82</td>\n",
       "      <td>205.433265</td>\n",
       "      <td>4.6</td>\n",
       "      <td>2.8</td>\n",
       "      <td>...</td>\n",
       "      <td>404556.80</td>\n",
       "      <td>0</td>\n",
       "      <td>1</td>\n",
       "      <td>0</td>\n",
       "      <td>0</td>\n",
       "      <td>0</td>\n",
       "      <td>0</td>\n",
       "      <td>1</td>\n",
       "      <td>0</td>\n",
       "      <td>0</td>\n",
       "    </tr>\n",
       "    <tr>\n",
       "      <th>4</th>\n",
       "      <td>4.9</td>\n",
       "      <td>88</td>\n",
       "      <td>75.98</td>\n",
       "      <td>3639</td>\n",
       "      <td>40171</td>\n",
       "      <td>9</td>\n",
       "      <td>78</td>\n",
       "      <td>241.681584</td>\n",
       "      <td>8.6</td>\n",
       "      <td>2.1</td>\n",
       "      <td>...</td>\n",
       "      <td>1491046.35</td>\n",
       "      <td>1</td>\n",
       "      <td>0</td>\n",
       "      <td>0</td>\n",
       "      <td>0</td>\n",
       "      <td>0</td>\n",
       "      <td>0</td>\n",
       "      <td>0</td>\n",
       "      <td>1</td>\n",
       "      <td>0</td>\n",
       "    </tr>\n",
       "  </tbody>\n",
       "</table>\n",
       "<p>5 rows × 23 columns</p>\n",
       "</div>"
      ],
      "text/plain": [
       "   Rating  Seating Capacity  Average Meal Price  Marketing Budget  \\\n",
       "0     4.0                38               73.98              2224   \n",
       "1     3.2                76               28.11              4416   \n",
       "2     4.7                48               48.29              2796   \n",
       "3     4.4                34               51.55              1167   \n",
       "4     4.9                88               75.98              3639   \n",
       "\n",
       "   Social Media Followers  Chef Experience Years  Number of Reviews  \\\n",
       "0                   23406                     13                185   \n",
       "1                   42741                      8                533   \n",
       "2                   37285                     18                853   \n",
       "3                   15214                     13                 82   \n",
       "4                   40171                      9                 78   \n",
       "\n",
       "   Avg Review Length  Ambience Score  Service Quality Score  ...     Revenue  \\\n",
       "0         161.924906             1.3                    7.0  ...   638945.52   \n",
       "1         148.759717             2.6                    3.4  ...   490207.83   \n",
       "2          56.849189             5.3                    6.7  ...   541368.62   \n",
       "3         205.433265             4.6                    2.8  ...   404556.80   \n",
       "4         241.681584             8.6                    2.1  ...  1491046.35   \n",
       "\n",
       "   Location_Downtown  Location_Rural  Location_Suburban  Cuisine_American  \\\n",
       "0                  0               1                  0                 0   \n",
       "1                  1               0                  0                 0   \n",
       "2                  0               1                  0                 0   \n",
       "3                  0               1                  0                 0   \n",
       "4                  1               0                  0                 0   \n",
       "\n",
       "   Cuisine_French  Cuisine_Indian  Cuisine_Italian  Cuisine_Japanese  \\\n",
       "0               0               0                0                 1   \n",
       "1               0               0                0                 0   \n",
       "2               0               0                1                 0   \n",
       "3               0               0                1                 0   \n",
       "4               0               0                0                 1   \n",
       "\n",
       "   Cuisine_Mexican  \n",
       "0                0  \n",
       "1                1  \n",
       "2                0  \n",
       "3                0  \n",
       "4                0  \n",
       "\n",
       "[5 rows x 23 columns]"
      ]
     },
     "execution_count": 14,
     "metadata": {},
     "output_type": "execute_result"
    }
   ],
   "source": [
    "df.head()"
   ]
  },
  {
   "cell_type": "code",
   "execution_count": 15,
   "id": "8cc6a02c",
   "metadata": {
    "execution": {
     "iopub.execute_input": "2024-08-19T16:41:25.867508Z",
     "iopub.status.busy": "2024-08-19T16:41:25.867152Z",
     "iopub.status.idle": "2024-08-19T16:41:25.874491Z",
     "shell.execute_reply": "2024-08-19T16:41:25.873243Z"
    },
    "papermill": {
     "duration": 0.020396,
     "end_time": "2024-08-19T16:41:25.876720",
     "exception": false,
     "start_time": "2024-08-19T16:41:25.856324",
     "status": "completed"
    },
    "tags": []
   },
   "outputs": [
    {
     "name": "stdout",
     "output_type": "stream",
     "text": [
      "Rating float64\n",
      "Seating Capacity int64\n",
      "Average Meal Price float64\n",
      "Marketing Budget int64\n",
      "Social Media Followers int64\n",
      "Chef Experience Years int64\n",
      "Number of Reviews int64\n",
      "Avg Review Length float64\n",
      "Ambience Score float64\n",
      "Service Quality Score float64\n",
      "Parking Availability object\n",
      "Weekend Reservations int64\n",
      "Weekday Reservations int64\n",
      "Revenue float64\n",
      "Location_Downtown int64\n",
      "Location_Rural int64\n",
      "Location_Suburban int64\n",
      "Cuisine_American int64\n",
      "Cuisine_French int64\n",
      "Cuisine_Indian int64\n",
      "Cuisine_Italian int64\n",
      "Cuisine_Japanese int64\n",
      "Cuisine_Mexican int64\n"
     ]
    }
   ],
   "source": [
    "for i in df.columns:\n",
    "    print(i, df[i].dtypes)"
   ]
  },
  {
   "cell_type": "code",
   "execution_count": 16,
   "id": "bd3df347",
   "metadata": {
    "execution": {
     "iopub.execute_input": "2024-08-19T16:41:25.897759Z",
     "iopub.status.busy": "2024-08-19T16:41:25.897384Z",
     "iopub.status.idle": "2024-08-19T16:41:25.905983Z",
     "shell.execute_reply": "2024-08-19T16:41:25.904851Z"
    },
    "papermill": {
     "duration": 0.022026,
     "end_time": "2024-08-19T16:41:25.908537",
     "exception": false,
     "start_time": "2024-08-19T16:41:25.886511",
     "status": "completed"
    },
    "tags": []
   },
   "outputs": [
    {
     "data": {
      "text/plain": [
       "0    Yes\n",
       "1    Yes\n",
       "2     No\n",
       "3    Yes\n",
       "4     No\n",
       "Name: Parking Availability, dtype: object"
      ]
     },
     "execution_count": 16,
     "metadata": {},
     "output_type": "execute_result"
    }
   ],
   "source": [
    "df['Parking Availability'].head()"
   ]
  },
  {
   "cell_type": "code",
   "execution_count": 17,
   "id": "554cceed",
   "metadata": {
    "execution": {
     "iopub.execute_input": "2024-08-19T16:41:25.929703Z",
     "iopub.status.busy": "2024-08-19T16:41:25.929275Z",
     "iopub.status.idle": "2024-08-19T16:41:25.936652Z",
     "shell.execute_reply": "2024-08-19T16:41:25.935401Z"
    },
    "papermill": {
     "duration": 0.020672,
     "end_time": "2024-08-19T16:41:25.939006",
     "exception": false,
     "start_time": "2024-08-19T16:41:25.918334",
     "status": "completed"
    },
    "tags": []
   },
   "outputs": [],
   "source": [
    "df['Parking Availability'] = df['Parking Availability'].map({'Yes': 1, 'No': 0})"
   ]
  },
  {
   "cell_type": "markdown",
   "id": "fba250b0",
   "metadata": {
    "papermill": {
     "duration": 0.009402,
     "end_time": "2024-08-19T16:41:25.958205",
     "exception": false,
     "start_time": "2024-08-19T16:41:25.948803",
     "status": "completed"
    },
    "tags": []
   },
   "source": [
    "## Models Building"
   ]
  },
  {
   "cell_type": "markdown",
   "id": "a04506c8",
   "metadata": {
    "papermill": {
     "duration": 0.009262,
     "end_time": "2024-08-19T16:41:25.977208",
     "exception": false,
     "start_time": "2024-08-19T16:41:25.967946",
     "status": "completed"
    },
    "tags": []
   },
   "source": [
    "**Here we first try some models with deafult setting, and choose best perfomring model and do further hyperparameter tuning on it.**"
   ]
  },
  {
   "cell_type": "code",
   "execution_count": 18,
   "id": "d783384c",
   "metadata": {
    "execution": {
     "iopub.execute_input": "2024-08-19T16:41:25.998653Z",
     "iopub.status.busy": "2024-08-19T16:41:25.998303Z",
     "iopub.status.idle": "2024-08-19T16:41:26.012978Z",
     "shell.execute_reply": "2024-08-19T16:41:26.011818Z"
    },
    "papermill": {
     "duration": 0.0287,
     "end_time": "2024-08-19T16:41:26.015747",
     "exception": false,
     "start_time": "2024-08-19T16:41:25.987047",
     "status": "completed"
    },
    "tags": []
   },
   "outputs": [
    {
     "name": "stdout",
     "output_type": "stream",
     "text": [
      "Training data shape: (6694, 22)\n",
      "Testing data shape: (1674, 22)\n"
     ]
    }
   ],
   "source": [
    "# Define the features (X) and target variable (y)\n",
    "X = df.drop(columns=['Revenue'])\n",
    "y = df['Revenue']\n",
    "\n",
    "# Split the data into training and testing sets\n",
    "X_train, X_test, y_train, y_test = train_test_split(X, y, test_size=0.2, random_state=42)\n",
    "\n",
    "print(f\"Training data shape: {X_train.shape}\")\n",
    "print(f\"Testing data shape: {X_test.shape}\")\n"
   ]
  },
  {
   "cell_type": "markdown",
   "id": "9f401a43",
   "metadata": {
    "papermill": {
     "duration": 0.009711,
     "end_time": "2024-08-19T16:41:26.035561",
     "exception": false,
     "start_time": "2024-08-19T16:41:26.025850",
     "status": "completed"
    },
    "tags": []
   },
   "source": [
    "**Linear Regressor**"
   ]
  },
  {
   "cell_type": "code",
   "execution_count": 19,
   "id": "7d778954",
   "metadata": {
    "execution": {
     "iopub.execute_input": "2024-08-19T16:41:26.057251Z",
     "iopub.status.busy": "2024-08-19T16:41:26.056856Z",
     "iopub.status.idle": "2024-08-19T16:41:26.102392Z",
     "shell.execute_reply": "2024-08-19T16:41:26.101090Z"
    },
    "papermill": {
     "duration": 0.059794,
     "end_time": "2024-08-19T16:41:26.105495",
     "exception": false,
     "start_time": "2024-08-19T16:41:26.045701",
     "status": "completed"
    },
    "tags": []
   },
   "outputs": [
    {
     "data": {
      "text/html": [
       "<style>#sk-container-id-1 {color: black;background-color: white;}#sk-container-id-1 pre{padding: 0;}#sk-container-id-1 div.sk-toggleable {background-color: white;}#sk-container-id-1 label.sk-toggleable__label {cursor: pointer;display: block;width: 100%;margin-bottom: 0;padding: 0.3em;box-sizing: border-box;text-align: center;}#sk-container-id-1 label.sk-toggleable__label-arrow:before {content: \"▸\";float: left;margin-right: 0.25em;color: #696969;}#sk-container-id-1 label.sk-toggleable__label-arrow:hover:before {color: black;}#sk-container-id-1 div.sk-estimator:hover label.sk-toggleable__label-arrow:before {color: black;}#sk-container-id-1 div.sk-toggleable__content {max-height: 0;max-width: 0;overflow: hidden;text-align: left;background-color: #f0f8ff;}#sk-container-id-1 div.sk-toggleable__content pre {margin: 0.2em;color: black;border-radius: 0.25em;background-color: #f0f8ff;}#sk-container-id-1 input.sk-toggleable__control:checked~div.sk-toggleable__content {max-height: 200px;max-width: 100%;overflow: auto;}#sk-container-id-1 input.sk-toggleable__control:checked~label.sk-toggleable__label-arrow:before {content: \"▾\";}#sk-container-id-1 div.sk-estimator input.sk-toggleable__control:checked~label.sk-toggleable__label {background-color: #d4ebff;}#sk-container-id-1 div.sk-label input.sk-toggleable__control:checked~label.sk-toggleable__label {background-color: #d4ebff;}#sk-container-id-1 input.sk-hidden--visually {border: 0;clip: rect(1px 1px 1px 1px);clip: rect(1px, 1px, 1px, 1px);height: 1px;margin: -1px;overflow: hidden;padding: 0;position: absolute;width: 1px;}#sk-container-id-1 div.sk-estimator {font-family: monospace;background-color: #f0f8ff;border: 1px dotted black;border-radius: 0.25em;box-sizing: border-box;margin-bottom: 0.5em;}#sk-container-id-1 div.sk-estimator:hover {background-color: #d4ebff;}#sk-container-id-1 div.sk-parallel-item::after {content: \"\";width: 100%;border-bottom: 1px solid gray;flex-grow: 1;}#sk-container-id-1 div.sk-label:hover label.sk-toggleable__label {background-color: #d4ebff;}#sk-container-id-1 div.sk-serial::before {content: \"\";position: absolute;border-left: 1px solid gray;box-sizing: border-box;top: 0;bottom: 0;left: 50%;z-index: 0;}#sk-container-id-1 div.sk-serial {display: flex;flex-direction: column;align-items: center;background-color: white;padding-right: 0.2em;padding-left: 0.2em;position: relative;}#sk-container-id-1 div.sk-item {position: relative;z-index: 1;}#sk-container-id-1 div.sk-parallel {display: flex;align-items: stretch;justify-content: center;background-color: white;position: relative;}#sk-container-id-1 div.sk-item::before, #sk-container-id-1 div.sk-parallel-item::before {content: \"\";position: absolute;border-left: 1px solid gray;box-sizing: border-box;top: 0;bottom: 0;left: 50%;z-index: -1;}#sk-container-id-1 div.sk-parallel-item {display: flex;flex-direction: column;z-index: 1;position: relative;background-color: white;}#sk-container-id-1 div.sk-parallel-item:first-child::after {align-self: flex-end;width: 50%;}#sk-container-id-1 div.sk-parallel-item:last-child::after {align-self: flex-start;width: 50%;}#sk-container-id-1 div.sk-parallel-item:only-child::after {width: 0;}#sk-container-id-1 div.sk-dashed-wrapped {border: 1px dashed gray;margin: 0 0.4em 0.5em 0.4em;box-sizing: border-box;padding-bottom: 0.4em;background-color: white;}#sk-container-id-1 div.sk-label label {font-family: monospace;font-weight: bold;display: inline-block;line-height: 1.2em;}#sk-container-id-1 div.sk-label-container {text-align: center;}#sk-container-id-1 div.sk-container {/* jupyter's `normalize.less` sets `[hidden] { display: none; }` but bootstrap.min.css set `[hidden] { display: none !important; }` so we also need the `!important` here to be able to override the default hidden behavior on the sphinx rendered scikit-learn.org. See: https://github.com/scikit-learn/scikit-learn/issues/21755 */display: inline-block !important;position: relative;}#sk-container-id-1 div.sk-text-repr-fallback {display: none;}</style><div id=\"sk-container-id-1\" class=\"sk-top-container\"><div class=\"sk-text-repr-fallback\"><pre>LinearRegression()</pre><b>In a Jupyter environment, please rerun this cell to show the HTML representation or trust the notebook. <br />On GitHub, the HTML representation is unable to render, please try loading this page with nbviewer.org.</b></div><div class=\"sk-container\" hidden><div class=\"sk-item\"><div class=\"sk-estimator sk-toggleable\"><input class=\"sk-toggleable__control sk-hidden--visually\" id=\"sk-estimator-id-1\" type=\"checkbox\" checked><label for=\"sk-estimator-id-1\" class=\"sk-toggleable__label sk-toggleable__label-arrow\">LinearRegression</label><div class=\"sk-toggleable__content\"><pre>LinearRegression()</pre></div></div></div></div></div>"
      ],
      "text/plain": [
       "LinearRegression()"
      ]
     },
     "execution_count": 19,
     "metadata": {},
     "output_type": "execute_result"
    }
   ],
   "source": [
    "# Initialize the model\n",
    "LRegressor = LinearRegression()\n",
    "\n",
    "# Train the model on the training data\n",
    "LRegressor.fit(X_train, y_train)"
   ]
  },
  {
   "cell_type": "code",
   "execution_count": 20,
   "id": "da3d2d78",
   "metadata": {
    "execution": {
     "iopub.execute_input": "2024-08-19T16:41:26.142944Z",
     "iopub.status.busy": "2024-08-19T16:41:26.142364Z",
     "iopub.status.idle": "2024-08-19T16:41:26.157695Z",
     "shell.execute_reply": "2024-08-19T16:41:26.156384Z"
    },
    "papermill": {
     "duration": 0.038031,
     "end_time": "2024-08-19T16:41:26.160957",
     "exception": false,
     "start_time": "2024-08-19T16:41:26.122926",
     "status": "completed"
    },
    "tags": []
   },
   "outputs": [],
   "source": [
    "y_pred = LRegressor.predict(X_test)"
   ]
  },
  {
   "cell_type": "code",
   "execution_count": 21,
   "id": "2e55b856",
   "metadata": {
    "execution": {
     "iopub.execute_input": "2024-08-19T16:41:26.225398Z",
     "iopub.status.busy": "2024-08-19T16:41:26.224822Z",
     "iopub.status.idle": "2024-08-19T16:41:26.233650Z",
     "shell.execute_reply": "2024-08-19T16:41:26.232448Z"
    },
    "papermill": {
     "duration": 0.033678,
     "end_time": "2024-08-19T16:41:26.236976",
     "exception": false,
     "start_time": "2024-08-19T16:41:26.203298",
     "status": "completed"
    },
    "tags": []
   },
   "outputs": [],
   "source": [
    "mse = mean_squared_error(y_test, y_pred)\n",
    "r2 = r2_score(y_test, y_pred)\n",
    "mae = mean_absolute_error(y_test, y_pred)"
   ]
  },
  {
   "cell_type": "code",
   "execution_count": 22,
   "id": "2d0fc2b5",
   "metadata": {
    "execution": {
     "iopub.execute_input": "2024-08-19T16:41:26.273192Z",
     "iopub.status.busy": "2024-08-19T16:41:26.272778Z",
     "iopub.status.idle": "2024-08-19T16:41:26.278732Z",
     "shell.execute_reply": "2024-08-19T16:41:26.277651Z"
    },
    "papermill": {
     "duration": 0.026885,
     "end_time": "2024-08-19T16:41:26.281395",
     "exception": false,
     "start_time": "2024-08-19T16:41:26.254510",
     "status": "completed"
    },
    "tags": []
   },
   "outputs": [
    {
     "name": "stdout",
     "output_type": "stream",
     "text": [
      "Mean Squared Error: 3193598831.241753\n",
      "R-squared: 0.9554413593451654\n",
      "Mean Absolute Error: 43217.24979806238\n"
     ]
    }
   ],
   "source": [
    "print(\"Mean Squared Error:\", mse)\n",
    "print(\"R-squared:\", r2)\n",
    "print(\"Mean Absolute Error:\", mae)"
   ]
  },
  {
   "cell_type": "markdown",
   "id": "712ebe77",
   "metadata": {
    "papermill": {
     "duration": 0.009774,
     "end_time": "2024-08-19T16:41:26.301337",
     "exception": false,
     "start_time": "2024-08-19T16:41:26.291563",
     "status": "completed"
    },
    "tags": []
   },
   "source": [
    "**Gradient Boost Regressor**"
   ]
  },
  {
   "cell_type": "code",
   "execution_count": 23,
   "id": "05ce76b0",
   "metadata": {
    "execution": {
     "iopub.execute_input": "2024-08-19T16:41:26.323498Z",
     "iopub.status.busy": "2024-08-19T16:41:26.323100Z",
     "iopub.status.idle": "2024-08-19T16:41:28.367261Z",
     "shell.execute_reply": "2024-08-19T16:41:28.366204Z"
    },
    "papermill": {
     "duration": 2.057814,
     "end_time": "2024-08-19T16:41:28.369467",
     "exception": false,
     "start_time": "2024-08-19T16:41:26.311653",
     "status": "completed"
    },
    "tags": []
   },
   "outputs": [
    {
     "data": {
      "text/html": [
       "<style>#sk-container-id-2 {color: black;background-color: white;}#sk-container-id-2 pre{padding: 0;}#sk-container-id-2 div.sk-toggleable {background-color: white;}#sk-container-id-2 label.sk-toggleable__label {cursor: pointer;display: block;width: 100%;margin-bottom: 0;padding: 0.3em;box-sizing: border-box;text-align: center;}#sk-container-id-2 label.sk-toggleable__label-arrow:before {content: \"▸\";float: left;margin-right: 0.25em;color: #696969;}#sk-container-id-2 label.sk-toggleable__label-arrow:hover:before {color: black;}#sk-container-id-2 div.sk-estimator:hover label.sk-toggleable__label-arrow:before {color: black;}#sk-container-id-2 div.sk-toggleable__content {max-height: 0;max-width: 0;overflow: hidden;text-align: left;background-color: #f0f8ff;}#sk-container-id-2 div.sk-toggleable__content pre {margin: 0.2em;color: black;border-radius: 0.25em;background-color: #f0f8ff;}#sk-container-id-2 input.sk-toggleable__control:checked~div.sk-toggleable__content {max-height: 200px;max-width: 100%;overflow: auto;}#sk-container-id-2 input.sk-toggleable__control:checked~label.sk-toggleable__label-arrow:before {content: \"▾\";}#sk-container-id-2 div.sk-estimator input.sk-toggleable__control:checked~label.sk-toggleable__label {background-color: #d4ebff;}#sk-container-id-2 div.sk-label input.sk-toggleable__control:checked~label.sk-toggleable__label {background-color: #d4ebff;}#sk-container-id-2 input.sk-hidden--visually {border: 0;clip: rect(1px 1px 1px 1px);clip: rect(1px, 1px, 1px, 1px);height: 1px;margin: -1px;overflow: hidden;padding: 0;position: absolute;width: 1px;}#sk-container-id-2 div.sk-estimator {font-family: monospace;background-color: #f0f8ff;border: 1px dotted black;border-radius: 0.25em;box-sizing: border-box;margin-bottom: 0.5em;}#sk-container-id-2 div.sk-estimator:hover {background-color: #d4ebff;}#sk-container-id-2 div.sk-parallel-item::after {content: \"\";width: 100%;border-bottom: 1px solid gray;flex-grow: 1;}#sk-container-id-2 div.sk-label:hover label.sk-toggleable__label {background-color: #d4ebff;}#sk-container-id-2 div.sk-serial::before {content: \"\";position: absolute;border-left: 1px solid gray;box-sizing: border-box;top: 0;bottom: 0;left: 50%;z-index: 0;}#sk-container-id-2 div.sk-serial {display: flex;flex-direction: column;align-items: center;background-color: white;padding-right: 0.2em;padding-left: 0.2em;position: relative;}#sk-container-id-2 div.sk-item {position: relative;z-index: 1;}#sk-container-id-2 div.sk-parallel {display: flex;align-items: stretch;justify-content: center;background-color: white;position: relative;}#sk-container-id-2 div.sk-item::before, #sk-container-id-2 div.sk-parallel-item::before {content: \"\";position: absolute;border-left: 1px solid gray;box-sizing: border-box;top: 0;bottom: 0;left: 50%;z-index: -1;}#sk-container-id-2 div.sk-parallel-item {display: flex;flex-direction: column;z-index: 1;position: relative;background-color: white;}#sk-container-id-2 div.sk-parallel-item:first-child::after {align-self: flex-end;width: 50%;}#sk-container-id-2 div.sk-parallel-item:last-child::after {align-self: flex-start;width: 50%;}#sk-container-id-2 div.sk-parallel-item:only-child::after {width: 0;}#sk-container-id-2 div.sk-dashed-wrapped {border: 1px dashed gray;margin: 0 0.4em 0.5em 0.4em;box-sizing: border-box;padding-bottom: 0.4em;background-color: white;}#sk-container-id-2 div.sk-label label {font-family: monospace;font-weight: bold;display: inline-block;line-height: 1.2em;}#sk-container-id-2 div.sk-label-container {text-align: center;}#sk-container-id-2 div.sk-container {/* jupyter's `normalize.less` sets `[hidden] { display: none; }` but bootstrap.min.css set `[hidden] { display: none !important; }` so we also need the `!important` here to be able to override the default hidden behavior on the sphinx rendered scikit-learn.org. See: https://github.com/scikit-learn/scikit-learn/issues/21755 */display: inline-block !important;position: relative;}#sk-container-id-2 div.sk-text-repr-fallback {display: none;}</style><div id=\"sk-container-id-2\" class=\"sk-top-container\"><div class=\"sk-text-repr-fallback\"><pre>GradientBoostingRegressor()</pre><b>In a Jupyter environment, please rerun this cell to show the HTML representation or trust the notebook. <br />On GitHub, the HTML representation is unable to render, please try loading this page with nbviewer.org.</b></div><div class=\"sk-container\" hidden><div class=\"sk-item\"><div class=\"sk-estimator sk-toggleable\"><input class=\"sk-toggleable__control sk-hidden--visually\" id=\"sk-estimator-id-2\" type=\"checkbox\" checked><label for=\"sk-estimator-id-2\" class=\"sk-toggleable__label sk-toggleable__label-arrow\">GradientBoostingRegressor</label><div class=\"sk-toggleable__content\"><pre>GradientBoostingRegressor()</pre></div></div></div></div></div>"
      ],
      "text/plain": [
       "GradientBoostingRegressor()"
      ]
     },
     "execution_count": 23,
     "metadata": {},
     "output_type": "execute_result"
    }
   ],
   "source": [
    "GBRegressor = GradientBoostingRegressor()\n",
    "GBRegressor.fit(X_train,y_train)"
   ]
  },
  {
   "cell_type": "code",
   "execution_count": 24,
   "id": "da1481ab",
   "metadata": {
    "execution": {
     "iopub.execute_input": "2024-08-19T16:41:28.393354Z",
     "iopub.status.busy": "2024-08-19T16:41:28.392897Z",
     "iopub.status.idle": "2024-08-19T16:41:28.404275Z",
     "shell.execute_reply": "2024-08-19T16:41:28.403073Z"
    },
    "papermill": {
     "duration": 0.02688,
     "end_time": "2024-08-19T16:41:28.406934",
     "exception": false,
     "start_time": "2024-08-19T16:41:28.380054",
     "status": "completed"
    },
    "tags": []
   },
   "outputs": [],
   "source": [
    "y_pred2 = GBRegressor.predict(X_test)"
   ]
  },
  {
   "cell_type": "code",
   "execution_count": 25,
   "id": "7f2c263f",
   "metadata": {
    "execution": {
     "iopub.execute_input": "2024-08-19T16:41:28.429584Z",
     "iopub.status.busy": "2024-08-19T16:41:28.429219Z",
     "iopub.status.idle": "2024-08-19T16:41:28.437410Z",
     "shell.execute_reply": "2024-08-19T16:41:28.436288Z"
    },
    "papermill": {
     "duration": 0.022269,
     "end_time": "2024-08-19T16:41:28.439811",
     "exception": false,
     "start_time": "2024-08-19T16:41:28.417542",
     "status": "completed"
    },
    "tags": []
   },
   "outputs": [],
   "source": [
    "mse = mean_squared_error(y_test, y_pred2)\n",
    "r2 = r2_score(y_test, y_pred2)\n",
    "mae = mean_absolute_error(y_test, y_pred2)"
   ]
  },
  {
   "cell_type": "code",
   "execution_count": 26,
   "id": "3ad0dbdb",
   "metadata": {
    "execution": {
     "iopub.execute_input": "2024-08-19T16:41:28.462406Z",
     "iopub.status.busy": "2024-08-19T16:41:28.462028Z",
     "iopub.status.idle": "2024-08-19T16:41:28.468525Z",
     "shell.execute_reply": "2024-08-19T16:41:28.467479Z"
    },
    "papermill": {
     "duration": 0.020781,
     "end_time": "2024-08-19T16:41:28.470968",
     "exception": false,
     "start_time": "2024-08-19T16:41:28.450187",
     "status": "completed"
    },
    "tags": []
   },
   "outputs": [
    {
     "name": "stdout",
     "output_type": "stream",
     "text": [
      "Mean Squared Error: 98654797.52795123\n",
      "R-squared: 0.9986235203905638\n",
      "Mean Absolute Error: 7699.2041144357045\n"
     ]
    }
   ],
   "source": [
    "print(\"Mean Squared Error:\", mse)\n",
    "print(\"R-squared:\", r2)\n",
    "print(\"Mean Absolute Error:\", mae)"
   ]
  },
  {
   "cell_type": "markdown",
   "id": "b3796e2d",
   "metadata": {
    "papermill": {
     "duration": 0.009994,
     "end_time": "2024-08-19T16:41:28.491556",
     "exception": false,
     "start_time": "2024-08-19T16:41:28.481562",
     "status": "completed"
    },
    "tags": []
   },
   "source": [
    "**Decision Tree Regressor**"
   ]
  },
  {
   "cell_type": "code",
   "execution_count": 27,
   "id": "f21bcf84",
   "metadata": {
    "execution": {
     "iopub.execute_input": "2024-08-19T16:41:28.514312Z",
     "iopub.status.busy": "2024-08-19T16:41:28.513907Z",
     "iopub.status.idle": "2024-08-19T16:41:28.604538Z",
     "shell.execute_reply": "2024-08-19T16:41:28.603238Z"
    },
    "papermill": {
     "duration": 0.104981,
     "end_time": "2024-08-19T16:41:28.607183",
     "exception": false,
     "start_time": "2024-08-19T16:41:28.502202",
     "status": "completed"
    },
    "tags": []
   },
   "outputs": [
    {
     "data": {
      "text/html": [
       "<style>#sk-container-id-3 {color: black;background-color: white;}#sk-container-id-3 pre{padding: 0;}#sk-container-id-3 div.sk-toggleable {background-color: white;}#sk-container-id-3 label.sk-toggleable__label {cursor: pointer;display: block;width: 100%;margin-bottom: 0;padding: 0.3em;box-sizing: border-box;text-align: center;}#sk-container-id-3 label.sk-toggleable__label-arrow:before {content: \"▸\";float: left;margin-right: 0.25em;color: #696969;}#sk-container-id-3 label.sk-toggleable__label-arrow:hover:before {color: black;}#sk-container-id-3 div.sk-estimator:hover label.sk-toggleable__label-arrow:before {color: black;}#sk-container-id-3 div.sk-toggleable__content {max-height: 0;max-width: 0;overflow: hidden;text-align: left;background-color: #f0f8ff;}#sk-container-id-3 div.sk-toggleable__content pre {margin: 0.2em;color: black;border-radius: 0.25em;background-color: #f0f8ff;}#sk-container-id-3 input.sk-toggleable__control:checked~div.sk-toggleable__content {max-height: 200px;max-width: 100%;overflow: auto;}#sk-container-id-3 input.sk-toggleable__control:checked~label.sk-toggleable__label-arrow:before {content: \"▾\";}#sk-container-id-3 div.sk-estimator input.sk-toggleable__control:checked~label.sk-toggleable__label {background-color: #d4ebff;}#sk-container-id-3 div.sk-label input.sk-toggleable__control:checked~label.sk-toggleable__label {background-color: #d4ebff;}#sk-container-id-3 input.sk-hidden--visually {border: 0;clip: rect(1px 1px 1px 1px);clip: rect(1px, 1px, 1px, 1px);height: 1px;margin: -1px;overflow: hidden;padding: 0;position: absolute;width: 1px;}#sk-container-id-3 div.sk-estimator {font-family: monospace;background-color: #f0f8ff;border: 1px dotted black;border-radius: 0.25em;box-sizing: border-box;margin-bottom: 0.5em;}#sk-container-id-3 div.sk-estimator:hover {background-color: #d4ebff;}#sk-container-id-3 div.sk-parallel-item::after {content: \"\";width: 100%;border-bottom: 1px solid gray;flex-grow: 1;}#sk-container-id-3 div.sk-label:hover label.sk-toggleable__label {background-color: #d4ebff;}#sk-container-id-3 div.sk-serial::before {content: \"\";position: absolute;border-left: 1px solid gray;box-sizing: border-box;top: 0;bottom: 0;left: 50%;z-index: 0;}#sk-container-id-3 div.sk-serial {display: flex;flex-direction: column;align-items: center;background-color: white;padding-right: 0.2em;padding-left: 0.2em;position: relative;}#sk-container-id-3 div.sk-item {position: relative;z-index: 1;}#sk-container-id-3 div.sk-parallel {display: flex;align-items: stretch;justify-content: center;background-color: white;position: relative;}#sk-container-id-3 div.sk-item::before, #sk-container-id-3 div.sk-parallel-item::before {content: \"\";position: absolute;border-left: 1px solid gray;box-sizing: border-box;top: 0;bottom: 0;left: 50%;z-index: -1;}#sk-container-id-3 div.sk-parallel-item {display: flex;flex-direction: column;z-index: 1;position: relative;background-color: white;}#sk-container-id-3 div.sk-parallel-item:first-child::after {align-self: flex-end;width: 50%;}#sk-container-id-3 div.sk-parallel-item:last-child::after {align-self: flex-start;width: 50%;}#sk-container-id-3 div.sk-parallel-item:only-child::after {width: 0;}#sk-container-id-3 div.sk-dashed-wrapped {border: 1px dashed gray;margin: 0 0.4em 0.5em 0.4em;box-sizing: border-box;padding-bottom: 0.4em;background-color: white;}#sk-container-id-3 div.sk-label label {font-family: monospace;font-weight: bold;display: inline-block;line-height: 1.2em;}#sk-container-id-3 div.sk-label-container {text-align: center;}#sk-container-id-3 div.sk-container {/* jupyter's `normalize.less` sets `[hidden] { display: none; }` but bootstrap.min.css set `[hidden] { display: none !important; }` so we also need the `!important` here to be able to override the default hidden behavior on the sphinx rendered scikit-learn.org. See: https://github.com/scikit-learn/scikit-learn/issues/21755 */display: inline-block !important;position: relative;}#sk-container-id-3 div.sk-text-repr-fallback {display: none;}</style><div id=\"sk-container-id-3\" class=\"sk-top-container\"><div class=\"sk-text-repr-fallback\"><pre>DecisionTreeRegressor()</pre><b>In a Jupyter environment, please rerun this cell to show the HTML representation or trust the notebook. <br />On GitHub, the HTML representation is unable to render, please try loading this page with nbviewer.org.</b></div><div class=\"sk-container\" hidden><div class=\"sk-item\"><div class=\"sk-estimator sk-toggleable\"><input class=\"sk-toggleable__control sk-hidden--visually\" id=\"sk-estimator-id-3\" type=\"checkbox\" checked><label for=\"sk-estimator-id-3\" class=\"sk-toggleable__label sk-toggleable__label-arrow\">DecisionTreeRegressor</label><div class=\"sk-toggleable__content\"><pre>DecisionTreeRegressor()</pre></div></div></div></div></div>"
      ],
      "text/plain": [
       "DecisionTreeRegressor()"
      ]
     },
     "execution_count": 27,
     "metadata": {},
     "output_type": "execute_result"
    }
   ],
   "source": [
    "DTRegressor = DecisionTreeRegressor()\n",
    "DTRegressor.fit(X_train,y_train)"
   ]
  },
  {
   "cell_type": "code",
   "execution_count": 28,
   "id": "035787c7",
   "metadata": {
    "execution": {
     "iopub.execute_input": "2024-08-19T16:41:28.630792Z",
     "iopub.status.busy": "2024-08-19T16:41:28.629826Z",
     "iopub.status.idle": "2024-08-19T16:41:28.638414Z",
     "shell.execute_reply": "2024-08-19T16:41:28.637265Z"
    },
    "papermill": {
     "duration": 0.02296,
     "end_time": "2024-08-19T16:41:28.640891",
     "exception": false,
     "start_time": "2024-08-19T16:41:28.617931",
     "status": "completed"
    },
    "tags": []
   },
   "outputs": [],
   "source": [
    "y_pred3 = DTRegressor.predict(X_test)"
   ]
  },
  {
   "cell_type": "code",
   "execution_count": 29,
   "id": "18e82128",
   "metadata": {
    "execution": {
     "iopub.execute_input": "2024-08-19T16:41:28.664398Z",
     "iopub.status.busy": "2024-08-19T16:41:28.663633Z",
     "iopub.status.idle": "2024-08-19T16:41:28.671623Z",
     "shell.execute_reply": "2024-08-19T16:41:28.670238Z"
    },
    "papermill": {
     "duration": 0.022014,
     "end_time": "2024-08-19T16:41:28.673823",
     "exception": false,
     "start_time": "2024-08-19T16:41:28.651809",
     "status": "completed"
    },
    "tags": []
   },
   "outputs": [],
   "source": [
    "mse = mean_squared_error(y_test, y_pred3)\n",
    "r2 = r2_score(y_test, y_pred3)\n",
    "mae = mean_absolute_error(y_test, y_pred3)"
   ]
  },
  {
   "cell_type": "code",
   "execution_count": 30,
   "id": "185b9763",
   "metadata": {
    "execution": {
     "iopub.execute_input": "2024-08-19T16:41:28.698027Z",
     "iopub.status.busy": "2024-08-19T16:41:28.697607Z",
     "iopub.status.idle": "2024-08-19T16:41:28.703866Z",
     "shell.execute_reply": "2024-08-19T16:41:28.702596Z"
    },
    "papermill": {
     "duration": 0.02205,
     "end_time": "2024-08-19T16:41:28.706636",
     "exception": false,
     "start_time": "2024-08-19T16:41:28.684586",
     "status": "completed"
    },
    "tags": []
   },
   "outputs": [
    {
     "name": "stdout",
     "output_type": "stream",
     "text": [
      "Mean Squared Error: 229045645.91253388\n",
      "R-squared: 0.9968042439989864\n",
      "Mean Absolute Error: 11606.510340501789\n"
     ]
    }
   ],
   "source": [
    "print(\"Mean Squared Error:\", mse)\n",
    "print(\"R-squared:\", r2)\n",
    "print(\"Mean Absolute Error:\", mae)"
   ]
  },
  {
   "cell_type": "code",
   "execution_count": null,
   "id": "7354590d",
   "metadata": {
    "papermill": {
     "duration": 0.010761,
     "end_time": "2024-08-19T16:41:28.728457",
     "exception": false,
     "start_time": "2024-08-19T16:41:28.717696",
     "status": "completed"
    },
    "tags": []
   },
   "outputs": [],
   "source": []
  }
 ],
 "metadata": {
  "kaggle": {
   "accelerator": "none",
   "dataSources": [
    {
     "datasetId": 5289783,
     "sourceId": 8797164,
     "sourceType": "datasetVersion"
    }
   ],
   "dockerImageVersionId": 30746,
   "isGpuEnabled": false,
   "isInternetEnabled": false,
   "language": "python",
   "sourceType": "notebook"
  },
  "kernelspec": {
   "display_name": "Python 3",
   "language": "python",
   "name": "python3"
  },
  "language_info": {
   "codemirror_mode": {
    "name": "ipython",
    "version": 3
   },
   "file_extension": ".py",
   "mimetype": "text/x-python",
   "name": "python",
   "nbconvert_exporter": "python",
   "pygments_lexer": "ipython3",
   "version": "3.10.13"
  },
  "papermill": {
   "default_parameters": {},
   "duration": 9.472513,
   "end_time": "2024-08-19T16:41:29.362086",
   "environment_variables": {},
   "exception": null,
   "input_path": "__notebook__.ipynb",
   "output_path": "__notebook__.ipynb",
   "parameters": {},
   "start_time": "2024-08-19T16:41:19.889573",
   "version": "2.5.0"
  }
 },
 "nbformat": 4,
 "nbformat_minor": 5
}
